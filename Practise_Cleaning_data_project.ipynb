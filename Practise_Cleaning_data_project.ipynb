{
 "cells": [
  {
   "cell_type": "markdown",
   "id": "42aa3dea",
   "metadata": {},
   "source": [
    "# The Project: SAT - standardizing test: What's the indicator effect and vice-versa?"
   ]
  },
  {
   "cell_type": "markdown",
   "id": "08f7d74a",
   "metadata": {},
   "source": [
    "In this demo project, we will dig into the topic of _US education system_, and the sector is that __is there any efficacy of standardizing the test?__ Because this test score will be a pass-assist of high school students when one's wants to apply for College, does the standardizing have unfair to some certain group?? To investigate this sector, we will focus on the relation of __SAT scores__ and demographic information. We could correlate SAT scores with factors like __race, gender, income,__ and more."
   ]
  },
  {
   "cell_type": "markdown",
   "id": "f89e6811",
   "metadata": {},
   "source": [
    "The __SAT__, or Scholastic Aptitude Test, is an exam that U.S. high school students take before applying to college. Colleges take the test scores into account when deciding who to admit, so it's important to perform well. "
   ]
  },
  {
   "cell_type": "markdown",
   "id": "287854b7",
   "metadata": {},
   "source": [
    "The test consists of _three sections_, each of which has _800 possible points_. The combined score is out of 2,400 possible points (while this number has changed a few times, the dataset for our project is based on 2,400 total points). Organizations often rank high schools by their average SAT scores. The scores are also considered a measure of overall school district quality."
   ]
  },
  {
   "cell_type": "markdown",
   "id": "676f0911",
   "metadata": {},
   "source": [
    "The data of [high school SAT score](https://data.cityofnewyork.us/Education/2012-SAT-Results/f9bf-2cp4) and [NYC demographics for each high school](https://data.cityofnewyork.us/Education/2014-2015-DOE-High-School-Directory/n3p6-zve2) is avaiable on NYC data website."
   ]
  },
  {
   "cell_type": "markdown",
   "id": "e8e0a544",
   "metadata": {},
   "source": [
    "There is some picture of these data, and one thing we can observe that if we just work with these 2 dataset, we can't take full of infromation that we want for our analysis, so we have to gather information from somewhere else and combine it"
   ]
  },
  {
   "cell_type": "markdown",
   "id": "6a703155",
   "metadata": {},
   "source": [
    "![Image](https://s3.amazonaws.com/dq-content/sat.png)"
   ]
  },
  {
   "cell_type": "markdown",
   "id": "e4cf2e8a",
   "metadata": {},
   "source": [
    "Below is some website about dataset that covering SAT score and demographics information, but we have to take from each website, and gather it - due to the dataset is iterrelated - on the one dataset before we can start.\n",
    "\n",
    "- [SAT score by the school](https://data.cityofnewyork.us/Education/2012-SAT-Results/f9bf-2cp4): SAT scores for each high school in New York City\n",
    "- [School attendance](https://data.cityofnewyork.us/Education/2010-2011-School-Attendance-and-Enrollment-Statist/7z8d-msnt): Attendance information for each school in New York City\n",
    "- [Class size](https://data.cityofnewyork.us/Education/2010-2011-Class-Size-School-level-detail/urz7-pzb3):Information on class size for each school\n",
    "- [AP test results](https://data.cityofnewyork.us/Education/2010-AP-College-Board-School-Level-Results/itfs-ms3e):Advanced Placement (AP) exam results for each high school (passing an optional AP exam in a particular subject can earn a student college credit in that subject)\n",
    "- [Graduations outcome](https://data.cityofnewyork.us/Education/2005-2010-Graduation-Outcomes-School-Level/vh2h-md7a):the percentage of students who graduated, and other outcome information\n",
    "- [Demographics](https://data.cityofnewyork.us/Education/2006-2012-School-Demographics-and-Accountability-S/ihfw-zy9j):Demographic information for each school\n",
    "- [School Survey](https://data.cityofnewyork.us/Education/2011-NYC-School-Survey/mnz3-dyi8): Surveys of parents, teachers, and students at each school"
   ]
  },
  {
   "cell_type": "markdown",
   "id": "3179cf18",
   "metadata": {},
   "source": [
    "## MISSION A: LOADING RAW DATA - PRE-PROCESSING PART 1"
   ]
  },
  {
   "cell_type": "markdown",
   "id": "a6ec8a9a",
   "metadata": {},
   "source": [
    "# Sub-mission 1: Find the background of information"
   ]
  },
  {
   "cell_type": "markdown",
   "id": "6a154916",
   "metadata": {},
   "source": [
    "Before we move into coding, we'll need to do some __background research__. A thorough understanding of the data helps us _avoid costly mistakes_, such as thinking that _a column represents something other than what it does_. Background research gives us a better understanding of __how to combine and analyze the data__. We'll reseacrch about these source:\n",
    "- [New York City](https://en.wikipedia.org/wiki/New_York_City)\n",
    "- [SAT](https://en.wikipedia.org/wiki/SAT)\n",
    "- [School in New York City](https://en.wikipedia.org/wiki/List_of_high_schools_in_New_York_City)\n",
    "- [The data using for this demo project](https://data.cityofnewyork.us/browse?category=Education)"
   ]
  },
  {
   "cell_type": "markdown",
   "id": "798b2039",
   "metadata": {},
   "source": [
    "By the reseach, we've observed some information:\n",
    "- SAT test is critical step for high school __juniors, seniors__ student => We can remove all of range below high school student (below __grade 9__)\n",
    "- New York City have 5 distinct borough, which contains a dozen of schools, and not all these are high school => We need some data cleaning to only take the high school\n",
    "- Each borough have its own DBN (distric borough number) => we can combine by this value\n",
    "- Aggregating data by district allows us to use the district mapping data to plot district-by-district differences."
   ]
  },
  {
   "cell_type": "markdown",
   "id": "58dc1eca",
   "metadata": {},
   "source": [
    "# Sub-mission 2: Read data in"
   ]
  },
  {
   "cell_type": "code",
   "execution_count": 1,
   "id": "dc730432",
   "metadata": {},
   "outputs": [],
   "source": [
    "import pandas as pd\n",
    "import numpy as np\n",
    "import matplotlib.pyplot as plt\n",
    "%matplotlib inline\n",
    "import seaborn as sns"
   ]
  },
  {
   "cell_type": "markdown",
   "id": "8b602af9",
   "metadata": {},
   "source": [
    "Since we have serveral files, we will read the file name from the list, and then store it in a dictionary for the after convenient."
   ]
  },
  {
   "cell_type": "code",
   "execution_count": 2,
   "id": "508ac23d",
   "metadata": {},
   "outputs": [],
   "source": [
    "## Create function to open file:\n",
    "def open_file(file_name):\n",
    "    file = pd.read_csv('schools/{}'.format(file_name))\n",
    "    return file\n",
    "\n",
    "## Create a list of colum name:\n",
    "data_files = [\n",
    "    \"ap_2010.csv\",\n",
    "    \"class_size.csv\",\n",
    "    \"demographics.csv\",\n",
    "    \"graduations.csv\",\n",
    "    \"hs_directory.csv\",\n",
    "    \"sat_results.csv\"\n",
    "]\n",
    "\n",
    "data = {}\n",
    "for i in data_files:\n",
    "    key = i.replace('.csv','') ## extract the name of file\n",
    "    d = open_file(i)\n",
    "    data[key] = d"
   ]
  },
  {
   "cell_type": "code",
   "execution_count": 3,
   "id": "3ee96c21",
   "metadata": {},
   "outputs": [
    {
     "name": "stdout",
     "output_type": "stream",
     "text": [
      "ap_2010\n",
      "class_size\n",
      "demographics\n",
      "graduations\n",
      "hs_directory\n",
      "sat_results\n"
     ]
    }
   ],
   "source": [
    "## Check:\n",
    "for key, value in data.items():\n",
    "    print(key)"
   ]
  },
  {
   "cell_type": "markdown",
   "id": "5ed09c1c",
   "metadata": {},
   "source": [
    "# Sub-mission 3: Explore SAT data:"
   ]
  },
  {
   "cell_type": "markdown",
   "id": "5bb2e817",
   "metadata": {},
   "source": [
    "Since the main interest of us is SAT score data, now let's take a look for a few records in key 'sat_results' on data dictionaries."
   ]
  },
  {
   "cell_type": "code",
   "execution_count": 4,
   "id": "132e30d3",
   "metadata": {
    "scrolled": true
   },
   "outputs": [
    {
     "name": "stdout",
     "output_type": "stream",
     "text": [
      "      DBN                                    SCHOOL NAME  \\\n",
      "0  01M292  HENRY STREET SCHOOL FOR INTERNATIONAL STUDIES   \n",
      "1  01M448            UNIVERSITY NEIGHBORHOOD HIGH SCHOOL   \n",
      "2  01M450                     EAST SIDE COMMUNITY SCHOOL   \n",
      "3  01M458                      FORSYTH SATELLITE ACADEMY   \n",
      "4  01M509                        MARTA VALLE HIGH SCHOOL   \n",
      "\n",
      "  Num of SAT Test Takers SAT Critical Reading Avg. Score SAT Math Avg. Score  \\\n",
      "0                     29                             355                 404   \n",
      "1                     91                             383                 423   \n",
      "2                     70                             377                 402   \n",
      "3                      7                             414                 401   \n",
      "4                     44                             390                 433   \n",
      "\n",
      "  SAT Writing Avg. Score  \n",
      "0                    363  \n",
      "1                    366  \n",
      "2                    370  \n",
      "3                    359  \n",
      "4                    384  \n"
     ]
    }
   ],
   "source": [
    "## Extract some records of SAT data:\n",
    "print(data['sat_results'].head())"
   ]
  },
  {
   "cell_type": "code",
   "execution_count": 5,
   "id": "95ef904e",
   "metadata": {},
   "outputs": [
    {
     "name": "stdout",
     "output_type": "stream",
     "text": [
      "<class 'pandas.core.frame.DataFrame'>\n",
      "RangeIndex: 478 entries, 0 to 477\n",
      "Data columns (total 6 columns):\n",
      " #   Column                           Non-Null Count  Dtype \n",
      "---  ------                           --------------  ----- \n",
      " 0   DBN                              478 non-null    object\n",
      " 1   SCHOOL NAME                      478 non-null    object\n",
      " 2   Num of SAT Test Takers           478 non-null    object\n",
      " 3   SAT Critical Reading Avg. Score  478 non-null    object\n",
      " 4   SAT Math Avg. Score              478 non-null    object\n",
      " 5   SAT Writing Avg. Score           478 non-null    object\n",
      "dtypes: object(6)\n",
      "memory usage: 22.5+ KB\n"
     ]
    }
   ],
   "source": [
    "data['sat_results'].info()"
   ]
  },
  {
   "cell_type": "markdown",
   "id": "b5b20c22",
   "metadata": {},
   "source": [
    "We have some inform about this data:\n",
    "- This data have not any missing value\n",
    "- At each DBN records correspond with each distinct High school name => __DBN is unique value__.\n",
    "- Except DBN, highschool name and SAT data, there's nothing else\n",
    "- Because we don't want to track the SAT result by all 3 sections's result for each analysis period in this project => we will _sum up_ the SAT result (3 section) into 1 columns for the convenient."
   ]
  },
  {
   "cell_type": "markdown",
   "id": "6261878c",
   "metadata": {},
   "source": [
    "For another data we got, we will loop through out its key in data store and see the first five row for each data."
   ]
  },
  {
   "cell_type": "code",
   "execution_count": 6,
   "id": "e0386985",
   "metadata": {
    "scrolled": true
   },
   "outputs": [
    {
     "name": "stdout",
     "output_type": "stream",
     "text": [
      "      DBN                             SchoolName  AP Test Takers   \\\n",
      "0  01M448           UNIVERSITY NEIGHBORHOOD H.S.             39.0   \n",
      "1  01M450                 EAST SIDE COMMUNITY HS             19.0   \n",
      "2  01M515                    LOWER EASTSIDE PREP             24.0   \n",
      "3  01M539         NEW EXPLORATIONS SCI,TECH,MATH            255.0   \n",
      "4  02M296  High School of Hospitality Management              NaN   \n",
      "\n",
      "   Total Exams Taken  Number of Exams with scores 3 4 or 5  \n",
      "0               49.0                                  10.0  \n",
      "1               21.0                                   NaN  \n",
      "2               26.0                                  24.0  \n",
      "3              377.0                                 191.0  \n",
      "4                NaN                                   NaN  \n",
      "   CSD BOROUGH SCHOOL CODE                SCHOOL NAME GRADE  PROGRAM TYPE  \\\n",
      "0    1       M        M015  P.S. 015 Roberto Clemente     0K       GEN ED   \n",
      "1    1       M        M015  P.S. 015 Roberto Clemente     0K          CTT   \n",
      "2    1       M        M015  P.S. 015 Roberto Clemente     01       GEN ED   \n",
      "3    1       M        M015  P.S. 015 Roberto Clemente     01          CTT   \n",
      "4    1       M        M015  P.S. 015 Roberto Clemente     02       GEN ED   \n",
      "\n",
      "  CORE SUBJECT (MS CORE and 9-12 ONLY) CORE COURSE (MS CORE and 9-12 ONLY)  \\\n",
      "0                                    -                                   -   \n",
      "1                                    -                                   -   \n",
      "2                                    -                                   -   \n",
      "3                                    -                                   -   \n",
      "4                                    -                                   -   \n",
      "\n",
      "  SERVICE CATEGORY(K-9* ONLY)  NUMBER OF STUDENTS / SEATS FILLED  \\\n",
      "0                           -                               19.0   \n",
      "1                           -                               21.0   \n",
      "2                           -                               17.0   \n",
      "3                           -                               17.0   \n",
      "4                           -                               15.0   \n",
      "\n",
      "   NUMBER OF SECTIONS  AVERAGE CLASS SIZE  SIZE OF SMALLEST CLASS  \\\n",
      "0                 1.0                19.0                    19.0   \n",
      "1                 1.0                21.0                    21.0   \n",
      "2                 1.0                17.0                    17.0   \n",
      "3                 1.0                17.0                    17.0   \n",
      "4                 1.0                15.0                    15.0   \n",
      "\n",
      "   SIZE OF LARGEST CLASS DATA SOURCE  SCHOOLWIDE PUPIL-TEACHER RATIO  \n",
      "0                   19.0         ATS                             NaN  \n",
      "1                   21.0         ATS                             NaN  \n",
      "2                   17.0         ATS                             NaN  \n",
      "3                   17.0         ATS                             NaN  \n",
      "4                   15.0         ATS                             NaN  \n",
      "      DBN                       Name  schoolyear fl_percent  frl_percent  \\\n",
      "0  01M015  P.S. 015 ROBERTO CLEMENTE    20052006       89.4          NaN   \n",
      "1  01M015  P.S. 015 ROBERTO CLEMENTE    20062007       89.4          NaN   \n",
      "2  01M015  P.S. 015 ROBERTO CLEMENTE    20072008       89.4          NaN   \n",
      "3  01M015  P.S. 015 ROBERTO CLEMENTE    20082009       89.4          NaN   \n",
      "4  01M015  P.S. 015 ROBERTO CLEMENTE    20092010                    96.5   \n",
      "\n",
      "   total_enrollment prek   k grade1 grade2  ... black_num black_per  \\\n",
      "0               281   15  36     40     33  ...        74      26.3   \n",
      "1               243   15  29     39     38  ...        68      28.0   \n",
      "2               261   18  43     39     36  ...        77      29.5   \n",
      "3               252   17  37     44     32  ...        75      29.8   \n",
      "4               208   16  40     28     32  ...        67      32.2   \n",
      "\n",
      "  hispanic_num hispanic_per white_num white_per male_num male_per female_num  \\\n",
      "0          189         67.3         5       1.8    158.0     56.2      123.0   \n",
      "1          153         63.0         4       1.6    140.0     57.6      103.0   \n",
      "2          157         60.2         7       2.7    143.0     54.8      118.0   \n",
      "3          149         59.1         7       2.8    149.0     59.1      103.0   \n",
      "4          118         56.7         6       2.9    124.0     59.6       84.0   \n",
      "\n",
      "  female_per  \n",
      "0       43.8  \n",
      "1       42.4  \n",
      "2       45.2  \n",
      "3       40.9  \n",
      "4       40.4  \n",
      "\n",
      "[5 rows x 38 columns]\n",
      "    Demographic     DBN                            School Name    Cohort  \\\n",
      "0  Total Cohort  01M292  HENRY STREET SCHOOL FOR INTERNATIONAL      2003   \n",
      "1  Total Cohort  01M292  HENRY STREET SCHOOL FOR INTERNATIONAL      2004   \n",
      "2  Total Cohort  01M292  HENRY STREET SCHOOL FOR INTERNATIONAL      2005   \n",
      "3  Total Cohort  01M292  HENRY STREET SCHOOL FOR INTERNATIONAL      2006   \n",
      "4  Total Cohort  01M292  HENRY STREET SCHOOL FOR INTERNATIONAL  2006 Aug   \n",
      "\n",
      "  Total Cohort Total Grads - n  Total Grads - % of cohort Total Regents - n  \\\n",
      "0            5               s                        NaN                 s   \n",
      "1           55              37                       67.3                17   \n",
      "2           64              43                       67.2                27   \n",
      "3           78              43                       55.1                36   \n",
      "4           78              44                       56.4                37   \n",
      "\n",
      "   Total Regents - % of cohort  Total Regents - % of grads  ...  \\\n",
      "0                          NaN                         NaN  ...   \n",
      "1                         30.9                        45.9  ...   \n",
      "2                         42.2                        62.8  ...   \n",
      "3                         46.2                        83.7  ...   \n",
      "4                         47.4                        84.1  ...   \n",
      "\n",
      "  Regents w/o Advanced - n  Regents w/o Advanced - % of cohort  \\\n",
      "0                        s                                 NaN   \n",
      "1                       17                                30.9   \n",
      "2                       27                                42.2   \n",
      "3                       36                                46.2   \n",
      "4                       37                                47.4   \n",
      "\n",
      "   Regents w/o Advanced - % of grads Local - n  Local - % of cohort  \\\n",
      "0                                NaN         s                  NaN   \n",
      "1                               45.9        20                 36.4   \n",
      "2                               62.8        16                 25.0   \n",
      "3                               83.7         7                  9.0   \n",
      "4                               84.1         7                  9.0   \n",
      "\n",
      "   Local - % of grads Still Enrolled - n  Still Enrolled - % of cohort  \\\n",
      "0                 NaN                  s                           NaN   \n",
      "1                54.1                 15                          27.3   \n",
      "2                37.2                  9                          14.1   \n",
      "3                16.3                 16                          20.5   \n",
      "4                15.9                 15                          19.2   \n",
      "\n",
      "   Dropped Out - n Dropped Out - % of cohort  \n",
      "0                s                       NaN  \n",
      "1                3                       5.5  \n",
      "2                9                      14.1  \n",
      "3               11                      14.1  \n",
      "4               11                      14.1  \n",
      "\n",
      "[5 rows x 23 columns]\n",
      "      dbn                                        school_name       boro  \\\n",
      "0  17K548                Brooklyn School for Music & Theatre   Brooklyn   \n",
      "1  09X543                   High School for Violin and Dance      Bronx   \n",
      "2  09X327        Comprehensive Model School Project M.S. 327      Bronx   \n",
      "3  02M280     Manhattan Early College School for Advertising  Manhattan   \n",
      "4  28Q680  Queens Gateway to Health Sciences Secondary Sc...     Queens   \n",
      "\n",
      "  building_code    phone_number    fax_number grade_span_min  grade_span_max  \\\n",
      "0          K440    718-230-6250  718-230-6262              9              12   \n",
      "1          X400    718-842-0687  718-589-9849              9              12   \n",
      "2          X240    718-294-8111  718-294-8109              6              12   \n",
      "3          M520  718-935-3477             NaN              9              10   \n",
      "4          Q695    718-969-3155  718-969-3552              6              12   \n",
      "\n",
      "  expgrade_span_min  expgrade_span_max  ...  \\\n",
      "0               NaN                NaN  ...   \n",
      "1               NaN                NaN  ...   \n",
      "2               NaN                NaN  ...   \n",
      "3                 9               14.0  ...   \n",
      "4               NaN                NaN  ...   \n",
      "\n",
      "                                          priority02  \\\n",
      "0                    Then to New York City residents   \n",
      "1  Then to New York City residents who attend an ...   \n",
      "2  Then to Bronx students or residents who attend...   \n",
      "3  Then to New York City residents who attend an ...   \n",
      "4  Then to Districts 28 and 29 students or residents   \n",
      "\n",
      "                                          priority03  \\\n",
      "0                                                NaN   \n",
      "1                Then to Bronx students or residents   \n",
      "2  Then to New York City residents who attend an ...   \n",
      "3          Then to Manhattan students or residents     \n",
      "4               Then to Queens students or residents   \n",
      "\n",
      "                            priority04                       priority05  \\\n",
      "0                                  NaN                              NaN   \n",
      "1      Then to New York City residents                              NaN   \n",
      "2  Then to Bronx students or residents  Then to New York City residents   \n",
      "3      Then to New York City residents                              NaN   \n",
      "4      Then to New York City residents                              NaN   \n",
      "\n",
      "  priority06  priority07 priority08  priority09 priority10  \\\n",
      "0        NaN         NaN        NaN         NaN        NaN   \n",
      "1        NaN         NaN        NaN         NaN        NaN   \n",
      "2        NaN         NaN        NaN         NaN        NaN   \n",
      "3        NaN         NaN        NaN         NaN        NaN   \n",
      "4        NaN         NaN        NaN         NaN        NaN   \n",
      "\n",
      "                                          Location 1  \n",
      "0  883 Classon Avenue\\nBrooklyn, NY 11225\\n(40.67...  \n",
      "1  1110 Boston Road\\nBronx, NY 10456\\n(40.8276026...  \n",
      "2  1501 Jerome Avenue\\nBronx, NY 10452\\n(40.84241...  \n",
      "3  411 Pearl Street\\nNew York, NY 10038\\n(40.7106...  \n",
      "4  160-20 Goethals Avenue\\nJamaica, NY 11432\\n(40...  \n",
      "\n",
      "[5 rows x 58 columns]\n"
     ]
    }
   ],
   "source": [
    "for key in data:\n",
    "    if key != 'sat_results':\n",
    "        print(data[key].head())"
   ]
  },
  {
   "cell_type": "markdown",
   "id": "c6ccdb70",
   "metadata": {},
   "source": [
    "We can observe that:\n",
    "- There a lot of thing we don't use for the analysis, especcially the dataframe about class_size after AP test result data, which we need to clear some filed not right with our analysis.\n",
    "- For the value DBN, somewhere it's duplicate (5 records for one school) => we need some cleaning process to avoid duplicate merge.\n",
    "- Each dataset appears to either have a DBN column or the information we need to create one. That means we can use a DBN column to combine the datasets. First we'll pinpoint matching rows from different datasets by looking for identical DBNs, then group all of their columns together in a single dataset.\n",
    "- Some fields look interesting for mapping -- particularly Location 1, which contains coordinates inside a larger string."
   ]
  },
  {
   "cell_type": "markdown",
   "id": "9cab5b6c",
   "metadata": {},
   "source": [
    "## Sub-mission 4: Read survey data in"
   ]
  },
  {
   "cell_type": "markdown",
   "id": "bc282e6b",
   "metadata": {},
   "source": [
    "In the previous, we have not yet import survey file in because its format is txt and the encoding isn't in UFT-8 yet, now we will loading it into 2 file and merge it into 1 data frame. The file contains: survey of district 75 and the common survey."
   ]
  },
  {
   "cell_type": "code",
   "execution_count": 7,
   "id": "c960a2ea",
   "metadata": {},
   "outputs": [
    {
     "data": {
      "text/html": [
       "<div>\n",
       "<style scoped>\n",
       "    .dataframe tbody tr th:only-of-type {\n",
       "        vertical-align: middle;\n",
       "    }\n",
       "\n",
       "    .dataframe tbody tr th {\n",
       "        vertical-align: top;\n",
       "    }\n",
       "\n",
       "    .dataframe thead th {\n",
       "        text-align: right;\n",
       "    }\n",
       "</style>\n",
       "<table border=\"1\" class=\"dataframe\">\n",
       "  <thead>\n",
       "    <tr style=\"text-align: right;\">\n",
       "      <th></th>\n",
       "      <th>dbn</th>\n",
       "      <th>bn</th>\n",
       "      <th>schoolname</th>\n",
       "      <th>d75</th>\n",
       "      <th>studentssurveyed</th>\n",
       "      <th>highschool</th>\n",
       "      <th>schooltype</th>\n",
       "      <th>rr_s</th>\n",
       "      <th>rr_t</th>\n",
       "      <th>rr_p</th>\n",
       "      <th>...</th>\n",
       "      <th>s_q14_2</th>\n",
       "      <th>s_q14_3</th>\n",
       "      <th>s_q14_4</th>\n",
       "      <th>s_q14_5</th>\n",
       "      <th>s_q14_6</th>\n",
       "      <th>s_q14_7</th>\n",
       "      <th>s_q14_8</th>\n",
       "      <th>s_q14_9</th>\n",
       "      <th>s_q14_10</th>\n",
       "      <th>s_q14_11</th>\n",
       "    </tr>\n",
       "  </thead>\n",
       "  <tbody>\n",
       "    <tr>\n",
       "      <th>0</th>\n",
       "      <td>01M015</td>\n",
       "      <td>M015</td>\n",
       "      <td>P.S. 015 Roberto Clemente</td>\n",
       "      <td>0</td>\n",
       "      <td>No</td>\n",
       "      <td>0.0</td>\n",
       "      <td>Elementary School</td>\n",
       "      <td>NaN</td>\n",
       "      <td>88</td>\n",
       "      <td>60</td>\n",
       "      <td>...</td>\n",
       "      <td>NaN</td>\n",
       "      <td>NaN</td>\n",
       "      <td>NaN</td>\n",
       "      <td>NaN</td>\n",
       "      <td>NaN</td>\n",
       "      <td>NaN</td>\n",
       "      <td>NaN</td>\n",
       "      <td>NaN</td>\n",
       "      <td>NaN</td>\n",
       "      <td>NaN</td>\n",
       "    </tr>\n",
       "    <tr>\n",
       "      <th>1</th>\n",
       "      <td>01M019</td>\n",
       "      <td>M019</td>\n",
       "      <td>P.S. 019 Asher Levy</td>\n",
       "      <td>0</td>\n",
       "      <td>No</td>\n",
       "      <td>0.0</td>\n",
       "      <td>Elementary School</td>\n",
       "      <td>NaN</td>\n",
       "      <td>100</td>\n",
       "      <td>60</td>\n",
       "      <td>...</td>\n",
       "      <td>NaN</td>\n",
       "      <td>NaN</td>\n",
       "      <td>NaN</td>\n",
       "      <td>NaN</td>\n",
       "      <td>NaN</td>\n",
       "      <td>NaN</td>\n",
       "      <td>NaN</td>\n",
       "      <td>NaN</td>\n",
       "      <td>NaN</td>\n",
       "      <td>NaN</td>\n",
       "    </tr>\n",
       "    <tr>\n",
       "      <th>2</th>\n",
       "      <td>01M020</td>\n",
       "      <td>M020</td>\n",
       "      <td>P.S. 020 Anna Silver</td>\n",
       "      <td>0</td>\n",
       "      <td>No</td>\n",
       "      <td>0.0</td>\n",
       "      <td>Elementary School</td>\n",
       "      <td>NaN</td>\n",
       "      <td>88</td>\n",
       "      <td>73</td>\n",
       "      <td>...</td>\n",
       "      <td>NaN</td>\n",
       "      <td>NaN</td>\n",
       "      <td>NaN</td>\n",
       "      <td>NaN</td>\n",
       "      <td>NaN</td>\n",
       "      <td>NaN</td>\n",
       "      <td>NaN</td>\n",
       "      <td>NaN</td>\n",
       "      <td>NaN</td>\n",
       "      <td>NaN</td>\n",
       "    </tr>\n",
       "    <tr>\n",
       "      <th>3</th>\n",
       "      <td>01M034</td>\n",
       "      <td>M034</td>\n",
       "      <td>P.S. 034 Franklin D. Roosevelt</td>\n",
       "      <td>0</td>\n",
       "      <td>Yes</td>\n",
       "      <td>0.0</td>\n",
       "      <td>Elementary / Middle School</td>\n",
       "      <td>89.0</td>\n",
       "      <td>73</td>\n",
       "      <td>50</td>\n",
       "      <td>...</td>\n",
       "      <td>NaN</td>\n",
       "      <td>NaN</td>\n",
       "      <td>NaN</td>\n",
       "      <td>NaN</td>\n",
       "      <td>NaN</td>\n",
       "      <td>NaN</td>\n",
       "      <td>NaN</td>\n",
       "      <td>NaN</td>\n",
       "      <td>NaN</td>\n",
       "      <td>NaN</td>\n",
       "    </tr>\n",
       "    <tr>\n",
       "      <th>4</th>\n",
       "      <td>01M063</td>\n",
       "      <td>M063</td>\n",
       "      <td>P.S. 063 William McKinley</td>\n",
       "      <td>0</td>\n",
       "      <td>No</td>\n",
       "      <td>0.0</td>\n",
       "      <td>Elementary School</td>\n",
       "      <td>NaN</td>\n",
       "      <td>100</td>\n",
       "      <td>60</td>\n",
       "      <td>...</td>\n",
       "      <td>NaN</td>\n",
       "      <td>NaN</td>\n",
       "      <td>NaN</td>\n",
       "      <td>NaN</td>\n",
       "      <td>NaN</td>\n",
       "      <td>NaN</td>\n",
       "      <td>NaN</td>\n",
       "      <td>NaN</td>\n",
       "      <td>NaN</td>\n",
       "      <td>NaN</td>\n",
       "    </tr>\n",
       "  </tbody>\n",
       "</table>\n",
       "<p>5 rows × 2773 columns</p>\n",
       "</div>"
      ],
      "text/plain": [
       "      dbn    bn                      schoolname  d75 studentssurveyed  \\\n",
       "0  01M015  M015       P.S. 015 Roberto Clemente    0               No   \n",
       "1  01M019  M019             P.S. 019 Asher Levy    0               No   \n",
       "2  01M020  M020            P.S. 020 Anna Silver    0               No   \n",
       "3  01M034  M034  P.S. 034 Franklin D. Roosevelt    0              Yes   \n",
       "4  01M063  M063       P.S. 063 William McKinley    0               No   \n",
       "\n",
       "   highschool                  schooltype  rr_s  rr_t  rr_p  ...  s_q14_2  \\\n",
       "0         0.0           Elementary School   NaN    88    60  ...      NaN   \n",
       "1         0.0           Elementary School   NaN   100    60  ...      NaN   \n",
       "2         0.0           Elementary School   NaN    88    73  ...      NaN   \n",
       "3         0.0  Elementary / Middle School  89.0    73    50  ...      NaN   \n",
       "4         0.0           Elementary School   NaN   100    60  ...      NaN   \n",
       "\n",
       "   s_q14_3  s_q14_4  s_q14_5  s_q14_6  s_q14_7  s_q14_8  s_q14_9  s_q14_10  \\\n",
       "0      NaN      NaN      NaN      NaN      NaN      NaN      NaN       NaN   \n",
       "1      NaN      NaN      NaN      NaN      NaN      NaN      NaN       NaN   \n",
       "2      NaN      NaN      NaN      NaN      NaN      NaN      NaN       NaN   \n",
       "3      NaN      NaN      NaN      NaN      NaN      NaN      NaN       NaN   \n",
       "4      NaN      NaN      NaN      NaN      NaN      NaN      NaN       NaN   \n",
       "\n",
       "   s_q14_11  \n",
       "0       NaN  \n",
       "1       NaN  \n",
       "2       NaN  \n",
       "3       NaN  \n",
       "4       NaN  \n",
       "\n",
       "[5 rows x 2773 columns]"
      ]
     },
     "execution_count": 7,
     "metadata": {},
     "output_type": "execute_result"
    }
   ],
   "source": [
    "## Read survey_all in:\n",
    "all_survey = pd.read_csv('schools/survey_all.txt', delimiter = '\\t', encoding='windows-1252')\n",
    "\n",
    "# Read survey_d75 in:\n",
    "d75_survey = pd.read_csv('schools/survey_d75.txt', delimiter = '\\t', encoding='windows-1252')\n",
    "\n",
    "## Combine data:\n",
    "survey = pd.concat([all_survey,d75_survey], axis=0)\n",
    "survey.head()"
   ]
  },
  {
   "cell_type": "code",
   "execution_count": 8,
   "id": "a394dbe6",
   "metadata": {},
   "outputs": [
    {
     "name": "stdout",
     "output_type": "stream",
     "text": [
      "<class 'pandas.core.frame.DataFrame'>\n",
      "RangeIndex: 1646 entries, 0 to 1645\n",
      "Columns: 1942 entries, dbn to s_N_q14g_4\n",
      "dtypes: float64(1931), int64(6), object(5)\n",
      "memory usage: 24.4+ MB\n"
     ]
    }
   ],
   "source": [
    "all_survey.info()"
   ]
  },
  {
   "cell_type": "markdown",
   "id": "d523fb72",
   "metadata": {},
   "source": [
    "We observed that:\n",
    "- Since the data has over 2000 columns => we will need to clean all the columns that don't relate to our analysis\n",
    "- The dataset has DBN => we can merge the first dataset in here.\n",
    "------\n",
    "After cross-check with the describe for dataset, we can see that except the DBN field and those field are \"rr_s\" to \"aca_tot_10\", almost the rest we don't need => we will drop all these to make the data more clear and easier to process with. The reason to keep is: These columns give us aggregate survey data about how parents, teachers, and students feel about school safety, academic performance, and more. It also gives us the DBN, which allows us to uniquely identify the school. "
   ]
  },
  {
   "cell_type": "markdown",
   "id": "8a1c0900",
   "metadata": {},
   "source": [
    "To process this:\n",
    "- We copy the value in dbn column into new column named DBN\n",
    "- We convert all the columns name we need into upper case\n",
    "- We use column position to clear the data"
   ]
  },
  {
   "cell_type": "code",
   "execution_count": 9,
   "id": "13d81062",
   "metadata": {},
   "outputs": [
    {
     "name": "stdout",
     "output_type": "stream",
     "text": [
      "(1702, 23)\n"
     ]
    },
    {
     "name": "stderr",
     "output_type": "stream",
     "text": [
      "C:\\Users\\bieng\\AppData\\Local\\Temp/ipykernel_1452/1310943864.py:2: PerformanceWarning: DataFrame is highly fragmented.  This is usually the result of calling `frame.insert` many times, which has poor performance.  Consider joining all columns at once using pd.concat(axis=1) instead. To get a de-fragmented frame, use `newframe = frame.copy()`\n",
      "  survey.loc[:,'DBN'] = survey['dbn']\n"
     ]
    }
   ],
   "source": [
    "## Copy and create new column of dbn value:\n",
    "survey.loc[:,'DBN'] = survey['dbn']\n",
    "\n",
    "## Create a lst of field for analysis:\n",
    "list_name = ['DBN',\"rr_s\", \"rr_t\", \"rr_p\", \n",
    "             \"N_s\", \"N_t\", \"N_p\", \"saf_p_11\", \"com_p_11\", \n",
    "             \"eng_p_11\", \"aca_p_11\", \"saf_t_11\", \"com_t_11\", \n",
    "             \"eng_t_11\", \"aca_t_11\", \"saf_s_11\", \"com_s_11\", \"eng_s_11\", \n",
    "             \"aca_s_11\", \"saf_tot_11\", \"com_tot_11\", \"eng_tot_11\", \"aca_tot_11\"]\n",
    "\n",
    "survey = survey.loc[:,list_name]\n",
    "print(survey.shape)\n",
    "\n",
    "# Upload into data store:\n",
    "data['survey'] = survey"
   ]
  },
  {
   "cell_type": "markdown",
   "id": "585811d6",
   "metadata": {},
   "source": [
    "## Sub-mission 5: Handle the missing DBN columns"
   ]
  },
  {
   "cell_type": "markdown",
   "id": "10fe33a1",
   "metadata": {},
   "source": [
    "Back to the dataset in data store, we can see that data of `directory school` and `class_size` invisible for DBN field, in `class_size`, it is completely gone out.\n",
    "Looking in detaily, if we take the school code plus to the CSD in class_size field, we got the DBN in sat_results data, like below:\n",
    "- __sat_results__: _DBN (01M292)_...\n",
    "- __class_size__: CSD (_1_...) + School code (_M015_, ...) ~ _DBN(1M015 : Roberto Clemate school)_\n",
    "----\n",
    "With that mean, we need to add a leading before each syntax of CSD field, like example below:\n",
    "- Old CSD: 1 => New CSD :01\n",
    "- Old CSD: 19 => New CSD : 19\n",
    "\n",
    "And then combine the new CSD with the School Code => We have DBN columns for class_size data."
   ]
  },
  {
   "cell_type": "code",
   "execution_count": 10,
   "id": "cb653558",
   "metadata": {},
   "outputs": [
    {
     "data": {
      "text/plain": [
       "dtype('int64')"
      ]
     },
     "execution_count": 10,
     "metadata": {},
     "output_type": "execute_result"
    }
   ],
   "source": [
    "# Check data type of CSD:\n",
    "data['class_size']['CSD'].dtype"
   ]
  },
  {
   "cell_type": "code",
   "execution_count": 11,
   "id": "05f686f3",
   "metadata": {},
   "outputs": [
    {
     "data": {
      "text/plain": [
       "dtype('O')"
      ]
     },
     "execution_count": 11,
     "metadata": {},
     "output_type": "execute_result"
    }
   ],
   "source": [
    "# Check data type of SCHOOL CODE\n",
    "data['class_size']['SCHOOL CODE'].dtype"
   ]
  },
  {
   "cell_type": "code",
   "execution_count": 12,
   "id": "fa48c71a",
   "metadata": {},
   "outputs": [
    {
     "data": {
      "text/plain": [
       "array(['01', '04', '02', '21', '27', '05', '06', '14', '17', '20', '03',\n",
       "       '32', '07', '08', '09', '10', '11', '12', '13', '15', '16', '19',\n",
       "       '18', '22', '23', '24', '25', '26', '28', '29', '30', '31'],\n",
       "      dtype=object)"
      ]
     },
     "execution_count": 12,
     "metadata": {},
     "output_type": "execute_result"
    }
   ],
   "source": [
    "## Fill CSD function:\n",
    "def fill_z(number):\n",
    "    if len(str(number))> 1:\n",
    "        return str(number)\n",
    "    if len(str(number)) == 1:\n",
    "        new = str(number).zfill(2)\n",
    "        return new\n",
    "    \n",
    "# Apply for CSD series:\n",
    "data['class_size'].loc[:,'pad_CSD'] = data['class_size']['CSD'].apply(fill_z)\n",
    "data['class_size']['pad_CSD'].unique()\n"
   ]
  },
  {
   "cell_type": "code",
   "execution_count": 13,
   "id": "06084a3d",
   "metadata": {},
   "outputs": [
    {
     "data": {
      "text/plain": [
       "0    01M015\n",
       "1    01M015\n",
       "2    01M015\n",
       "3    01M015\n",
       "4    01M015\n",
       "Name: DBN, dtype: object"
      ]
     },
     "execution_count": 13,
     "metadata": {},
     "output_type": "execute_result"
    }
   ],
   "source": [
    "## Create a new DBN column:\n",
    "data['class_size'].loc[:,'DBN'] = data['class_size']['pad_CSD'] + data['class_size']['SCHOOL CODE']\n",
    "\n",
    "## Check:\n",
    "data['class_size']['DBN'].head()"
   ]
  },
  {
   "cell_type": "markdown",
   "id": "af17543d",
   "metadata": {},
   "source": [
    "# Sub-mission 6: Explore SAT data (p2)"
   ]
  },
  {
   "cell_type": "markdown",
   "id": "9f32a2ac",
   "metadata": {},
   "source": [
    "As said, in SAT dataset we have three distinct section result of SAT test, and we'd like to combine it for the convenient with analysis progress. The job for us now is:\n",
    "- Check the data format of three field that mentioned (`SAT Critical Reading Avg. Score`, `SAT Math Avg. Score`, `SAT Writing Avg. Score`), change it to numeric if not.\n",
    "- Store the result of combined three section into new column."
   ]
  },
  {
   "cell_type": "code",
   "execution_count": 14,
   "id": "3091003d",
   "metadata": {},
   "outputs": [
    {
     "data": {
      "text/plain": [
       "SAT Critical Reading Avg. Score    object\n",
       "SAT Math Avg. Score                object\n",
       "SAT Writing Avg. Score             object\n",
       "dtype: object"
      ]
     },
     "execution_count": 14,
     "metadata": {},
     "output_type": "execute_result"
    }
   ],
   "source": [
    "column_check = ['SAT Critical Reading Avg. Score', 'SAT Math Avg. Score', 'SAT Writing Avg. Score']\n",
    "\n",
    "# Check the format:\n",
    "data['sat_results'][column_check].dtypes"
   ]
  },
  {
   "cell_type": "code",
   "execution_count": 15,
   "id": "d6cffddd",
   "metadata": {},
   "outputs": [
    {
     "data": {
      "text/plain": [
       "0    1122.0\n",
       "1    1172.0\n",
       "2    1149.0\n",
       "3    1174.0\n",
       "4    1207.0\n",
       "Name: sat_scores, dtype: float64"
      ]
     },
     "execution_count": 15,
     "metadata": {},
     "output_type": "execute_result"
    }
   ],
   "source": [
    "## Convert data type:\n",
    "for i in column_check:\n",
    "    data['sat_results'][i] = pd.to_numeric(data['sat_results'][i], errors='coerce')\n",
    "\n",
    "## Combine data:\n",
    "data['sat_results'].loc[:,'sat_scores'] = data['sat_results'].iloc[:,3:].sum(axis=1, skipna=False)\n",
    "data['sat_results']['sat_scores'].head()\n",
    "## Note: Due to sum() func will detect all NaN value as False if skipna mode turned on",
    "## => need to turn off skipna mode, to avoid of automatically fill 0 in (affect to caculate correlation later on)"
   ]
  },
  {
   "cell_type": "markdown",
   "id": "2083e162",
   "metadata": {},
   "source": [
    "In a sub-mission 6, we've combined the SAT result into one column and stored it in `sat_scores`. Now looking for other dataset and check whether it OK, and I saw the `Location 1` in `hs_directory` file is wrtitten in a complex way. Now it's time to __extract the longtitude and latitude coordinate__ - This enables us to map the schools and uncover any geographic patterns in the data."
   ]
  },
  {
   "cell_type": "markdown",
   "id": "9aabfa52",
   "metadata": {},
   "source": [
    "To get the clearly picture for the location is mentioned above, let's see a few of data for location:"
   ]
  },
  {
   "cell_type": "code",
   "execution_count": 16,
   "id": "e34a98f6",
   "metadata": {},
   "outputs": [
    {
     "data": {
      "text/plain": [
       "0    883 Classon Avenue\\nBrooklyn, NY 11225\\n(40.67...\n",
       "1    1110 Boston Road\\nBronx, NY 10456\\n(40.8276026...\n",
       "2    1501 Jerome Avenue\\nBronx, NY 10452\\n(40.84241...\n",
       "Name: Location 1, dtype: object"
      ]
     },
     "execution_count": 16,
     "metadata": {},
     "output_type": "execute_result"
    }
   ],
   "source": [
    "## Preview of location data:\n",
    "data['hs_directory']['Location 1'].head(n=3)"
   ]
  },
  {
   "cell_type": "code",
   "execution_count": 17,
   "id": "87c69dd3",
   "metadata": {},
   "outputs": [
    {
     "data": {
      "text/plain": [
       "'883 Classon Avenue\\nBrooklyn, NY 11225\\n(40.67029890700047, -73.96164787599963)'"
      ]
     },
     "execution_count": 17,
     "metadata": {},
     "output_type": "execute_result"
    }
   ],
   "source": [
    "## Extract the first location:\n",
    "data['hs_directory']['Location 1'].iloc[0]"
   ]
  },
  {
   "cell_type": "markdown",
   "id": "91dcc2c5",
   "metadata": {},
   "source": [
    "There is a same pattern we got here: `XX address \\n address XX \\n (long_position, lat_position)` with the part we want to pull out is data in parenthese `(long_pos, lat_pos)`. Taken together, latitude and longitude make up a pair of coordinates that allows us to pinpoint any location on Earth."
   ]
  },
  {
   "cell_type": "markdown",
   "id": "c3963acb",
   "metadata": {},
   "source": [
    "We will use regex to parsing only the part we want, in the code-block below:"
   ]
  },
  {
   "cell_type": "code",
   "execution_count": 18,
   "id": "c6fd5610",
   "metadata": {},
   "outputs": [
    {
     "data": {
      "text/plain": [
       "0     40.67029890700047\n",
       "1      40.8276026690005\n",
       "2    40.842414068000494\n",
       "3     40.71067947100045\n",
       "4    40.718810094000446\n",
       "Name: lat, dtype: object"
      ]
     },
     "execution_count": 18,
     "metadata": {},
     "output_type": "execute_result"
    }
   ],
   "source": [
    "## Import the regex library\n",
    "import re\n",
    "\n",
    "## Define function to extract the lat_coordinate:\n",
    "def coordinate(str_):\n",
    "    modify = re.findall(r'\\(.+\\)', str_)\n",
    "    lat = (modify[0].split(','))[0].replace('(','')\n",
    "    return lat\n",
    "\n",
    "## Filter:\n",
    "data['hs_directory'].loc[:,'lat'] = data['hs_directory']['Location 1'].apply(coordinate)\n",
    "data['hs_directory']['lat'].head()"
   ]
  },
  {
   "cell_type": "code",
   "execution_count": 19,
   "id": "fbaf2fe4",
   "metadata": {},
   "outputs": [
    {
     "name": "stdout",
     "output_type": "stream",
     "text": [
      "0   -73.961648\n",
      "1   -73.904475\n",
      "2   -73.916162\n",
      "Name: long, dtype: float64\n"
     ]
    },
    {
     "data": {
      "text/plain": [
       "lat     float64\n",
       "long    float64\n",
       "dtype: object"
      ]
     },
     "execution_count": 19,
     "metadata": {},
     "output_type": "execute_result"
    }
   ],
   "source": [
    "## Define function for long coordinate:\n",
    "def coordinate_long(str_):\n",
    "    modify = re.findall(r'\\(.+\\)', str_)\n",
    "    long = (modify[0].split(','))[1].replace(')','')\n",
    "    return long\n",
    "\n",
    "# Filter:\n",
    "data['hs_directory'].loc[:,'long'] = data['hs_directory']['Location 1'].apply(coordinate_long)\n",
    "\n",
    "# Convert the data type:\n",
    "order = ['lat', 'long']\n",
    "\n",
    "for name in order:\n",
    "    data['hs_directory'][name] = pd.to_numeric(data['hs_directory'][name], errors='coerce')\n",
    "    \n",
    "## Check the longtitute data:\n",
    "print(data['hs_directory']['long'].head(n=3))\n",
    "\n",
    "## Check the data type:\n",
    "data['hs_directory'][order].dtypes"
   ]
  },
  {
   "cell_type": "markdown",
   "id": "4defe335",
   "metadata": {},
   "source": [
    "__Conclusion__ : Over 6 sub-mission, we've got the pre-processing data with maintaining of the multi-duplicate DBN records at other dataset while the sat_results dataset this field is unique. For the example:\n",
    "- `sat_results`: `01M292` -> `01M448` ->...\n",
    "- other dataset: `01M292` x n-times -> `01M448` x n-times... (ex: `class_size` dataset)\n",
    "----\n",
    "This situation creates problems, because we don't know which of the multiple entries in the `class_size` dataset we should combine with the single matching entry in `sat_results` => To resolve this issue, we'll condense the `class_size`, `graduation` and `demographics` datasets so that __each DBN__ is __unique__."
   ]
  },
  {
   "cell_type": "markdown",
   "id": "f9804827",
   "metadata": {},
   "source": [
    "## MISSION B: PRE-PROCESSING DATA PART 2"
   ]
  },
  {
   "cell_type": "markdown",
   "id": "802c7d3b",
   "metadata": {},
   "source": [
    "## Sub-mission 1: Clean/ condense the Class_size data:"
   ]
  },
  {
   "cell_type": "markdown",
   "id": "91f5b6b5",
   "metadata": {},
   "source": [
    "Let's take a look a few records of class_size data:"
   ]
  },
  {
   "cell_type": "code",
   "execution_count": 20,
   "id": "8c118b6b",
   "metadata": {},
   "outputs": [
    {
     "data": {
      "text/html": [
       "<div>\n",
       "<style scoped>\n",
       "    .dataframe tbody tr th:only-of-type {\n",
       "        vertical-align: middle;\n",
       "    }\n",
       "\n",
       "    .dataframe tbody tr th {\n",
       "        vertical-align: top;\n",
       "    }\n",
       "\n",
       "    .dataframe thead th {\n",
       "        text-align: right;\n",
       "    }\n",
       "</style>\n",
       "<table border=\"1\" class=\"dataframe\">\n",
       "  <thead>\n",
       "    <tr style=\"text-align: right;\">\n",
       "      <th></th>\n",
       "      <th>CSD</th>\n",
       "      <th>BOROUGH</th>\n",
       "      <th>SCHOOL CODE</th>\n",
       "      <th>SCHOOL NAME</th>\n",
       "      <th>GRADE</th>\n",
       "      <th>PROGRAM TYPE</th>\n",
       "      <th>CORE SUBJECT (MS CORE and 9-12 ONLY)</th>\n",
       "      <th>CORE COURSE (MS CORE and 9-12 ONLY)</th>\n",
       "      <th>SERVICE CATEGORY(K-9* ONLY)</th>\n",
       "      <th>NUMBER OF STUDENTS / SEATS FILLED</th>\n",
       "      <th>NUMBER OF SECTIONS</th>\n",
       "      <th>AVERAGE CLASS SIZE</th>\n",
       "      <th>SIZE OF SMALLEST CLASS</th>\n",
       "      <th>SIZE OF LARGEST CLASS</th>\n",
       "      <th>DATA SOURCE</th>\n",
       "      <th>SCHOOLWIDE PUPIL-TEACHER RATIO</th>\n",
       "      <th>pad_CSD</th>\n",
       "      <th>DBN</th>\n",
       "    </tr>\n",
       "  </thead>\n",
       "  <tbody>\n",
       "    <tr>\n",
       "      <th>0</th>\n",
       "      <td>1</td>\n",
       "      <td>M</td>\n",
       "      <td>M015</td>\n",
       "      <td>P.S. 015 Roberto Clemente</td>\n",
       "      <td>0K</td>\n",
       "      <td>GEN ED</td>\n",
       "      <td>-</td>\n",
       "      <td>-</td>\n",
       "      <td>-</td>\n",
       "      <td>19.0</td>\n",
       "      <td>1.0</td>\n",
       "      <td>19.0</td>\n",
       "      <td>19.0</td>\n",
       "      <td>19.0</td>\n",
       "      <td>ATS</td>\n",
       "      <td>NaN</td>\n",
       "      <td>01</td>\n",
       "      <td>01M015</td>\n",
       "    </tr>\n",
       "    <tr>\n",
       "      <th>1</th>\n",
       "      <td>1</td>\n",
       "      <td>M</td>\n",
       "      <td>M015</td>\n",
       "      <td>P.S. 015 Roberto Clemente</td>\n",
       "      <td>0K</td>\n",
       "      <td>CTT</td>\n",
       "      <td>-</td>\n",
       "      <td>-</td>\n",
       "      <td>-</td>\n",
       "      <td>21.0</td>\n",
       "      <td>1.0</td>\n",
       "      <td>21.0</td>\n",
       "      <td>21.0</td>\n",
       "      <td>21.0</td>\n",
       "      <td>ATS</td>\n",
       "      <td>NaN</td>\n",
       "      <td>01</td>\n",
       "      <td>01M015</td>\n",
       "    </tr>\n",
       "    <tr>\n",
       "      <th>2</th>\n",
       "      <td>1</td>\n",
       "      <td>M</td>\n",
       "      <td>M015</td>\n",
       "      <td>P.S. 015 Roberto Clemente</td>\n",
       "      <td>01</td>\n",
       "      <td>GEN ED</td>\n",
       "      <td>-</td>\n",
       "      <td>-</td>\n",
       "      <td>-</td>\n",
       "      <td>17.0</td>\n",
       "      <td>1.0</td>\n",
       "      <td>17.0</td>\n",
       "      <td>17.0</td>\n",
       "      <td>17.0</td>\n",
       "      <td>ATS</td>\n",
       "      <td>NaN</td>\n",
       "      <td>01</td>\n",
       "      <td>01M015</td>\n",
       "    </tr>\n",
       "  </tbody>\n",
       "</table>\n",
       "</div>"
      ],
      "text/plain": [
       "   CSD BOROUGH SCHOOL CODE                SCHOOL NAME GRADE  PROGRAM TYPE  \\\n",
       "0    1       M        M015  P.S. 015 Roberto Clemente     0K       GEN ED   \n",
       "1    1       M        M015  P.S. 015 Roberto Clemente     0K          CTT   \n",
       "2    1       M        M015  P.S. 015 Roberto Clemente     01       GEN ED   \n",
       "\n",
       "  CORE SUBJECT (MS CORE and 9-12 ONLY) CORE COURSE (MS CORE and 9-12 ONLY)  \\\n",
       "0                                    -                                   -   \n",
       "1                                    -                                   -   \n",
       "2                                    -                                   -   \n",
       "\n",
       "  SERVICE CATEGORY(K-9* ONLY)  NUMBER OF STUDENTS / SEATS FILLED  \\\n",
       "0                           -                               19.0   \n",
       "1                           -                               21.0   \n",
       "2                           -                               17.0   \n",
       "\n",
       "   NUMBER OF SECTIONS  AVERAGE CLASS SIZE  SIZE OF SMALLEST CLASS  \\\n",
       "0                 1.0                19.0                    19.0   \n",
       "1                 1.0                21.0                    21.0   \n",
       "2                 1.0                17.0                    17.0   \n",
       "\n",
       "   SIZE OF LARGEST CLASS DATA SOURCE  SCHOOLWIDE PUPIL-TEACHER RATIO pad_CSD  \\\n",
       "0                   19.0         ATS                             NaN      01   \n",
       "1                   21.0         ATS                             NaN      01   \n",
       "2                   17.0         ATS                             NaN      01   \n",
       "\n",
       "      DBN  \n",
       "0  01M015  \n",
       "1  01M015  \n",
       "2  01M015  "
      ]
     },
     "execution_count": 20,
     "metadata": {},
     "output_type": "execute_result"
    }
   ],
   "source": [
    "data['class_size'].head(n=3)"
   ]
  },
  {
   "cell_type": "markdown",
   "id": "aa40b0a8",
   "metadata": {},
   "source": [
    "DBN number is duplicate 5~6 times due to the difference of `PROGRAM TYPE`, `GRADE` and the other field, but let's checking closer to `PROGRAM TYPE` and `GRADE` field:"
   ]
  },
  {
   "cell_type": "code",
   "execution_count": 21,
   "id": "fc1d0a2a",
   "metadata": {},
   "outputs": [
    {
     "name": "stdout",
     "output_type": "stream",
     "text": [
      "Dataset of Program type: ['GEN ED' 'CTT' 'SPEC ED' nan 'G&T']\n",
      "Dataset of Grade: ['0K' '01' '02' '03' '04' '05' '0K-09' nan '06' '07' '08' 'MS Core'\n",
      " '09-12' '09']\n"
     ]
    }
   ],
   "source": [
    "## Identify the value of PROGRAM TYPE field:\n",
    "print('Dataset of Program type: {}'.format(data['class_size']['PROGRAM TYPE'].unique()))\n",
    "\n",
    "## Identify the value of GRADE field:\n",
    "print('Dataset of Grade: {}'.format(data['class_size'].iloc[:,4].unique())) #GRADE is postion 5th columns"
   ]
  },
  {
   "cell_type": "markdown",
   "id": "b3b83441",
   "metadata": {},
   "source": [
    "Because we just interest with those in High school level (they're SAT's attendance) => We've drop out all things below GRADE `'09'&'MS Core'` and keep only `'GEN ED'` program type. "
   ]
  },
  {
   "cell_type": "code",
   "execution_count": 22,
   "id": "3ae9edc4",
   "metadata": {
    "scrolled": true
   },
   "outputs": [
    {
     "name": "stdout",
     "output_type": "stream",
     "text": [
      "(6513, 18)\n"
     ]
    },
    {
     "data": {
      "text/html": [
       "<div>\n",
       "<style scoped>\n",
       "    .dataframe tbody tr th:only-of-type {\n",
       "        vertical-align: middle;\n",
       "    }\n",
       "\n",
       "    .dataframe tbody tr th {\n",
       "        vertical-align: top;\n",
       "    }\n",
       "\n",
       "    .dataframe thead th {\n",
       "        text-align: right;\n",
       "    }\n",
       "</style>\n",
       "<table border=\"1\" class=\"dataframe\">\n",
       "  <thead>\n",
       "    <tr style=\"text-align: right;\">\n",
       "      <th></th>\n",
       "      <th>CSD</th>\n",
       "      <th>BOROUGH</th>\n",
       "      <th>SCHOOL CODE</th>\n",
       "      <th>SCHOOL NAME</th>\n",
       "      <th>GRADE</th>\n",
       "      <th>PROGRAM TYPE</th>\n",
       "      <th>CORE SUBJECT (MS CORE and 9-12 ONLY)</th>\n",
       "      <th>CORE COURSE (MS CORE and 9-12 ONLY)</th>\n",
       "      <th>SERVICE CATEGORY(K-9* ONLY)</th>\n",
       "      <th>NUMBER OF STUDENTS / SEATS FILLED</th>\n",
       "      <th>NUMBER OF SECTIONS</th>\n",
       "      <th>AVERAGE CLASS SIZE</th>\n",
       "      <th>SIZE OF SMALLEST CLASS</th>\n",
       "      <th>SIZE OF LARGEST CLASS</th>\n",
       "      <th>DATA SOURCE</th>\n",
       "      <th>SCHOOLWIDE PUPIL-TEACHER RATIO</th>\n",
       "      <th>pad_CSD</th>\n",
       "      <th>DBN</th>\n",
       "    </tr>\n",
       "  </thead>\n",
       "  <tbody>\n",
       "    <tr>\n",
       "      <th>225</th>\n",
       "      <td>1</td>\n",
       "      <td>M</td>\n",
       "      <td>M292</td>\n",
       "      <td>Henry Street School for International Studies</td>\n",
       "      <td>09-12</td>\n",
       "      <td>GEN ED</td>\n",
       "      <td>ENGLISH</td>\n",
       "      <td>English 9</td>\n",
       "      <td>-</td>\n",
       "      <td>63.0</td>\n",
       "      <td>3.0</td>\n",
       "      <td>21.0</td>\n",
       "      <td>19.0</td>\n",
       "      <td>25.0</td>\n",
       "      <td>STARS</td>\n",
       "      <td>NaN</td>\n",
       "      <td>01</td>\n",
       "      <td>01M292</td>\n",
       "    </tr>\n",
       "    <tr>\n",
       "      <th>226</th>\n",
       "      <td>1</td>\n",
       "      <td>M</td>\n",
       "      <td>M292</td>\n",
       "      <td>Henry Street School for International Studies</td>\n",
       "      <td>09-12</td>\n",
       "      <td>GEN ED</td>\n",
       "      <td>ENGLISH</td>\n",
       "      <td>English 10</td>\n",
       "      <td>-</td>\n",
       "      <td>79.0</td>\n",
       "      <td>3.0</td>\n",
       "      <td>26.3</td>\n",
       "      <td>24.0</td>\n",
       "      <td>31.0</td>\n",
       "      <td>STARS</td>\n",
       "      <td>NaN</td>\n",
       "      <td>01</td>\n",
       "      <td>01M292</td>\n",
       "    </tr>\n",
       "    <tr>\n",
       "      <th>227</th>\n",
       "      <td>1</td>\n",
       "      <td>M</td>\n",
       "      <td>M292</td>\n",
       "      <td>Henry Street School for International Studies</td>\n",
       "      <td>09-12</td>\n",
       "      <td>GEN ED</td>\n",
       "      <td>ENGLISH</td>\n",
       "      <td>English 11</td>\n",
       "      <td>-</td>\n",
       "      <td>38.0</td>\n",
       "      <td>2.0</td>\n",
       "      <td>19.0</td>\n",
       "      <td>16.0</td>\n",
       "      <td>22.0</td>\n",
       "      <td>STARS</td>\n",
       "      <td>NaN</td>\n",
       "      <td>01</td>\n",
       "      <td>01M292</td>\n",
       "    </tr>\n",
       "    <tr>\n",
       "      <th>228</th>\n",
       "      <td>1</td>\n",
       "      <td>M</td>\n",
       "      <td>M292</td>\n",
       "      <td>Henry Street School for International Studies</td>\n",
       "      <td>09-12</td>\n",
       "      <td>GEN ED</td>\n",
       "      <td>ENGLISH</td>\n",
       "      <td>English 12</td>\n",
       "      <td>-</td>\n",
       "      <td>69.0</td>\n",
       "      <td>3.0</td>\n",
       "      <td>23.0</td>\n",
       "      <td>13.0</td>\n",
       "      <td>30.0</td>\n",
       "      <td>STARS</td>\n",
       "      <td>NaN</td>\n",
       "      <td>01</td>\n",
       "      <td>01M292</td>\n",
       "    </tr>\n",
       "    <tr>\n",
       "      <th>229</th>\n",
       "      <td>1</td>\n",
       "      <td>M</td>\n",
       "      <td>M292</td>\n",
       "      <td>Henry Street School for International Studies</td>\n",
       "      <td>09-12</td>\n",
       "      <td>GEN ED</td>\n",
       "      <td>MATH</td>\n",
       "      <td>Integrated Algebra</td>\n",
       "      <td>-</td>\n",
       "      <td>53.0</td>\n",
       "      <td>3.0</td>\n",
       "      <td>17.7</td>\n",
       "      <td>16.0</td>\n",
       "      <td>21.0</td>\n",
       "      <td>STARS</td>\n",
       "      <td>NaN</td>\n",
       "      <td>01</td>\n",
       "      <td>01M292</td>\n",
       "    </tr>\n",
       "  </tbody>\n",
       "</table>\n",
       "</div>"
      ],
      "text/plain": [
       "     CSD BOROUGH SCHOOL CODE                                    SCHOOL NAME  \\\n",
       "225    1       M        M292  Henry Street School for International Studies   \n",
       "226    1       M        M292  Henry Street School for International Studies   \n",
       "227    1       M        M292  Henry Street School for International Studies   \n",
       "228    1       M        M292  Henry Street School for International Studies   \n",
       "229    1       M        M292  Henry Street School for International Studies   \n",
       "\n",
       "    GRADE  PROGRAM TYPE CORE SUBJECT (MS CORE and 9-12 ONLY)  \\\n",
       "225  09-12       GEN ED                              ENGLISH   \n",
       "226  09-12       GEN ED                              ENGLISH   \n",
       "227  09-12       GEN ED                              ENGLISH   \n",
       "228  09-12       GEN ED                              ENGLISH   \n",
       "229  09-12       GEN ED                                 MATH   \n",
       "\n",
       "    CORE COURSE (MS CORE and 9-12 ONLY) SERVICE CATEGORY(K-9* ONLY)  \\\n",
       "225                           English 9                           -   \n",
       "226                          English 10                           -   \n",
       "227                          English 11                           -   \n",
       "228                          English 12                           -   \n",
       "229                  Integrated Algebra                           -   \n",
       "\n",
       "     NUMBER OF STUDENTS / SEATS FILLED  NUMBER OF SECTIONS  \\\n",
       "225                               63.0                 3.0   \n",
       "226                               79.0                 3.0   \n",
       "227                               38.0                 2.0   \n",
       "228                               69.0                 3.0   \n",
       "229                               53.0                 3.0   \n",
       "\n",
       "     AVERAGE CLASS SIZE  SIZE OF SMALLEST CLASS  SIZE OF LARGEST CLASS  \\\n",
       "225                21.0                    19.0                   25.0   \n",
       "226                26.3                    24.0                   31.0   \n",
       "227                19.0                    16.0                   22.0   \n",
       "228                23.0                    13.0                   30.0   \n",
       "229                17.7                    16.0                   21.0   \n",
       "\n",
       "    DATA SOURCE  SCHOOLWIDE PUPIL-TEACHER RATIO pad_CSD     DBN  \n",
       "225       STARS                             NaN      01  01M292  \n",
       "226       STARS                             NaN      01  01M292  \n",
       "227       STARS                             NaN      01  01M292  \n",
       "228       STARS                             NaN      01  01M292  \n",
       "229       STARS                             NaN      01  01M292  "
      ]
     },
     "execution_count": 22,
     "metadata": {},
     "output_type": "execute_result"
    }
   ],
   "source": [
    "# Store the trial data:\n",
    "class_size = data['class_size'].copy()\n",
    "\n",
    "## Filter the GRADE & PROGRAM TYPE data:\n",
    "bool_1 = class_size.iloc[:,4] == '09-12'\n",
    "bool_2 = class_size['PROGRAM TYPE'] == 'GEN ED'\n",
    "add = bool_1&bool_2\n",
    "\n",
    "class_size = class_size[add]\n",
    "# Check:\n",
    "print(class_size.shape)\n",
    "class_size.head()"
   ]
  },
  {
   "cell_type": "markdown",
   "id": "c2f8bb40",
   "metadata": {},
   "source": [
    "As the pointed out result, the DBN still not unique, and one school still repeat 5 times or more. In the same time, we can see the value change in `CORE SUBJECT`, `CORE COURSE` (Ex: English 9, 10... and MATH with various course). But we don't want the final data just only a subset course of any subset subject in any schools, instead, we want our class size data to include every single class a school offers  => That's will make the data maintain the maximum information as the best as we could."
   ]
  },
  {
   "cell_type": "markdown",
   "id": "52371b5d",
   "metadata": {},
   "source": [
    "To do this, we can groupby the `DBN` field, and apply arrgregate average value on each group."
   ]
  },
  {
   "cell_type": "code",
   "execution_count": 23,
   "id": "f049e9af",
   "metadata": {},
   "outputs": [
    {
     "data": {
      "text/html": [
       "<div>\n",
       "<style scoped>\n",
       "    .dataframe tbody tr th:only-of-type {\n",
       "        vertical-align: middle;\n",
       "    }\n",
       "\n",
       "    .dataframe tbody tr th {\n",
       "        vertical-align: top;\n",
       "    }\n",
       "\n",
       "    .dataframe thead th {\n",
       "        text-align: right;\n",
       "    }\n",
       "</style>\n",
       "<table border=\"1\" class=\"dataframe\">\n",
       "  <thead>\n",
       "    <tr style=\"text-align: right;\">\n",
       "      <th></th>\n",
       "      <th>DBN</th>\n",
       "      <th>CSD</th>\n",
       "      <th>NUMBER OF STUDENTS / SEATS FILLED</th>\n",
       "      <th>NUMBER OF SECTIONS</th>\n",
       "      <th>AVERAGE CLASS SIZE</th>\n",
       "      <th>SIZE OF SMALLEST CLASS</th>\n",
       "      <th>SIZE OF LARGEST CLASS</th>\n",
       "      <th>SCHOOLWIDE PUPIL-TEACHER RATIO</th>\n",
       "    </tr>\n",
       "  </thead>\n",
       "  <tbody>\n",
       "    <tr>\n",
       "      <th>0</th>\n",
       "      <td>01M292</td>\n",
       "      <td>1.0</td>\n",
       "      <td>88.0000</td>\n",
       "      <td>4.000000</td>\n",
       "      <td>22.564286</td>\n",
       "      <td>18.50</td>\n",
       "      <td>26.571429</td>\n",
       "      <td>NaN</td>\n",
       "    </tr>\n",
       "    <tr>\n",
       "      <th>1</th>\n",
       "      <td>01M332</td>\n",
       "      <td>1.0</td>\n",
       "      <td>46.0000</td>\n",
       "      <td>2.000000</td>\n",
       "      <td>22.000000</td>\n",
       "      <td>21.00</td>\n",
       "      <td>23.500000</td>\n",
       "      <td>NaN</td>\n",
       "    </tr>\n",
       "    <tr>\n",
       "      <th>2</th>\n",
       "      <td>01M378</td>\n",
       "      <td>1.0</td>\n",
       "      <td>33.0000</td>\n",
       "      <td>1.000000</td>\n",
       "      <td>33.000000</td>\n",
       "      <td>33.00</td>\n",
       "      <td>33.000000</td>\n",
       "      <td>NaN</td>\n",
       "    </tr>\n",
       "    <tr>\n",
       "      <th>3</th>\n",
       "      <td>01M448</td>\n",
       "      <td>1.0</td>\n",
       "      <td>105.6875</td>\n",
       "      <td>4.750000</td>\n",
       "      <td>22.231250</td>\n",
       "      <td>18.25</td>\n",
       "      <td>27.062500</td>\n",
       "      <td>NaN</td>\n",
       "    </tr>\n",
       "    <tr>\n",
       "      <th>4</th>\n",
       "      <td>01M450</td>\n",
       "      <td>1.0</td>\n",
       "      <td>57.6000</td>\n",
       "      <td>2.733333</td>\n",
       "      <td>21.200000</td>\n",
       "      <td>19.40</td>\n",
       "      <td>22.866667</td>\n",
       "      <td>NaN</td>\n",
       "    </tr>\n",
       "  </tbody>\n",
       "</table>\n",
       "</div>"
      ],
      "text/plain": [
       "      DBN  CSD  NUMBER OF STUDENTS / SEATS FILLED  NUMBER OF SECTIONS  \\\n",
       "0  01M292  1.0                            88.0000            4.000000   \n",
       "1  01M332  1.0                            46.0000            2.000000   \n",
       "2  01M378  1.0                            33.0000            1.000000   \n",
       "3  01M448  1.0                           105.6875            4.750000   \n",
       "4  01M450  1.0                            57.6000            2.733333   \n",
       "\n",
       "   AVERAGE CLASS SIZE  SIZE OF SMALLEST CLASS  SIZE OF LARGEST CLASS  \\\n",
       "0           22.564286                   18.50              26.571429   \n",
       "1           22.000000                   21.00              23.500000   \n",
       "2           33.000000                   33.00              33.000000   \n",
       "3           22.231250                   18.25              27.062500   \n",
       "4           21.200000                   19.40              22.866667   \n",
       "\n",
       "   SCHOOLWIDE PUPIL-TEACHER RATIO  \n",
       "0                             NaN  \n",
       "1                             NaN  \n",
       "2                             NaN  \n",
       "3                             NaN  \n",
       "4                             NaN  "
      ]
     },
     "execution_count": 23,
     "metadata": {},
     "output_type": "execute_result"
    }
   ],
   "source": [
    "## Group dataset along DBN field, and computing:\n",
    "class_size = (class_size.groupby('DBN')).agg(np.mean)\n",
    "\n",
    "## Assign back the DBN column: (because the groupby operate make DBN become index)\n",
    "class_size.reset_index(inplace=True)\n",
    "class_size.head()"
   ]
  },
  {
   "cell_type": "code",
   "execution_count": 24,
   "id": "06c1cfdd",
   "metadata": {},
   "outputs": [],
   "source": [
    "## Assign back to the class size data in data store:\n",
    "data['class_size'] = class_size"
   ]
  },
  {
   "cell_type": "markdown",
   "id": "ecd1ae13",
   "metadata": {},
   "source": [
    "We've done the class_size dataset, let's move to demographics data and see anything we could do."
   ]
  },
  {
   "cell_type": "code",
   "execution_count": 25,
   "id": "9759fd1e",
   "metadata": {
    "scrolled": true
   },
   "outputs": [
    {
     "data": {
      "text/html": [
       "<div>\n",
       "<style scoped>\n",
       "    .dataframe tbody tr th:only-of-type {\n",
       "        vertical-align: middle;\n",
       "    }\n",
       "\n",
       "    .dataframe tbody tr th {\n",
       "        vertical-align: top;\n",
       "    }\n",
       "\n",
       "    .dataframe thead th {\n",
       "        text-align: right;\n",
       "    }\n",
       "</style>\n",
       "<table border=\"1\" class=\"dataframe\">\n",
       "  <thead>\n",
       "    <tr style=\"text-align: right;\">\n",
       "      <th></th>\n",
       "      <th>DBN</th>\n",
       "      <th>Name</th>\n",
       "      <th>schoolyear</th>\n",
       "      <th>fl_percent</th>\n",
       "      <th>frl_percent</th>\n",
       "      <th>total_enrollment</th>\n",
       "      <th>prek</th>\n",
       "      <th>k</th>\n",
       "      <th>grade1</th>\n",
       "      <th>grade2</th>\n",
       "      <th>...</th>\n",
       "      <th>black_num</th>\n",
       "      <th>black_per</th>\n",
       "      <th>hispanic_num</th>\n",
       "      <th>hispanic_per</th>\n",
       "      <th>white_num</th>\n",
       "      <th>white_per</th>\n",
       "      <th>male_num</th>\n",
       "      <th>male_per</th>\n",
       "      <th>female_num</th>\n",
       "      <th>female_per</th>\n",
       "    </tr>\n",
       "  </thead>\n",
       "  <tbody>\n",
       "    <tr>\n",
       "      <th>0</th>\n",
       "      <td>01M015</td>\n",
       "      <td>P.S. 015 ROBERTO CLEMENTE</td>\n",
       "      <td>20052006</td>\n",
       "      <td>89.4</td>\n",
       "      <td>NaN</td>\n",
       "      <td>281</td>\n",
       "      <td>15</td>\n",
       "      <td>36</td>\n",
       "      <td>40</td>\n",
       "      <td>33</td>\n",
       "      <td>...</td>\n",
       "      <td>74</td>\n",
       "      <td>26.3</td>\n",
       "      <td>189</td>\n",
       "      <td>67.3</td>\n",
       "      <td>5</td>\n",
       "      <td>1.8</td>\n",
       "      <td>158.0</td>\n",
       "      <td>56.2</td>\n",
       "      <td>123.0</td>\n",
       "      <td>43.8</td>\n",
       "    </tr>\n",
       "    <tr>\n",
       "      <th>1</th>\n",
       "      <td>01M015</td>\n",
       "      <td>P.S. 015 ROBERTO CLEMENTE</td>\n",
       "      <td>20062007</td>\n",
       "      <td>89.4</td>\n",
       "      <td>NaN</td>\n",
       "      <td>243</td>\n",
       "      <td>15</td>\n",
       "      <td>29</td>\n",
       "      <td>39</td>\n",
       "      <td>38</td>\n",
       "      <td>...</td>\n",
       "      <td>68</td>\n",
       "      <td>28.0</td>\n",
       "      <td>153</td>\n",
       "      <td>63.0</td>\n",
       "      <td>4</td>\n",
       "      <td>1.6</td>\n",
       "      <td>140.0</td>\n",
       "      <td>57.6</td>\n",
       "      <td>103.0</td>\n",
       "      <td>42.4</td>\n",
       "    </tr>\n",
       "    <tr>\n",
       "      <th>2</th>\n",
       "      <td>01M015</td>\n",
       "      <td>P.S. 015 ROBERTO CLEMENTE</td>\n",
       "      <td>20072008</td>\n",
       "      <td>89.4</td>\n",
       "      <td>NaN</td>\n",
       "      <td>261</td>\n",
       "      <td>18</td>\n",
       "      <td>43</td>\n",
       "      <td>39</td>\n",
       "      <td>36</td>\n",
       "      <td>...</td>\n",
       "      <td>77</td>\n",
       "      <td>29.5</td>\n",
       "      <td>157</td>\n",
       "      <td>60.2</td>\n",
       "      <td>7</td>\n",
       "      <td>2.7</td>\n",
       "      <td>143.0</td>\n",
       "      <td>54.8</td>\n",
       "      <td>118.0</td>\n",
       "      <td>45.2</td>\n",
       "    </tr>\n",
       "  </tbody>\n",
       "</table>\n",
       "<p>3 rows × 38 columns</p>\n",
       "</div>"
      ],
      "text/plain": [
       "      DBN                       Name  schoolyear fl_percent  frl_percent  \\\n",
       "0  01M015  P.S. 015 ROBERTO CLEMENTE    20052006       89.4          NaN   \n",
       "1  01M015  P.S. 015 ROBERTO CLEMENTE    20062007       89.4          NaN   \n",
       "2  01M015  P.S. 015 ROBERTO CLEMENTE    20072008       89.4          NaN   \n",
       "\n",
       "   total_enrollment prek   k grade1 grade2  ... black_num black_per  \\\n",
       "0               281   15  36     40     33  ...        74      26.3   \n",
       "1               243   15  29     39     38  ...        68      28.0   \n",
       "2               261   18  43     39     36  ...        77      29.5   \n",
       "\n",
       "  hispanic_num hispanic_per white_num white_per male_num male_per female_num  \\\n",
       "0          189         67.3         5       1.8    158.0     56.2      123.0   \n",
       "1          153         63.0         4       1.6    140.0     57.6      103.0   \n",
       "2          157         60.2         7       2.7    143.0     54.8      118.0   \n",
       "\n",
       "  female_per  \n",
       "0       43.8  \n",
       "1       42.4  \n",
       "2       45.2  \n",
       "\n",
       "[3 rows x 38 columns]"
      ]
     },
     "execution_count": 25,
     "metadata": {},
     "output_type": "execute_result"
    }
   ],
   "source": [
    "# Check the demographics data:\n",
    "data['demographics'].head(n=3)"
   ]
  },
  {
   "cell_type": "markdown",
   "id": "488bc388",
   "metadata": {},
   "source": [
    "We got the same scence as the previous version of class_size data: The duplicate. One item (school) duplicated by the _schoolyear_ field, which describe the period for caculating of studen't graduation, and back to the dataset of SAT scores we got - remind that we just analysis on _the period of 2011~2012_ => This is a condition to filter the data."
   ]
  },
  {
   "cell_type": "markdown",
   "id": "058299c7",
   "metadata": {},
   "source": [
    "## Sub-mission 2; Clean/ condense the Demographics data:"
   ]
  },
  {
   "cell_type": "code",
   "execution_count": 26,
   "id": "40db270e",
   "metadata": {},
   "outputs": [
    {
     "data": {
      "text/plain": [
       "dtype('int64')"
      ]
     },
     "execution_count": 26,
     "metadata": {},
     "output_type": "execute_result"
    }
   ],
   "source": [
    "## Check the schoolyear field:\n",
    "data['demographics']['schoolyear'].dtypes"
   ]
  },
  {
   "cell_type": "code",
   "execution_count": 27,
   "id": "1dfd9a6e",
   "metadata": {},
   "outputs": [
    {
     "data": {
      "text/html": [
       "<div>\n",
       "<style scoped>\n",
       "    .dataframe tbody tr th:only-of-type {\n",
       "        vertical-align: middle;\n",
       "    }\n",
       "\n",
       "    .dataframe tbody tr th {\n",
       "        vertical-align: top;\n",
       "    }\n",
       "\n",
       "    .dataframe thead th {\n",
       "        text-align: right;\n",
       "    }\n",
       "</style>\n",
       "<table border=\"1\" class=\"dataframe\">\n",
       "  <thead>\n",
       "    <tr style=\"text-align: right;\">\n",
       "      <th></th>\n",
       "      <th>DBN</th>\n",
       "      <th>Name</th>\n",
       "      <th>schoolyear</th>\n",
       "      <th>fl_percent</th>\n",
       "      <th>frl_percent</th>\n",
       "      <th>total_enrollment</th>\n",
       "      <th>prek</th>\n",
       "      <th>k</th>\n",
       "      <th>grade1</th>\n",
       "      <th>grade2</th>\n",
       "      <th>...</th>\n",
       "      <th>black_num</th>\n",
       "      <th>black_per</th>\n",
       "      <th>hispanic_num</th>\n",
       "      <th>hispanic_per</th>\n",
       "      <th>white_num</th>\n",
       "      <th>white_per</th>\n",
       "      <th>male_num</th>\n",
       "      <th>male_per</th>\n",
       "      <th>female_num</th>\n",
       "      <th>female_per</th>\n",
       "    </tr>\n",
       "  </thead>\n",
       "  <tbody>\n",
       "    <tr>\n",
       "      <th>6</th>\n",
       "      <td>01M015</td>\n",
       "      <td>P.S. 015 ROBERTO CLEMENTE</td>\n",
       "      <td>20112012</td>\n",
       "      <td>NaN</td>\n",
       "      <td>89.4</td>\n",
       "      <td>189</td>\n",
       "      <td>13</td>\n",
       "      <td>31</td>\n",
       "      <td>35</td>\n",
       "      <td>28</td>\n",
       "      <td>...</td>\n",
       "      <td>63</td>\n",
       "      <td>33.3</td>\n",
       "      <td>109</td>\n",
       "      <td>57.7</td>\n",
       "      <td>4</td>\n",
       "      <td>2.1</td>\n",
       "      <td>97.0</td>\n",
       "      <td>51.3</td>\n",
       "      <td>92.0</td>\n",
       "      <td>48.7</td>\n",
       "    </tr>\n",
       "    <tr>\n",
       "      <th>13</th>\n",
       "      <td>01M019</td>\n",
       "      <td>P.S. 019 ASHER LEVY</td>\n",
       "      <td>20112012</td>\n",
       "      <td>NaN</td>\n",
       "      <td>61.5</td>\n",
       "      <td>328</td>\n",
       "      <td>32</td>\n",
       "      <td>46</td>\n",
       "      <td>52</td>\n",
       "      <td>54</td>\n",
       "      <td>...</td>\n",
       "      <td>81</td>\n",
       "      <td>24.7</td>\n",
       "      <td>158</td>\n",
       "      <td>48.2</td>\n",
       "      <td>28</td>\n",
       "      <td>8.5</td>\n",
       "      <td>147.0</td>\n",
       "      <td>44.8</td>\n",
       "      <td>181.0</td>\n",
       "      <td>55.2</td>\n",
       "    </tr>\n",
       "    <tr>\n",
       "      <th>20</th>\n",
       "      <td>01M020</td>\n",
       "      <td>PS 020 ANNA SILVER</td>\n",
       "      <td>20112012</td>\n",
       "      <td>NaN</td>\n",
       "      <td>92.5</td>\n",
       "      <td>626</td>\n",
       "      <td>52</td>\n",
       "      <td>102</td>\n",
       "      <td>121</td>\n",
       "      <td>87</td>\n",
       "      <td>...</td>\n",
       "      <td>55</td>\n",
       "      <td>8.8</td>\n",
       "      <td>357</td>\n",
       "      <td>57.0</td>\n",
       "      <td>16</td>\n",
       "      <td>2.6</td>\n",
       "      <td>330.0</td>\n",
       "      <td>52.7</td>\n",
       "      <td>296.0</td>\n",
       "      <td>47.3</td>\n",
       "    </tr>\n",
       "  </tbody>\n",
       "</table>\n",
       "<p>3 rows × 38 columns</p>\n",
       "</div>"
      ],
      "text/plain": [
       "       DBN                                              Name  schoolyear  \\\n",
       "6   01M015  P.S. 015 ROBERTO CLEMENTE                           20112012   \n",
       "13  01M019  P.S. 019 ASHER LEVY                                 20112012   \n",
       "20  01M020  PS 020 ANNA SILVER                                  20112012   \n",
       "\n",
       "   fl_percent  frl_percent  total_enrollment prek    k grade1 grade2  ...  \\\n",
       "6         NaN         89.4               189   13   31     35     28  ...   \n",
       "13        NaN         61.5               328   32   46     52     54  ...   \n",
       "20        NaN         92.5               626   52  102    121     87  ...   \n",
       "\n",
       "   black_num black_per hispanic_num hispanic_per white_num white_per male_num  \\\n",
       "6         63      33.3          109         57.7         4       2.1     97.0   \n",
       "13        81      24.7          158         48.2        28       8.5    147.0   \n",
       "20        55       8.8          357         57.0        16       2.6    330.0   \n",
       "\n",
       "   male_per female_num female_per  \n",
       "6      51.3       92.0       48.7  \n",
       "13     44.8      181.0       55.2  \n",
       "20     52.7      296.0       47.3  \n",
       "\n",
       "[3 rows x 38 columns]"
      ]
     },
     "execution_count": 27,
     "metadata": {},
     "output_type": "execute_result"
    }
   ],
   "source": [
    "#Filter\n",
    "data['demographics'] = data['demographics'][data['demographics']['schoolyear']==20112012]\n",
    "data['demographics'].head(n=3)"
   ]
  },
  {
   "cell_type": "markdown",
   "id": "ecc4627a",
   "metadata": {},
   "source": [
    "Make a quick glance test for first 3 records, there's no duplicate of DBN items => Everything went OK."
   ]
  },
  {
   "cell_type": "markdown",
   "id": "b422797c",
   "metadata": {},
   "source": [
    "## Sub-mission 3: Clean the graduations data:"
   ]
  },
  {
   "cell_type": "markdown",
   "id": "a8e1fdcc",
   "metadata": {},
   "source": [
    "The next process is check the graduations data and clean it if any duplicate appear, now let's take a few records:"
   ]
  },
  {
   "cell_type": "code",
   "execution_count": 28,
   "id": "e7dedfd7",
   "metadata": {},
   "outputs": [
    {
     "data": {
      "text/html": [
       "<div>\n",
       "<style scoped>\n",
       "    .dataframe tbody tr th:only-of-type {\n",
       "        vertical-align: middle;\n",
       "    }\n",
       "\n",
       "    .dataframe tbody tr th {\n",
       "        vertical-align: top;\n",
       "    }\n",
       "\n",
       "    .dataframe thead th {\n",
       "        text-align: right;\n",
       "    }\n",
       "</style>\n",
       "<table border=\"1\" class=\"dataframe\">\n",
       "  <thead>\n",
       "    <tr style=\"text-align: right;\">\n",
       "      <th></th>\n",
       "      <th>Demographic</th>\n",
       "      <th>DBN</th>\n",
       "      <th>School Name</th>\n",
       "      <th>Cohort</th>\n",
       "      <th>Total Cohort</th>\n",
       "      <th>Total Grads - n</th>\n",
       "      <th>Total Grads - % of cohort</th>\n",
       "      <th>Total Regents - n</th>\n",
       "      <th>Total Regents - % of cohort</th>\n",
       "      <th>Total Regents - % of grads</th>\n",
       "      <th>...</th>\n",
       "      <th>Regents w/o Advanced - n</th>\n",
       "      <th>Regents w/o Advanced - % of cohort</th>\n",
       "      <th>Regents w/o Advanced - % of grads</th>\n",
       "      <th>Local - n</th>\n",
       "      <th>Local - % of cohort</th>\n",
       "      <th>Local - % of grads</th>\n",
       "      <th>Still Enrolled - n</th>\n",
       "      <th>Still Enrolled - % of cohort</th>\n",
       "      <th>Dropped Out - n</th>\n",
       "      <th>Dropped Out - % of cohort</th>\n",
       "    </tr>\n",
       "  </thead>\n",
       "  <tbody>\n",
       "    <tr>\n",
       "      <th>0</th>\n",
       "      <td>Total Cohort</td>\n",
       "      <td>01M292</td>\n",
       "      <td>HENRY STREET SCHOOL FOR INTERNATIONAL</td>\n",
       "      <td>2003</td>\n",
       "      <td>5</td>\n",
       "      <td>s</td>\n",
       "      <td>NaN</td>\n",
       "      <td>s</td>\n",
       "      <td>NaN</td>\n",
       "      <td>NaN</td>\n",
       "      <td>...</td>\n",
       "      <td>s</td>\n",
       "      <td>NaN</td>\n",
       "      <td>NaN</td>\n",
       "      <td>s</td>\n",
       "      <td>NaN</td>\n",
       "      <td>NaN</td>\n",
       "      <td>s</td>\n",
       "      <td>NaN</td>\n",
       "      <td>s</td>\n",
       "      <td>NaN</td>\n",
       "    </tr>\n",
       "    <tr>\n",
       "      <th>1</th>\n",
       "      <td>Total Cohort</td>\n",
       "      <td>01M292</td>\n",
       "      <td>HENRY STREET SCHOOL FOR INTERNATIONAL</td>\n",
       "      <td>2004</td>\n",
       "      <td>55</td>\n",
       "      <td>37</td>\n",
       "      <td>67.3</td>\n",
       "      <td>17</td>\n",
       "      <td>30.9</td>\n",
       "      <td>45.9</td>\n",
       "      <td>...</td>\n",
       "      <td>17</td>\n",
       "      <td>30.9</td>\n",
       "      <td>45.9</td>\n",
       "      <td>20</td>\n",
       "      <td>36.4</td>\n",
       "      <td>54.1</td>\n",
       "      <td>15</td>\n",
       "      <td>27.3</td>\n",
       "      <td>3</td>\n",
       "      <td>5.5</td>\n",
       "    </tr>\n",
       "    <tr>\n",
       "      <th>2</th>\n",
       "      <td>Total Cohort</td>\n",
       "      <td>01M292</td>\n",
       "      <td>HENRY STREET SCHOOL FOR INTERNATIONAL</td>\n",
       "      <td>2005</td>\n",
       "      <td>64</td>\n",
       "      <td>43</td>\n",
       "      <td>67.2</td>\n",
       "      <td>27</td>\n",
       "      <td>42.2</td>\n",
       "      <td>62.8</td>\n",
       "      <td>...</td>\n",
       "      <td>27</td>\n",
       "      <td>42.2</td>\n",
       "      <td>62.8</td>\n",
       "      <td>16</td>\n",
       "      <td>25.0</td>\n",
       "      <td>37.2</td>\n",
       "      <td>9</td>\n",
       "      <td>14.1</td>\n",
       "      <td>9</td>\n",
       "      <td>14.1</td>\n",
       "    </tr>\n",
       "  </tbody>\n",
       "</table>\n",
       "<p>3 rows × 23 columns</p>\n",
       "</div>"
      ],
      "text/plain": [
       "    Demographic     DBN                            School Name Cohort  \\\n",
       "0  Total Cohort  01M292  HENRY STREET SCHOOL FOR INTERNATIONAL   2003   \n",
       "1  Total Cohort  01M292  HENRY STREET SCHOOL FOR INTERNATIONAL   2004   \n",
       "2  Total Cohort  01M292  HENRY STREET SCHOOL FOR INTERNATIONAL   2005   \n",
       "\n",
       "  Total Cohort Total Grads - n  Total Grads - % of cohort Total Regents - n  \\\n",
       "0            5               s                        NaN                 s   \n",
       "1           55              37                       67.3                17   \n",
       "2           64              43                       67.2                27   \n",
       "\n",
       "   Total Regents - % of cohort  Total Regents - % of grads  ...  \\\n",
       "0                          NaN                         NaN  ...   \n",
       "1                         30.9                        45.9  ...   \n",
       "2                         42.2                        62.8  ...   \n",
       "\n",
       "  Regents w/o Advanced - n  Regents w/o Advanced - % of cohort  \\\n",
       "0                        s                                 NaN   \n",
       "1                       17                                30.9   \n",
       "2                       27                                42.2   \n",
       "\n",
       "   Regents w/o Advanced - % of grads Local - n  Local - % of cohort  \\\n",
       "0                                NaN         s                  NaN   \n",
       "1                               45.9        20                 36.4   \n",
       "2                               62.8        16                 25.0   \n",
       "\n",
       "   Local - % of grads Still Enrolled - n  Still Enrolled - % of cohort  \\\n",
       "0                 NaN                  s                           NaN   \n",
       "1                54.1                 15                          27.3   \n",
       "2                37.2                  9                          14.1   \n",
       "\n",
       "   Dropped Out - n Dropped Out - % of cohort  \n",
       "0                s                       NaN  \n",
       "1                3                       5.5  \n",
       "2                9                      14.1  \n",
       "\n",
       "[3 rows x 23 columns]"
      ]
     },
     "execution_count": 28,
     "metadata": {},
     "output_type": "execute_result"
    }
   ],
   "source": [
    "## Check the graduations data:\n",
    "data['graduations'].head(n=3)"
   ]
  },
  {
   "cell_type": "markdown",
   "id": "d014e8f2",
   "metadata": {},
   "source": [
    "Because we just give our interest in period of 2011-2012 => let's check the Cohort field if there is any value out of range we want. In additional, we just want the value `Total Cohort` in Demographic field (the Demographic appears to refer to a specific demographic group, `Cohort` refer to the year the data represents) so let's check out and see what's to delete."
   ]
  },
  {
   "cell_type": "code",
   "execution_count": 29,
   "id": "67daa304",
   "metadata": {},
   "outputs": [
    {
     "data": {
      "text/plain": [
       "array(['2003', '2004', '2005', '2006', '2006 Aug', '2001', '2002'],\n",
       "      dtype=object)"
      ]
     },
     "execution_count": 29,
     "metadata": {},
     "output_type": "execute_result"
    }
   ],
   "source": [
    "## Check the range period in Cohort:\n",
    "data['graduations']['Cohort'].unique()"
   ]
  },
  {
   "cell_type": "code",
   "execution_count": 30,
   "id": "2a9456bb",
   "metadata": {},
   "outputs": [
    {
     "data": {
      "text/html": [
       "<div>\n",
       "<style scoped>\n",
       "    .dataframe tbody tr th:only-of-type {\n",
       "        vertical-align: middle;\n",
       "    }\n",
       "\n",
       "    .dataframe tbody tr th {\n",
       "        vertical-align: top;\n",
       "    }\n",
       "\n",
       "    .dataframe thead th {\n",
       "        text-align: right;\n",
       "    }\n",
       "</style>\n",
       "<table border=\"1\" class=\"dataframe\">\n",
       "  <thead>\n",
       "    <tr style=\"text-align: right;\">\n",
       "      <th></th>\n",
       "      <th>Demographic</th>\n",
       "      <th>DBN</th>\n",
       "      <th>School Name</th>\n",
       "      <th>Cohort</th>\n",
       "      <th>Total Cohort</th>\n",
       "      <th>Total Grads - n</th>\n",
       "      <th>Total Grads - % of cohort</th>\n",
       "      <th>Total Regents - n</th>\n",
       "      <th>Total Regents - % of cohort</th>\n",
       "      <th>Total Regents - % of grads</th>\n",
       "      <th>...</th>\n",
       "      <th>Regents w/o Advanced - n</th>\n",
       "      <th>Regents w/o Advanced - % of cohort</th>\n",
       "      <th>Regents w/o Advanced - % of grads</th>\n",
       "      <th>Local - n</th>\n",
       "      <th>Local - % of cohort</th>\n",
       "      <th>Local - % of grads</th>\n",
       "      <th>Still Enrolled - n</th>\n",
       "      <th>Still Enrolled - % of cohort</th>\n",
       "      <th>Dropped Out - n</th>\n",
       "      <th>Dropped Out - % of cohort</th>\n",
       "    </tr>\n",
       "  </thead>\n",
       "  <tbody>\n",
       "    <tr>\n",
       "      <th>3</th>\n",
       "      <td>Total Cohort</td>\n",
       "      <td>01M292</td>\n",
       "      <td>HENRY STREET SCHOOL FOR INTERNATIONAL</td>\n",
       "      <td>2006</td>\n",
       "      <td>78</td>\n",
       "      <td>43</td>\n",
       "      <td>55.1</td>\n",
       "      <td>36</td>\n",
       "      <td>46.2</td>\n",
       "      <td>83.7</td>\n",
       "      <td>...</td>\n",
       "      <td>36</td>\n",
       "      <td>46.2</td>\n",
       "      <td>83.7</td>\n",
       "      <td>7</td>\n",
       "      <td>9.0</td>\n",
       "      <td>16.3</td>\n",
       "      <td>16</td>\n",
       "      <td>20.5</td>\n",
       "      <td>11</td>\n",
       "      <td>14.1</td>\n",
       "    </tr>\n",
       "    <tr>\n",
       "      <th>10</th>\n",
       "      <td>Total Cohort</td>\n",
       "      <td>01M448</td>\n",
       "      <td>UNIVERSITY NEIGHBORHOOD HIGH SCHOOL</td>\n",
       "      <td>2006</td>\n",
       "      <td>124</td>\n",
       "      <td>53</td>\n",
       "      <td>42.7</td>\n",
       "      <td>42</td>\n",
       "      <td>33.9</td>\n",
       "      <td>79.2</td>\n",
       "      <td>...</td>\n",
       "      <td>34</td>\n",
       "      <td>27.4</td>\n",
       "      <td>64.2</td>\n",
       "      <td>11</td>\n",
       "      <td>8.9</td>\n",
       "      <td>20.8</td>\n",
       "      <td>46</td>\n",
       "      <td>37.1</td>\n",
       "      <td>20</td>\n",
       "      <td>16.1</td>\n",
       "    </tr>\n",
       "    <tr>\n",
       "      <th>17</th>\n",
       "      <td>Total Cohort</td>\n",
       "      <td>01M450</td>\n",
       "      <td>EAST SIDE COMMUNITY SCHOOL</td>\n",
       "      <td>2006</td>\n",
       "      <td>90</td>\n",
       "      <td>70</td>\n",
       "      <td>77.8</td>\n",
       "      <td>67</td>\n",
       "      <td>74.4</td>\n",
       "      <td>95.7</td>\n",
       "      <td>...</td>\n",
       "      <td>67</td>\n",
       "      <td>74.4</td>\n",
       "      <td>95.7</td>\n",
       "      <td>3</td>\n",
       "      <td>3.3</td>\n",
       "      <td>4.3</td>\n",
       "      <td>15</td>\n",
       "      <td>16.7</td>\n",
       "      <td>5</td>\n",
       "      <td>5.6</td>\n",
       "    </tr>\n",
       "  </tbody>\n",
       "</table>\n",
       "<p>3 rows × 23 columns</p>\n",
       "</div>"
      ],
      "text/plain": [
       "     Demographic     DBN                            School Name Cohort  \\\n",
       "3   Total Cohort  01M292  HENRY STREET SCHOOL FOR INTERNATIONAL   2006   \n",
       "10  Total Cohort  01M448    UNIVERSITY NEIGHBORHOOD HIGH SCHOOL   2006   \n",
       "17  Total Cohort  01M450             EAST SIDE COMMUNITY SCHOOL   2006   \n",
       "\n",
       "   Total Cohort Total Grads - n  Total Grads - % of cohort Total Regents - n  \\\n",
       "3            78              43                       55.1                36   \n",
       "10          124              53                       42.7                42   \n",
       "17           90              70                       77.8                67   \n",
       "\n",
       "    Total Regents - % of cohort  Total Regents - % of grads  ...  \\\n",
       "3                          46.2                        83.7  ...   \n",
       "10                         33.9                        79.2  ...   \n",
       "17                         74.4                        95.7  ...   \n",
       "\n",
       "   Regents w/o Advanced - n  Regents w/o Advanced - % of cohort  \\\n",
       "3                        36                                46.2   \n",
       "10                       34                                27.4   \n",
       "17                       67                                74.4   \n",
       "\n",
       "    Regents w/o Advanced - % of grads Local - n  Local - % of cohort  \\\n",
       "3                                83.7         7                  9.0   \n",
       "10                               64.2        11                  8.9   \n",
       "17                               95.7         3                  3.3   \n",
       "\n",
       "    Local - % of grads Still Enrolled - n  Still Enrolled - % of cohort  \\\n",
       "3                 16.3                 16                          20.5   \n",
       "10                20.8                 46                          37.1   \n",
       "17                 4.3                 15                          16.7   \n",
       "\n",
       "    Dropped Out - n Dropped Out - % of cohort  \n",
       "3                11                      14.1  \n",
       "10               20                      16.1  \n",
       "17                5                       5.6  \n",
       "\n",
       "[3 rows x 23 columns]"
      ]
     },
     "execution_count": 30,
     "metadata": {},
     "output_type": "execute_result"
    }
   ],
   "source": [
    "## Create mask condition:\n",
    "bool_1 = data['graduations']['Cohort'] == '2006'\n",
    "bool_2 = data['graduations']['Demographic'] == 'Total Cohort'\n",
    "\n",
    "combine = bool_1&bool_2\n",
    "\n",
    "## Filter:\n",
    "data['graduations'] = data['graduations'][combine]\n",
    "data['graduations'].head(n=3)"
   ]
  },
  {
   "cell_type": "markdown",
   "id": "16cb5e78",
   "metadata": {},
   "source": [
    "We've got almost the data without any DBN duplicate, now back to the Advanced Placement (AP). High school students take the AP exams before applying to college. There are several AP exams, each corresponding to a school subject. High school students who earn high scores may receive college credit. The thing we need to perform is convert the format of string AP test score to the numeric."
   ]
  },
  {
   "cell_type": "markdown",
   "id": "50a4eb59",
   "metadata": {},
   "source": [
    "## Sub-mission 4: Convert the AP test core value"
   ]
  },
  {
   "cell_type": "markdown",
   "id": "f6c1cbe7",
   "metadata": {},
   "source": [
    "AP exams have a 1 to 5 scale; 3 or higher is a passing score. Many high school students take AP exams -- particularly those who attend academically challenging institutions. AP exams are rarer in schools that lack funding or academic rigor. It will be interesting to find out whether AP exam scores are correlated with SAT scores across high schools\n",
    "\n",
    "-----\n",
    "There are three columns we'll need to convert:\n",
    "\n",
    "- __AP Test Takers__ (note that there's a trailing space in the column name)\n",
    "- __Total Exams Taken__\n",
    "- __Number of Exams with scores 3 4 or 5__\n"
   ]
  },
  {
   "cell_type": "code",
   "execution_count": 31,
   "id": "837fe7c0",
   "metadata": {},
   "outputs": [
    {
     "data": {
      "text/plain": [
       "Index(['DBN', 'SchoolName', 'AP Test Takers ', 'Total Exams Taken',\n",
       "       'Number of Exams with scores 3 4 or 5'],\n",
       "      dtype='object')"
      ]
     },
     "execution_count": 31,
     "metadata": {},
     "output_type": "execute_result"
    }
   ],
   "source": [
    "## Check column name:\n",
    "data['ap_2010'].columns"
   ]
  },
  {
   "cell_type": "code",
   "execution_count": 32,
   "id": "a893738b",
   "metadata": {},
   "outputs": [
    {
     "data": {
      "text/plain": [
       "AP Test Takers                          float64\n",
       "Total Exams Taken                       float64\n",
       "Number of Exams with scores 3 4 or 5    float64\n",
       "dtype: object"
      ]
     },
     "execution_count": 32,
     "metadata": {},
     "output_type": "execute_result"
    }
   ],
   "source": [
    "## Format column name:\n",
    "data['ap_2010'].columns = data['ap_2010'].columns.str.strip()\n",
    "\n",
    "## Convert value format\n",
    "col = ['AP Test Takers', 'Total Exams Taken','Number of Exams with scores 3 4 or 5']\n",
    "\n",
    "for name in col:\n",
    "    data['ap_2010'][name] = pd.to_numeric(data['ap_2010'][name], errors='coerce')\n",
    "    \n",
    "# Check:\n",
    "data['ap_2010'][col].dtypes"
   ]
  },
  {
   "cell_type": "markdown",
   "id": "cb0f4c77",
   "metadata": {},
   "source": [
    "Now we've almost done, so it's time to considering how to combine each dataset in data store. We have DBN field is unique, but we also observed that not all the DBN value in SAT result dataset will be match all in the other dataset (in other word, the other dataset will contain more DBN value than SAT result data) => That's the reason we need to care about what kind of merge we need to perform?? \n",
    "\n",
    "--------\n",
    "And it's a good time to look back at our goal: _Find the correlation between SAT score vs demographics data_ => Since our SAT data isn't large as other data => We don't want any drop information of SAT score data happend, so which kind of combine should we have to operate?"
   ]
  },
  {
   "cell_type": "markdown",
   "id": "764a88e5",
   "metadata": {},
   "source": [
    "## Sub-mission 5: Combine the data"
   ]
  },
  {
   "cell_type": "markdown",
   "id": "a7dfe782",
   "metadata": {},
   "source": [
    "We will use merge function of Py to operate, and use the method `left` on those field which DBN isn't enough to avoid loss data, in the countracy, `inner` will bring us the properly data. Let's start first with `sat_results` dataset."
   ]
  },
  {
   "cell_type": "code",
   "execution_count": 33,
   "id": "485d2c7b",
   "metadata": {
    "scrolled": true
   },
   "outputs": [
    {
     "name": "stdout",
     "output_type": "stream",
     "text": [
      "(479, 33)\n"
     ]
    },
    {
     "data": {
      "text/html": [
       "<div>\n",
       "<style scoped>\n",
       "    .dataframe tbody tr th:only-of-type {\n",
       "        vertical-align: middle;\n",
       "    }\n",
       "\n",
       "    .dataframe tbody tr th {\n",
       "        vertical-align: top;\n",
       "    }\n",
       "\n",
       "    .dataframe thead th {\n",
       "        text-align: right;\n",
       "    }\n",
       "</style>\n",
       "<table border=\"1\" class=\"dataframe\">\n",
       "  <thead>\n",
       "    <tr style=\"text-align: right;\">\n",
       "      <th></th>\n",
       "      <th>DBN</th>\n",
       "      <th>SCHOOL NAME</th>\n",
       "      <th>Num of SAT Test Takers</th>\n",
       "      <th>SAT Critical Reading Avg. Score</th>\n",
       "      <th>SAT Math Avg. Score</th>\n",
       "      <th>SAT Writing Avg. Score</th>\n",
       "      <th>sat_scores</th>\n",
       "      <th>SchoolName</th>\n",
       "      <th>AP Test Takers</th>\n",
       "      <th>Total Exams Taken</th>\n",
       "      <th>...</th>\n",
       "      <th>Regents w/o Advanced - n</th>\n",
       "      <th>Regents w/o Advanced - % of cohort</th>\n",
       "      <th>Regents w/o Advanced - % of grads</th>\n",
       "      <th>Local - n</th>\n",
       "      <th>Local - % of cohort</th>\n",
       "      <th>Local - % of grads</th>\n",
       "      <th>Still Enrolled - n</th>\n",
       "      <th>Still Enrolled - % of cohort</th>\n",
       "      <th>Dropped Out - n</th>\n",
       "      <th>Dropped Out - % of cohort</th>\n",
       "    </tr>\n",
       "  </thead>\n",
       "  <tbody>\n",
       "    <tr>\n",
       "      <th>0</th>\n",
       "      <td>01M292</td>\n",
       "      <td>HENRY STREET SCHOOL FOR INTERNATIONAL STUDIES</td>\n",
       "      <td>29</td>\n",
       "      <td>355.0</td>\n",
       "      <td>404.0</td>\n",
       "      <td>363.0</td>\n",
       "      <td>1122.0</td>\n",
       "      <td>NaN</td>\n",
       "      <td>NaN</td>\n",
       "      <td>NaN</td>\n",
       "      <td>...</td>\n",
       "      <td>36</td>\n",
       "      <td>46.2</td>\n",
       "      <td>83.7</td>\n",
       "      <td>7</td>\n",
       "      <td>9.0</td>\n",
       "      <td>16.3</td>\n",
       "      <td>16</td>\n",
       "      <td>20.5</td>\n",
       "      <td>11</td>\n",
       "      <td>14.1</td>\n",
       "    </tr>\n",
       "    <tr>\n",
       "      <th>1</th>\n",
       "      <td>01M448</td>\n",
       "      <td>UNIVERSITY NEIGHBORHOOD HIGH SCHOOL</td>\n",
       "      <td>91</td>\n",
       "      <td>383.0</td>\n",
       "      <td>423.0</td>\n",
       "      <td>366.0</td>\n",
       "      <td>1172.0</td>\n",
       "      <td>UNIVERSITY NEIGHBORHOOD H.S.</td>\n",
       "      <td>39.0</td>\n",
       "      <td>49.0</td>\n",
       "      <td>...</td>\n",
       "      <td>34</td>\n",
       "      <td>27.4</td>\n",
       "      <td>64.2</td>\n",
       "      <td>11</td>\n",
       "      <td>8.9</td>\n",
       "      <td>20.8</td>\n",
       "      <td>46</td>\n",
       "      <td>37.1</td>\n",
       "      <td>20</td>\n",
       "      <td>16.1</td>\n",
       "    </tr>\n",
       "    <tr>\n",
       "      <th>2</th>\n",
       "      <td>01M450</td>\n",
       "      <td>EAST SIDE COMMUNITY SCHOOL</td>\n",
       "      <td>70</td>\n",
       "      <td>377.0</td>\n",
       "      <td>402.0</td>\n",
       "      <td>370.0</td>\n",
       "      <td>1149.0</td>\n",
       "      <td>EAST SIDE COMMUNITY HS</td>\n",
       "      <td>19.0</td>\n",
       "      <td>21.0</td>\n",
       "      <td>...</td>\n",
       "      <td>67</td>\n",
       "      <td>74.4</td>\n",
       "      <td>95.7</td>\n",
       "      <td>3</td>\n",
       "      <td>3.3</td>\n",
       "      <td>4.3</td>\n",
       "      <td>15</td>\n",
       "      <td>16.7</td>\n",
       "      <td>5</td>\n",
       "      <td>5.6</td>\n",
       "    </tr>\n",
       "  </tbody>\n",
       "</table>\n",
       "<p>3 rows × 33 columns</p>\n",
       "</div>"
      ],
      "text/plain": [
       "      DBN                                    SCHOOL NAME  \\\n",
       "0  01M292  HENRY STREET SCHOOL FOR INTERNATIONAL STUDIES   \n",
       "1  01M448            UNIVERSITY NEIGHBORHOOD HIGH SCHOOL   \n",
       "2  01M450                     EAST SIDE COMMUNITY SCHOOL   \n",
       "\n",
       "  Num of SAT Test Takers  SAT Critical Reading Avg. Score  \\\n",
       "0                     29                            355.0   \n",
       "1                     91                            383.0   \n",
       "2                     70                            377.0   \n",
       "\n",
       "   SAT Math Avg. Score  SAT Writing Avg. Score  sat_scores  \\\n",
       "0                404.0                   363.0      1122.0   \n",
       "1                423.0                   366.0      1172.0   \n",
       "2                402.0                   370.0      1149.0   \n",
       "\n",
       "                     SchoolName  AP Test Takers  Total Exams Taken  ...  \\\n",
       "0                           NaN             NaN                NaN  ...   \n",
       "1  UNIVERSITY NEIGHBORHOOD H.S.            39.0               49.0  ...   \n",
       "2        EAST SIDE COMMUNITY HS            19.0               21.0  ...   \n",
       "\n",
       "   Regents w/o Advanced - n Regents w/o Advanced - % of cohort  \\\n",
       "0                        36                               46.2   \n",
       "1                        34                               27.4   \n",
       "2                        67                               74.4   \n",
       "\n",
       "  Regents w/o Advanced - % of grads Local - n Local - % of cohort  \\\n",
       "0                              83.7         7                 9.0   \n",
       "1                              64.2        11                 8.9   \n",
       "2                              95.7         3                 3.3   \n",
       "\n",
       "  Local - % of grads  Still Enrolled - n Still Enrolled - % of cohort  \\\n",
       "0               16.3                  16                         20.5   \n",
       "1               20.8                  46                         37.1   \n",
       "2                4.3                  15                         16.7   \n",
       "\n",
       "   Dropped Out - n  Dropped Out - % of cohort  \n",
       "0               11                       14.1  \n",
       "1               20                       16.1  \n",
       "2                5                        5.6  \n",
       "\n",
       "[3 rows x 33 columns]"
      ]
     },
     "execution_count": 33,
     "metadata": {},
     "output_type": "execute_result"
    }
   ],
   "source": [
    "# Combine first pair dataset:\n",
    "\n",
    "combine = data['sat_results'] ## define the left data\n",
    "combine = combine.merge(data['ap_2010'],how='left',on='DBN')\n",
    "\n",
    "# Combine the next dataset:\n",
    "combine = combine.merge(data['graduations'], how='left', on='DBN')\n",
    "\n",
    "# Check:\n",
    "print(combine.shape)\n",
    "combine.head(n=3)"
   ]
  },
  {
   "cell_type": "markdown",
   "id": "309c010d",
   "metadata": {},
   "source": [
    "Now that we've performed the left joins, we still have to merge `class_size, demographics, survey,` and `hs_directory` into combined. Since these files contain information that's more valuable to our analysis and also have fewer missing DBN values, we'll use the inner join type."
   ]
  },
  {
   "cell_type": "code",
   "execution_count": 34,
   "id": "4c37310f",
   "metadata": {},
   "outputs": [],
   "source": [
    "# Setting for display more columns:\n",
    "pd.set_option('display.max_columns',60)"
   ]
  },
  {
   "cell_type": "code",
   "execution_count": 35,
   "id": "a6a391ab",
   "metadata": {},
   "outputs": [
    {
     "name": "stdout",
     "output_type": "stream",
     "text": [
      "(435, 99)\n"
     ]
    },
    {
     "data": {
      "text/html": [
       "<div>\n",
       "<style scoped>\n",
       "    .dataframe tbody tr th:only-of-type {\n",
       "        vertical-align: middle;\n",
       "    }\n",
       "\n",
       "    .dataframe tbody tr th {\n",
       "        vertical-align: top;\n",
       "    }\n",
       "\n",
       "    .dataframe thead th {\n",
       "        text-align: right;\n",
       "    }\n",
       "</style>\n",
       "<table border=\"1\" class=\"dataframe\">\n",
       "  <thead>\n",
       "    <tr style=\"text-align: right;\">\n",
       "      <th></th>\n",
       "      <th>DBN</th>\n",
       "      <th>SCHOOL NAME</th>\n",
       "      <th>Num of SAT Test Takers</th>\n",
       "      <th>SAT Critical Reading Avg. Score</th>\n",
       "      <th>SAT Math Avg. Score</th>\n",
       "      <th>SAT Writing Avg. Score</th>\n",
       "      <th>sat_scores</th>\n",
       "      <th>SchoolName</th>\n",
       "      <th>AP Test Takers</th>\n",
       "      <th>Total Exams Taken</th>\n",
       "      <th>Number of Exams with scores 3 4 or 5</th>\n",
       "      <th>Demographic</th>\n",
       "      <th>School Name</th>\n",
       "      <th>Cohort</th>\n",
       "      <th>Total Cohort</th>\n",
       "      <th>Total Grads - n</th>\n",
       "      <th>Total Grads - % of cohort</th>\n",
       "      <th>Total Regents - n</th>\n",
       "      <th>Total Regents - % of cohort</th>\n",
       "      <th>Total Regents - % of grads</th>\n",
       "      <th>Advanced Regents - n</th>\n",
       "      <th>Advanced Regents - % of cohort</th>\n",
       "      <th>Advanced Regents - % of grads</th>\n",
       "      <th>Regents w/o Advanced - n</th>\n",
       "      <th>Regents w/o Advanced - % of cohort</th>\n",
       "      <th>Regents w/o Advanced - % of grads</th>\n",
       "      <th>Local - n</th>\n",
       "      <th>Local - % of cohort</th>\n",
       "      <th>Local - % of grads</th>\n",
       "      <th>Still Enrolled - n</th>\n",
       "      <th>...</th>\n",
       "      <th>hispanic_num</th>\n",
       "      <th>hispanic_per</th>\n",
       "      <th>white_num</th>\n",
       "      <th>white_per</th>\n",
       "      <th>male_num</th>\n",
       "      <th>male_per</th>\n",
       "      <th>female_num</th>\n",
       "      <th>female_per</th>\n",
       "      <th>rr_s</th>\n",
       "      <th>rr_t</th>\n",
       "      <th>rr_p</th>\n",
       "      <th>N_s</th>\n",
       "      <th>N_t</th>\n",
       "      <th>N_p</th>\n",
       "      <th>saf_p_11</th>\n",
       "      <th>com_p_11</th>\n",
       "      <th>eng_p_11</th>\n",
       "      <th>aca_p_11</th>\n",
       "      <th>saf_t_11</th>\n",
       "      <th>com_t_11</th>\n",
       "      <th>eng_t_11</th>\n",
       "      <th>aca_t_11</th>\n",
       "      <th>saf_s_11</th>\n",
       "      <th>com_s_11</th>\n",
       "      <th>eng_s_11</th>\n",
       "      <th>aca_s_11</th>\n",
       "      <th>saf_tot_11</th>\n",
       "      <th>com_tot_11</th>\n",
       "      <th>eng_tot_11</th>\n",
       "      <th>aca_tot_11</th>\n",
       "    </tr>\n",
       "  </thead>\n",
       "  <tbody>\n",
       "    <tr>\n",
       "      <th>0</th>\n",
       "      <td>01M292</td>\n",
       "      <td>HENRY STREET SCHOOL FOR INTERNATIONAL STUDIES</td>\n",
       "      <td>29</td>\n",
       "      <td>355.0</td>\n",
       "      <td>404.0</td>\n",
       "      <td>363.0</td>\n",
       "      <td>1122.0</td>\n",
       "      <td>NaN</td>\n",
       "      <td>NaN</td>\n",
       "      <td>NaN</td>\n",
       "      <td>NaN</td>\n",
       "      <td>Total Cohort</td>\n",
       "      <td>HENRY STREET SCHOOL FOR INTERNATIONAL</td>\n",
       "      <td>2006</td>\n",
       "      <td>78</td>\n",
       "      <td>43</td>\n",
       "      <td>55.1</td>\n",
       "      <td>36</td>\n",
       "      <td>46.2</td>\n",
       "      <td>83.7</td>\n",
       "      <td>0</td>\n",
       "      <td>0.0</td>\n",
       "      <td>0.0</td>\n",
       "      <td>36</td>\n",
       "      <td>46.2</td>\n",
       "      <td>83.7</td>\n",
       "      <td>7</td>\n",
       "      <td>9.0</td>\n",
       "      <td>16.3</td>\n",
       "      <td>16</td>\n",
       "      <td>...</td>\n",
       "      <td>227</td>\n",
       "      <td>53.8</td>\n",
       "      <td>7</td>\n",
       "      <td>1.7</td>\n",
       "      <td>259.0</td>\n",
       "      <td>61.4</td>\n",
       "      <td>163.0</td>\n",
       "      <td>38.6</td>\n",
       "      <td>89.0</td>\n",
       "      <td>70</td>\n",
       "      <td>39</td>\n",
       "      <td>379.0</td>\n",
       "      <td>26.0</td>\n",
       "      <td>151.0</td>\n",
       "      <td>7.8</td>\n",
       "      <td>7.7</td>\n",
       "      <td>7.4</td>\n",
       "      <td>7.6</td>\n",
       "      <td>6.3</td>\n",
       "      <td>5.3</td>\n",
       "      <td>6.1</td>\n",
       "      <td>6.5</td>\n",
       "      <td>6.0</td>\n",
       "      <td>5.6</td>\n",
       "      <td>6.1</td>\n",
       "      <td>6.7</td>\n",
       "      <td>6.7</td>\n",
       "      <td>6.2</td>\n",
       "      <td>6.6</td>\n",
       "      <td>7.0</td>\n",
       "    </tr>\n",
       "    <tr>\n",
       "      <th>1</th>\n",
       "      <td>01M448</td>\n",
       "      <td>UNIVERSITY NEIGHBORHOOD HIGH SCHOOL</td>\n",
       "      <td>91</td>\n",
       "      <td>383.0</td>\n",
       "      <td>423.0</td>\n",
       "      <td>366.0</td>\n",
       "      <td>1172.0</td>\n",
       "      <td>UNIVERSITY NEIGHBORHOOD H.S.</td>\n",
       "      <td>39.0</td>\n",
       "      <td>49.0</td>\n",
       "      <td>10.0</td>\n",
       "      <td>Total Cohort</td>\n",
       "      <td>UNIVERSITY NEIGHBORHOOD HIGH SCHOOL</td>\n",
       "      <td>2006</td>\n",
       "      <td>124</td>\n",
       "      <td>53</td>\n",
       "      <td>42.7</td>\n",
       "      <td>42</td>\n",
       "      <td>33.9</td>\n",
       "      <td>79.2</td>\n",
       "      <td>8</td>\n",
       "      <td>6.5</td>\n",
       "      <td>15.1</td>\n",
       "      <td>34</td>\n",
       "      <td>27.4</td>\n",
       "      <td>64.2</td>\n",
       "      <td>11</td>\n",
       "      <td>8.9</td>\n",
       "      <td>20.8</td>\n",
       "      <td>46</td>\n",
       "      <td>...</td>\n",
       "      <td>181</td>\n",
       "      <td>45.9</td>\n",
       "      <td>9</td>\n",
       "      <td>2.3</td>\n",
       "      <td>226.0</td>\n",
       "      <td>57.4</td>\n",
       "      <td>168.0</td>\n",
       "      <td>42.6</td>\n",
       "      <td>84.0</td>\n",
       "      <td>95</td>\n",
       "      <td>10</td>\n",
       "      <td>385.0</td>\n",
       "      <td>37.0</td>\n",
       "      <td>46.0</td>\n",
       "      <td>7.9</td>\n",
       "      <td>7.4</td>\n",
       "      <td>7.2</td>\n",
       "      <td>7.3</td>\n",
       "      <td>6.6</td>\n",
       "      <td>5.8</td>\n",
       "      <td>6.6</td>\n",
       "      <td>7.3</td>\n",
       "      <td>6.0</td>\n",
       "      <td>5.7</td>\n",
       "      <td>6.3</td>\n",
       "      <td>7.0</td>\n",
       "      <td>6.8</td>\n",
       "      <td>6.3</td>\n",
       "      <td>6.7</td>\n",
       "      <td>7.2</td>\n",
       "    </tr>\n",
       "    <tr>\n",
       "      <th>2</th>\n",
       "      <td>01M450</td>\n",
       "      <td>EAST SIDE COMMUNITY SCHOOL</td>\n",
       "      <td>70</td>\n",
       "      <td>377.0</td>\n",
       "      <td>402.0</td>\n",
       "      <td>370.0</td>\n",
       "      <td>1149.0</td>\n",
       "      <td>EAST SIDE COMMUNITY HS</td>\n",
       "      <td>19.0</td>\n",
       "      <td>21.0</td>\n",
       "      <td>NaN</td>\n",
       "      <td>Total Cohort</td>\n",
       "      <td>EAST SIDE COMMUNITY SCHOOL</td>\n",
       "      <td>2006</td>\n",
       "      <td>90</td>\n",
       "      <td>70</td>\n",
       "      <td>77.8</td>\n",
       "      <td>67</td>\n",
       "      <td>74.4</td>\n",
       "      <td>95.7</td>\n",
       "      <td>0</td>\n",
       "      <td>0.0</td>\n",
       "      <td>0.0</td>\n",
       "      <td>67</td>\n",
       "      <td>74.4</td>\n",
       "      <td>95.7</td>\n",
       "      <td>3</td>\n",
       "      <td>3.3</td>\n",
       "      <td>4.3</td>\n",
       "      <td>15</td>\n",
       "      <td>...</td>\n",
       "      <td>331</td>\n",
       "      <td>55.4</td>\n",
       "      <td>62</td>\n",
       "      <td>10.4</td>\n",
       "      <td>327.0</td>\n",
       "      <td>54.7</td>\n",
       "      <td>271.0</td>\n",
       "      <td>45.3</td>\n",
       "      <td>0.0</td>\n",
       "      <td>98</td>\n",
       "      <td>28</td>\n",
       "      <td>NaN</td>\n",
       "      <td>42.0</td>\n",
       "      <td>150.0</td>\n",
       "      <td>8.7</td>\n",
       "      <td>8.2</td>\n",
       "      <td>8.1</td>\n",
       "      <td>8.4</td>\n",
       "      <td>7.3</td>\n",
       "      <td>8.0</td>\n",
       "      <td>8.0</td>\n",
       "      <td>8.8</td>\n",
       "      <td>NaN</td>\n",
       "      <td>NaN</td>\n",
       "      <td>NaN</td>\n",
       "      <td>NaN</td>\n",
       "      <td>7.9</td>\n",
       "      <td>7.9</td>\n",
       "      <td>7.9</td>\n",
       "      <td>8.4</td>\n",
       "    </tr>\n",
       "  </tbody>\n",
       "</table>\n",
       "<p>3 rows × 99 columns</p>\n",
       "</div>"
      ],
      "text/plain": [
       "      DBN                                    SCHOOL NAME  \\\n",
       "0  01M292  HENRY STREET SCHOOL FOR INTERNATIONAL STUDIES   \n",
       "1  01M448            UNIVERSITY NEIGHBORHOOD HIGH SCHOOL   \n",
       "2  01M450                     EAST SIDE COMMUNITY SCHOOL   \n",
       "\n",
       "  Num of SAT Test Takers  SAT Critical Reading Avg. Score  \\\n",
       "0                     29                            355.0   \n",
       "1                     91                            383.0   \n",
       "2                     70                            377.0   \n",
       "\n",
       "   SAT Math Avg. Score  SAT Writing Avg. Score  sat_scores  \\\n",
       "0                404.0                   363.0      1122.0   \n",
       "1                423.0                   366.0      1172.0   \n",
       "2                402.0                   370.0      1149.0   \n",
       "\n",
       "                     SchoolName  AP Test Takers  Total Exams Taken  \\\n",
       "0                           NaN             NaN                NaN   \n",
       "1  UNIVERSITY NEIGHBORHOOD H.S.            39.0               49.0   \n",
       "2        EAST SIDE COMMUNITY HS            19.0               21.0   \n",
       "\n",
       "   Number of Exams with scores 3 4 or 5   Demographic  \\\n",
       "0                                   NaN  Total Cohort   \n",
       "1                                  10.0  Total Cohort   \n",
       "2                                   NaN  Total Cohort   \n",
       "\n",
       "                             School Name Cohort Total Cohort Total Grads - n  \\\n",
       "0  HENRY STREET SCHOOL FOR INTERNATIONAL   2006           78              43   \n",
       "1    UNIVERSITY NEIGHBORHOOD HIGH SCHOOL   2006          124              53   \n",
       "2             EAST SIDE COMMUNITY SCHOOL   2006           90              70   \n",
       "\n",
       "   Total Grads - % of cohort Total Regents - n  Total Regents - % of cohort  \\\n",
       "0                       55.1                36                         46.2   \n",
       "1                       42.7                42                         33.9   \n",
       "2                       77.8                67                         74.4   \n",
       "\n",
       "   Total Regents - % of grads Advanced Regents - n  \\\n",
       "0                        83.7                    0   \n",
       "1                        79.2                    8   \n",
       "2                        95.7                    0   \n",
       "\n",
       "   Advanced Regents - % of cohort  Advanced Regents - % of grads  \\\n",
       "0                             0.0                            0.0   \n",
       "1                             6.5                           15.1   \n",
       "2                             0.0                            0.0   \n",
       "\n",
       "  Regents w/o Advanced - n  Regents w/o Advanced - % of cohort  \\\n",
       "0                       36                                46.2   \n",
       "1                       34                                27.4   \n",
       "2                       67                                74.4   \n",
       "\n",
       "   Regents w/o Advanced - % of grads Local - n  Local - % of cohort  \\\n",
       "0                               83.7         7                  9.0   \n",
       "1                               64.2        11                  8.9   \n",
       "2                               95.7         3                  3.3   \n",
       "\n",
       "   Local - % of grads Still Enrolled - n  ...  hispanic_num hispanic_per  \\\n",
       "0                16.3                 16  ...           227         53.8   \n",
       "1                20.8                 46  ...           181         45.9   \n",
       "2                 4.3                 15  ...           331         55.4   \n",
       "\n",
       "   white_num  white_per  male_num  male_per  female_num  female_per  rr_s  \\\n",
       "0          7        1.7     259.0      61.4       163.0        38.6  89.0   \n",
       "1          9        2.3     226.0      57.4       168.0        42.6  84.0   \n",
       "2         62       10.4     327.0      54.7       271.0        45.3   0.0   \n",
       "\n",
       "   rr_t rr_p    N_s   N_t    N_p  saf_p_11 com_p_11 eng_p_11 aca_p_11  \\\n",
       "0    70   39  379.0  26.0  151.0       7.8      7.7      7.4      7.6   \n",
       "1    95   10  385.0  37.0   46.0       7.9      7.4      7.2      7.3   \n",
       "2    98   28    NaN  42.0  150.0       8.7      8.2      8.1      8.4   \n",
       "\n",
       "  saf_t_11 com_t_11 eng_t_11 aca_t_11 saf_s_11 com_s_11 eng_s_11 aca_s_11  \\\n",
       "0      6.3      5.3      6.1      6.5      6.0      5.6      6.1      6.7   \n",
       "1      6.6      5.8      6.6      7.3      6.0      5.7      6.3      7.0   \n",
       "2      7.3      8.0      8.0      8.8      NaN      NaN      NaN      NaN   \n",
       "\n",
       "  saf_tot_11 com_tot_11 eng_tot_11  aca_tot_11  \n",
       "0        6.7        6.2        6.6         7.0  \n",
       "1        6.8        6.3        6.7         7.2  \n",
       "2        7.9        7.9        7.9         8.4  \n",
       "\n",
       "[3 rows x 99 columns]"
      ]
     },
     "execution_count": 35,
     "metadata": {},
     "output_type": "execute_result"
    }
   ],
   "source": [
    "## Priority to merge: class_size -> demographics -> survey -> hs_directory\n",
    "\n",
    "combine = combine.merge(data['class_size'],how='inner', on='DBN', suffixes=('_x1', '_y1'))\n",
    "combine = combine.merge(data['demographics'], on='DBN', how='inner', suffixes=('_x2','_y2'))\n",
    "combine = combine.merge(data['survey'], on='DBN', how='inner', suffixes=('_x3','_y3'))\n",
    "print(combine.shape)\n",
    "combine.head(n=3)"
   ]
  },
  {
   "cell_type": "code",
   "execution_count": 36,
   "id": "5130b0e9",
   "metadata": {},
   "outputs": [],
   "source": [
    "# Processing combine with hs_directory:\n",
    "data['hs_directory'].columns = data['hs_directory'].columns.str.strip()\n",
    "\n",
    "# Create a new columns:\n",
    "data['hs_directory'].loc[:,'DBN'] = data['hs_directory']['dbn']\n",
    "\n",
    "combine = combine.merge(data['hs_directory'], on='DBN', how='inner', suffixes=('_x4','_y4'))"
   ]
  },
  {
   "cell_type": "code",
   "execution_count": 37,
   "id": "ae0b8489",
   "metadata": {},
   "outputs": [
    {
     "name": "stdout",
     "output_type": "stream",
     "text": [
      "(363, 159)\n"
     ]
    }
   ],
   "source": [
    "print(combine.shape)"
   ]
  },
  {
   "cell_type": "markdown",
   "id": "37f6f984",
   "metadata": {},
   "source": [
    "Now, we will fill in the missing value by mean value (if any columns is ratio scale like `avg_class_size`...) and the remain with 0."
   ]
  },
  {
   "cell_type": "code",
   "execution_count": 38,
   "id": "05685456",
   "metadata": {},
   "outputs": [
    {
     "data": {
      "text/plain": [
       "0    159\n",
       "dtype: int64"
      ]
     },
     "execution_count": 38,
     "metadata": {},
     "output_type": "execute_result"
    }
   ],
   "source": [
    "# Fill with mean value:\n",
    "mean = combine.copy().mean(numeric_only=True)\n",
    "combine.fillna(mean, inplace=True)\n",
    "\n",
    "# Fill any remain with 0:\n",
    "combine.fillna(0, inplace=True)\n",
    "\n",
    "# Check:\n",
    "combine.isnull().sum().value_counts()"
   ]
  },
  {
   "cell_type": "code",
   "execution_count": 39,
   "id": "963d1163",
   "metadata": {},
   "outputs": [
    {
     "data": {
      "text/plain": [
       "0    01\n",
       "1    01\n",
       "2    01\n",
       "Name: school_dis, dtype: object"
      ]
     },
     "execution_count": 39,
     "metadata": {},
     "output_type": "execute_result"
    }
   ],
   "source": [
    "# Extract the school district:\n",
    "def extract_dis(str_):\n",
    "    return str_[0:2]\n",
    "\n",
    "combine.loc[:,'school_dis'] = combine.DBN.apply(extract_dis)\n",
    "# Check:\n",
    "combine.school_dis.head(n=3)"
   ]
  },
  {
   "cell_type": "markdown",
   "id": "fa43f0b4",
   "metadata": {},
   "source": [
    "The data now is ready to analysis and plot, now let's move to the analysis process."
   ]
  },
  {
   "cell_type": "markdown",
   "id": "38dc3cf3",
   "metadata": {},
   "source": [
    "## MISSION C: ANALYSIS - VISUALIZATION"
   ]
  },
  {
   "cell_type": "markdown",
   "id": "92974f3b",
   "metadata": {},
   "source": [
    "## Sub-mission 1: How each field relative with SAT scores?"
   ]
  },
  {
   "cell_type": "markdown",
   "id": "636b2c7a",
   "metadata": {},
   "source": [
    "As mentioned, we'd like to relevant the relation of SAT result with demographics infor, so now in order to get the overview about what we will perform in next step, let's release the relation of these field."
   ]
  },
  {
   "cell_type": "markdown",
   "id": "508abfd9",
   "metadata": {},
   "source": [
    "We will use the correlation method with `r` value technical to find the relation of these field. An r value falls between -1 and 1. The value determines whether two columns are positively correlated, not correlated, or negatively correlated. The closer to 1 the r value is, the stronger the positive correlation between the two columns. The closer to -1 the r value is, the stronger the negative correlation (i.e., the more \"opposite\" the columns are). The closer to 0, the weaker the correlation. "
   ]
  },
  {
   "cell_type": "markdown",
   "id": "4cf909b7",
   "metadata": {},
   "source": [
    "Because our main theme is focus in the fairness of standardlize test like SAT, any field stick along with SAT like `gender, race`, ... and the correlation of it is the object we're aimming for.  If men tended to score higher on the SAT, for example, that would indicate that the SAT is potentially unfair to women and vice-versa."
   ]
  },
  {
   "cell_type": "code",
   "execution_count": 40,
   "id": "1352f4dd",
   "metadata": {
    "scrolled": true
   },
   "outputs": [],
   "source": [
    "# Setting the display row:\n",
    "pd.set_option('display.max_rows',80)\n"
   ]
  },
  {
   "cell_type": "code",
   "execution_count": 41,
   "id": "666afcb1",
   "metadata": {
    "scrolled": true
   },
   "outputs": [
    {
     "data": {
      "text/html": [
       "<div>\n",
       "<style scoped>\n",
       "    .dataframe tbody tr th:only-of-type {\n",
       "        vertical-align: middle;\n",
       "    }\n",
       "\n",
       "    .dataframe tbody tr th {\n",
       "        vertical-align: top;\n",
       "    }\n",
       "\n",
       "    .dataframe thead th {\n",
       "        text-align: right;\n",
       "    }\n",
       "</style>\n",
       "<table border=\"1\" class=\"dataframe\">\n",
       "  <thead>\n",
       "    <tr style=\"text-align: right;\">\n",
       "      <th></th>\n",
       "      <th>DBN</th>\n",
       "      <th>SCHOOL NAME</th>\n",
       "      <th>Num of SAT Test Takers</th>\n",
       "      <th>SAT Critical Reading Avg. Score</th>\n",
       "      <th>SAT Math Avg. Score</th>\n",
       "      <th>SAT Writing Avg. Score</th>\n",
       "      <th>sat_scores</th>\n",
       "      <th>SchoolName</th>\n",
       "      <th>AP Test Takers</th>\n",
       "      <th>Total Exams Taken</th>\n",
       "      <th>Number of Exams with scores 3 4 or 5</th>\n",
       "      <th>Demographic</th>\n",
       "      <th>School Name</th>\n",
       "      <th>Cohort</th>\n",
       "      <th>Total Cohort</th>\n",
       "      <th>Total Grads - n</th>\n",
       "      <th>Total Grads - % of cohort</th>\n",
       "      <th>Total Regents - n</th>\n",
       "      <th>Total Regents - % of cohort</th>\n",
       "      <th>Total Regents - % of grads</th>\n",
       "      <th>Advanced Regents - n</th>\n",
       "      <th>Advanced Regents - % of cohort</th>\n",
       "      <th>Advanced Regents - % of grads</th>\n",
       "      <th>Regents w/o Advanced - n</th>\n",
       "      <th>Regents w/o Advanced - % of cohort</th>\n",
       "      <th>Regents w/o Advanced - % of grads</th>\n",
       "      <th>Local - n</th>\n",
       "      <th>Local - % of cohort</th>\n",
       "      <th>Local - % of grads</th>\n",
       "      <th>Still Enrolled - n</th>\n",
       "      <th>...</th>\n",
       "      <th>partner_cbo</th>\n",
       "      <th>partner_hospital</th>\n",
       "      <th>partner_highered</th>\n",
       "      <th>partner_cultural</th>\n",
       "      <th>partner_nonprofit</th>\n",
       "      <th>partner_corporate</th>\n",
       "      <th>partner_financial</th>\n",
       "      <th>partner_other</th>\n",
       "      <th>addtl_info1</th>\n",
       "      <th>addtl_info2</th>\n",
       "      <th>start_time</th>\n",
       "      <th>end_time</th>\n",
       "      <th>se_services</th>\n",
       "      <th>ell_programs</th>\n",
       "      <th>school_accessibility_description</th>\n",
       "      <th>number_programs</th>\n",
       "      <th>priority01</th>\n",
       "      <th>priority02</th>\n",
       "      <th>priority03</th>\n",
       "      <th>priority04</th>\n",
       "      <th>priority05</th>\n",
       "      <th>priority06</th>\n",
       "      <th>priority07</th>\n",
       "      <th>priority08</th>\n",
       "      <th>priority09</th>\n",
       "      <th>priority10</th>\n",
       "      <th>Location 1</th>\n",
       "      <th>lat</th>\n",
       "      <th>long</th>\n",
       "      <th>school_dis</th>\n",
       "    </tr>\n",
       "  </thead>\n",
       "  <tbody>\n",
       "  </tbody>\n",
       "</table>\n",
       "<p>0 rows × 160 columns</p>\n",
       "</div>"
      ],
      "text/plain": [
       "Empty DataFrame\n",
       "Columns: [DBN, SCHOOL NAME, Num of SAT Test Takers, SAT Critical Reading Avg. Score, SAT Math Avg. Score, SAT Writing Avg. Score, sat_scores, SchoolName, AP Test Takers, Total Exams Taken, Number of Exams with scores 3 4 or 5, Demographic, School Name, Cohort, Total Cohort, Total Grads - n, Total Grads - % of cohort, Total Regents - n, Total Regents - % of cohort, Total Regents - % of grads, Advanced Regents - n, Advanced Regents - % of cohort, Advanced Regents - % of grads, Regents w/o Advanced - n, Regents w/o Advanced - % of cohort, Regents w/o Advanced - % of grads, Local - n, Local - % of cohort, Local - % of grads, Still Enrolled - n, Still Enrolled - % of cohort, Dropped Out - n, Dropped Out - % of cohort, CSD, NUMBER OF STUDENTS / SEATS FILLED, NUMBER OF SECTIONS, AVERAGE CLASS SIZE, SIZE OF SMALLEST CLASS, SIZE OF LARGEST CLASS, SCHOOLWIDE PUPIL-TEACHER RATIO, Name, schoolyear, fl_percent, frl_percent, total_enrollment, prek, k, grade1, grade2, grade3, grade4, grade5, grade6, grade7, grade8, grade9, grade10, grade11, grade12, ell_num, ell_percent, sped_num, sped_percent, ctt_num, selfcontained_num, asian_num, asian_per, black_num, black_per, hispanic_num, hispanic_per, white_num, white_per, male_num, male_per, female_num, female_per, rr_s, rr_t, rr_p, N_s, N_t, N_p, saf_p_11, com_p_11, eng_p_11, aca_p_11, saf_t_11, com_t_11, eng_t_11, aca_t_11, saf_s_11, com_s_11, eng_s_11, aca_s_11, saf_tot_11, com_tot_11, eng_tot_11, aca_tot_11, dbn, ...]\n",
       "Index: []\n",
       "\n",
       "[0 rows x 160 columns]"
      ]
     },
     "execution_count": 41,
     "metadata": {},
     "output_type": "execute_result"
    }
   ],
   "source": [
    "combine[lambda x:x['sat_scores'].isnull()]"
   ]
  },
  {
   "cell_type": "code",
   "execution_count": 42,
   "id": "0610fbc6",
   "metadata": {
    "scrolled": true
   },
   "outputs": [
    {
     "data": {
      "text/plain": [
       "SAT Critical Reading Avg. Score         0.986820\n",
       "SAT Math Avg. Score                     0.972643\n",
       "SAT Writing Avg. Score                  0.987771\n",
       "sat_scores                              1.000000\n",
       "AP Test Takers                          0.523140\n",
       "Total Exams Taken                       0.514333\n",
       "Number of Exams with scores 3 4 or 5    0.463245\n",
       "Total Grads - % of cohort               0.584234\n",
       "Total Regents - % of cohort             0.667603\n",
       "Total Regents - % of grads              0.494732\n",
       "Advanced Regents - % of cohort          0.771566\n",
       "Advanced Regents - % of grads           0.739927\n",
       "Regents w/o Advanced - % of cohort     -0.138188\n",
       "Regents w/o Advanced - % of grads      -0.456213\n",
       "Local - % of cohort                    -0.467951\n",
       "Local - % of grads                     -0.494732\n",
       "Still Enrolled - % of cohort           -0.491914\n",
       "Dropped Out - % of cohort              -0.458537\n",
       "CSD                                     0.042948\n",
       "NUMBER OF STUDENTS / SEATS FILLED       0.394626\n",
       "NUMBER OF SECTIONS                      0.362673\n",
       "AVERAGE CLASS SIZE                      0.381014\n",
       "SIZE OF SMALLEST CLASS                  0.249949\n",
       "SIZE OF LARGEST CLASS                   0.314434\n",
       "SCHOOLWIDE PUPIL-TEACHER RATIO               NaN\n",
       "schoolyear                                   NaN\n",
       "fl_percent                                   NaN\n",
       "frl_percent                            -0.722225\n",
       "total_enrollment                        0.367857\n",
       "ell_num                                -0.153778\n",
       "ell_percent                            -0.398750\n",
       "sped_num                                0.034933\n",
       "sped_percent                           -0.448170\n",
       "asian_num                               0.475445\n",
       "asian_per                               0.570730\n",
       "black_num                               0.027979\n",
       "black_per                              -0.284139\n",
       "hispanic_num                            0.025744\n",
       "hispanic_per                           -0.396985\n",
       "white_num                               0.449559\n",
       "white_per                               0.620718\n",
       "male_num                                0.325520\n",
       "male_per                               -0.112062\n",
       "female_num                              0.388631\n",
       "female_per                              0.112108\n",
       "rr_s                                    0.232199\n",
       "rr_t                                   -0.023386\n",
       "rr_p                                    0.047925\n",
       "N_s                                     0.423463\n",
       "N_t                                     0.291463\n",
       "N_p                                     0.421530\n",
       "saf_p_11                                0.122913\n",
       "com_p_11                               -0.115073\n",
       "eng_p_11                                0.020254\n",
       "aca_p_11                                0.035155\n",
       "saf_t_11                                0.313810\n",
       "com_t_11                                0.082419\n",
       "eng_t_11                                0.036906\n",
       "aca_t_11                                0.132348\n",
       "saf_s_11                                0.337639\n",
       "com_s_11                                0.187370\n",
       "eng_s_11                                0.213822\n",
       "aca_s_11                                0.339435\n",
       "saf_tot_11                              0.318753\n",
       "com_tot_11                              0.077310\n",
       "eng_tot_11                              0.100102\n",
       "aca_tot_11                              0.190966\n",
       "grade_span_max                               NaN\n",
       "expgrade_span_max                            NaN\n",
       "zip                                    -0.063977\n",
       "total_students                          0.407827\n",
       "number_programs                         0.117012\n",
       "priority08                                   NaN\n",
       "priority09                                   NaN\n",
       "priority10                                   NaN\n",
       "lat                                    -0.121029\n",
       "long                                   -0.132222\n",
       "Name: sat_scores, dtype: float64"
      ]
     },
     "execution_count": 42,
     "metadata": {},
     "output_type": "execute_result"
    }
   ],
   "source": [
    "# Find the correlation\n",
    "correlation = combine.corr()['sat_scores']\n",
    "correlation"
   ]
  },
  {
   "cell_type": "markdown",
   "id": "22fc49af",
   "metadata": {},
   "source": [
    "Let's make a barplot for this correlation result, we will contain the item of survey we added with the section test of SAT test to track easier."
   ]
  },
  {
   "cell_type": "code",
   "execution_count": 43,
   "id": "8c41ebcc",
   "metadata": {
    "scrolled": true
   },
   "outputs": [
    {
     "data": {
      "image/png": "[encoded data removed]",
      "text/plain": [
       "<Figure size 720x720 with 1 Axes>"
      ]
     },
     "metadata": {
      "needs_background": "light"
     },
     "output_type": "display_data"
    }
   ],
   "source": [
    "## Create group of correlation graph:\n",
    "col = ['SAT Critical Reading Avg. Score','SAT Math Avg. Score','SAT Writing Avg. Score',\"rr_s\", \"rr_t\", \"rr_p\", \n",
    "             \"N_s\", \"N_t\", \"N_p\", \"saf_p_11\", \"com_p_11\", \n",
    "             \"eng_p_11\", \"aca_p_11\", \"saf_t_11\", \"com_t_11\", \n",
    "             \"eng_t_11\", \"aca_t_11\", \"saf_s_11\", \"com_s_11\", \"eng_s_11\", \n",
    "             \"aca_s_11\", \"saf_tot_11\", \"com_tot_11\", \"eng_tot_11\", \"aca_tot_11\"]\n",
    "\n",
    "## Create relation graph:\n",
    "df = correlation[col]\n",
    "\n",
    "## Create color function:\n",
    "cor_negative = df<0\n",
    "cor_nev_map = cor_negative.map({True:'red',\n",
    "                                   False:'blue'})\n",
    "\n",
    "ax = df.plot.barh(y='Correlations', figsize=(10, 10), color=cor_nev_map)\n",
    "plt.xlabel('Relation score')\n",
    "plt.ylabel('Factor')\n",
    "plt.title('Relation between SAT result and factors')\n",
    "plt.show()"
   ]
  },
  {
   "cell_type": "markdown",
   "id": "f296c1ec",
   "metadata": {},
   "source": [
    "For the correlation's result:\n",
    "- The `sat_score` is hightly relation with its distribution score\n",
    "- For the information like: race, region... :\n",
    "1. In the result we can see the relation of SAT result with number of two distinct genre whose join this test isn't strong enough to conclusion but the relation for women's side is slightly higher than man. (`man_per`, `women_per`...)\n",
    "2. The data isn't enough but in field of race: Asian seems a bit highest, while for _`Black/White people`_, While people seems highest for the relation with higher SAT result.\n",
    "-  For other factor:\n",
    "1. The `total_enrollment` seem have shapely relation with SAT result => The school with large student seem do better than which school have less enroll than the one above\n",
    "2. The relation between SAT result with the number of student who use English and France in school a bit strange (`ell_percent`, `frl_percent`) due to its negative correlation => It's like SAT results don't relation well with those school which for naive French/ Spanish speaker, English speaker. \n",
    "3. From the relation graph we can see `saf_t_11` and `saf_s_11` is weak relativing with SAT score (less than 0.25)."
   ]
  },
  {
   "cell_type": "markdown",
   "id": "449e40ea",
   "metadata": {},
   "source": [
    "Since the enroll seem have relation with SAT result => Let's make a plot to see the relation of these field."
   ]
  },
  {
   "cell_type": "code",
   "execution_count": 44,
   "id": "0dcd156d",
   "metadata": {},
   "outputs": [
    {
     "data": {
      "image/png": "[encoded data removed]",
      "text/plain": [
       "<Figure size 432x288 with 1 Axes>"
      ]
     },
     "metadata": {
      "needs_background": "light"
     },
     "output_type": "display_data"
    }
   ],
   "source": [
    "# Relation graph of SAT result and enroll:\n",
    "plt.scatter(combine.total_enrollment, combine.sat_scores)\n",
    "plt.xlabel('Total enrollment (person)')\n",
    "plt.ylabel('SAT result')\n",
    "plt.title('Relation of SAT result and total enrollment')\n",
    "\n",
    "\n",
    "plt.show()"
   ]
  },
  {
   "cell_type": "markdown",
   "id": "5af9ead5",
   "metadata": {},
   "source": [
    "We're looking at the relation graph, and we can see a countracy thing: Though the enroll is high but the SAT result not seem higher than the area with less enroll => __We can reject the supposing that the higher enrollment, the better SAT result be__."
   ]
  },
  {
   "cell_type": "markdown",
   "id": "c60fba8e",
   "metadata": {},
   "source": [
    "We also observe that there is a cluster area with total enrollment is less than 1000, along with SAT result less than 1000 scores too => We will filter the school name which appear in the cluster and see what's the school here."
   ]
  },
  {
   "cell_type": "code",
   "execution_count": 45,
   "id": "d977910d",
   "metadata": {
    "scrolled": true
   },
   "outputs": [
    {
     "data": {
      "text/html": [
       "<div>\n",
       "<style scoped>\n",
       "    .dataframe tbody tr th:only-of-type {\n",
       "        vertical-align: middle;\n",
       "    }\n",
       "\n",
       "    .dataframe tbody tr th {\n",
       "        vertical-align: top;\n",
       "    }\n",
       "\n",
       "    .dataframe thead th {\n",
       "        text-align: right;\n",
       "    }\n",
       "</style>\n",
       "<table border=\"1\" class=\"dataframe\">\n",
       "  <thead>\n",
       "    <tr style=\"text-align: right;\">\n",
       "      <th></th>\n",
       "      <th>SCHOOL NAME</th>\n",
       "      <th>ell_percent</th>\n",
       "    </tr>\n",
       "  </thead>\n",
       "  <tbody>\n",
       "    <tr>\n",
       "      <th>91</th>\n",
       "      <td>INTERNATIONAL COMMUNITY HIGH SCHOOL</td>\n",
       "      <td>90.1</td>\n",
       "    </tr>\n",
       "    <tr>\n",
       "      <th>125</th>\n",
       "      <td>ACADEMY FOR LANGUAGE AND TECHNOLOGY</td>\n",
       "      <td>86.6</td>\n",
       "    </tr>\n",
       "    <tr>\n",
       "      <th>126</th>\n",
       "      <td>BRONX INTERNATIONAL HIGH SCHOOL</td>\n",
       "      <td>87.1</td>\n",
       "    </tr>\n",
       "    <tr>\n",
       "      <th>139</th>\n",
       "      <td>KINGSBRIDGE INTERNATIONAL HIGH SCHOOL</td>\n",
       "      <td>88.7</td>\n",
       "    </tr>\n",
       "    <tr>\n",
       "      <th>141</th>\n",
       "      <td>INTERNATIONAL SCHOOL FOR LIBERAL ARTS</td>\n",
       "      <td>79.9</td>\n",
       "    </tr>\n",
       "    <tr>\n",
       "      <th>176</th>\n",
       "      <td>PAN AMERICAN INTERNATIONAL HIGH SCHOOL AT MONROE</td>\n",
       "      <td>92.9</td>\n",
       "    </tr>\n",
       "    <tr>\n",
       "      <th>179</th>\n",
       "      <td>HIGH SCHOOL OF WORLD CULTURES</td>\n",
       "      <td>86.4</td>\n",
       "    </tr>\n",
       "    <tr>\n",
       "      <th>188</th>\n",
       "      <td>BROOKLYN INTERNATIONAL HIGH SCHOOL</td>\n",
       "      <td>83.1</td>\n",
       "    </tr>\n",
       "    <tr>\n",
       "      <th>225</th>\n",
       "      <td>INTERNATIONAL HIGH SCHOOL AT PROSPECT HEIGHTS</td>\n",
       "      <td>91.0</td>\n",
       "    </tr>\n",
       "    <tr>\n",
       "      <th>237</th>\n",
       "      <td>IT TAKES A VILLAGE ACADEMY</td>\n",
       "      <td>30.4</td>\n",
       "    </tr>\n",
       "    <tr>\n",
       "      <th>253</th>\n",
       "      <td>MULTICULTURAL HIGH SCHOOL</td>\n",
       "      <td>94.6</td>\n",
       "    </tr>\n",
       "    <tr>\n",
       "      <th>286</th>\n",
       "      <td>PAN AMERICAN INTERNATIONAL HIGH SCHOOL</td>\n",
       "      <td>91.3</td>\n",
       "    </tr>\n",
       "  </tbody>\n",
       "</table>\n",
       "</div>"
      ],
      "text/plain": [
       "                                          SCHOOL NAME  ell_percent\n",
       "91                INTERNATIONAL COMMUNITY HIGH SCHOOL         90.1\n",
       "125               ACADEMY FOR LANGUAGE AND TECHNOLOGY         86.6\n",
       "126                   BRONX INTERNATIONAL HIGH SCHOOL         87.1\n",
       "139             KINGSBRIDGE INTERNATIONAL HIGH SCHOOL         88.7\n",
       "141             INTERNATIONAL SCHOOL FOR LIBERAL ARTS         79.9\n",
       "176  PAN AMERICAN INTERNATIONAL HIGH SCHOOL AT MONROE         92.9\n",
       "179                     HIGH SCHOOL OF WORLD CULTURES         86.4\n",
       "188                BROOKLYN INTERNATIONAL HIGH SCHOOL         83.1\n",
       "225     INTERNATIONAL HIGH SCHOOL AT PROSPECT HEIGHTS         91.0\n",
       "237                        IT TAKES A VILLAGE ACADEMY         30.4\n",
       "253                         MULTICULTURAL HIGH SCHOOL         94.6\n",
       "286            PAN AMERICAN INTERNATIONAL HIGH SCHOOL         91.3"
      ]
     },
     "execution_count": 45,
     "metadata": {},
     "output_type": "execute_result"
    }
   ],
   "source": [
    "## Get the name of school with total enrollment and SAT result both less than 1000\n",
    "\n",
    "bool_1 = combine.total_enrollment <1000 # enroll amount less than 1000\n",
    "bool_2 = combine.sat_scores <1000 # sat score less than 1000 points\n",
    "total = bool_1&bool_2\n",
    "\n",
    "low_enroll = combine[total]\n",
    "low_enroll.loc[:,['SCHOOL NAME','ell_percent']]"
   ]
  },
  {
   "cell_type": "markdown",
   "id": "28b56526",
   "metadata": {},
   "source": [
    "- The shared points of these school is they are not focus on __professional academic__: Some of them are for those who over-age to join garde 9th~, some of them are designed for art field, and some of them are preparing for those who aiming to serve in specific of Science/ Engineer College (`COLUMBIA SECONDARY SCHOOL FOR MATH, SCIENCE..` case)\n",
    "- The other points its the higher percentage of English language learner, and it's match with the negative relation of SAT result with `ell_per` => We will generate a relation graph of `ell_per` and `sat_scores` to see closer"
   ]
  },
  {
   "cell_type": "code",
   "execution_count": 46,
   "id": "90195e6b",
   "metadata": {},
   "outputs": [
    {
     "data": {
      "image/png": "[encoded data removed]",
      "text/plain": [
       "<Figure size 432x288 with 1 Axes>"
      ]
     },
     "metadata": {
      "needs_background": "light"
     },
     "output_type": "display_data"
    }
   ],
   "source": [
    "## Relation graph of English lang leaner with SAT result:\n",
    "plt.scatter(combine['ell_percent'], combine['sat_scores'])\n",
    "plt.xlabel('English language leaner percentage (%)')\n",
    "plt.ylabel('SAT result (points)')\n",
    "\n",
    "plt.show()"
   ]
  },
  {
   "cell_type": "markdown",
   "id": "e420bc94",
   "metadata": {},
   "source": [
    "One way to make very granular statistics easier to read is to aggregate them. In this case, we aggregate by district, which enables us to understand how `ell_percent` varies district-by-district instead of the unintelligibly granular school-by-school variation."
   ]
  },
  {
   "cell_type": "code",
   "execution_count": 47,
   "id": "d6fca105",
   "metadata": {},
   "outputs": [
    {
     "data": {
      "text/html": [
       "<div>\n",
       "<style scoped>\n",
       "    .dataframe tbody tr th:only-of-type {\n",
       "        vertical-align: middle;\n",
       "    }\n",
       "\n",
       "    .dataframe tbody tr th {\n",
       "        vertical-align: top;\n",
       "    }\n",
       "\n",
       "    .dataframe thead th {\n",
       "        text-align: right;\n",
       "    }\n",
       "</style>\n",
       "<table border=\"1\" class=\"dataframe\">\n",
       "  <thead>\n",
       "    <tr style=\"text-align: right;\">\n",
       "      <th></th>\n",
       "      <th>school_dis</th>\n",
       "      <th>ell_percent</th>\n",
       "    </tr>\n",
       "  </thead>\n",
       "  <tbody>\n",
       "    <tr>\n",
       "      <th>0</th>\n",
       "      <td>01</td>\n",
       "      <td>10.000000</td>\n",
       "    </tr>\n",
       "    <tr>\n",
       "      <th>1</th>\n",
       "      <td>02</td>\n",
       "      <td>13.006250</td>\n",
       "    </tr>\n",
       "    <tr>\n",
       "      <th>2</th>\n",
       "      <td>03</td>\n",
       "      <td>9.025000</td>\n",
       "    </tr>\n",
       "    <tr>\n",
       "      <th>3</th>\n",
       "      <td>04</td>\n",
       "      <td>4.557143</td>\n",
       "    </tr>\n",
       "    <tr>\n",
       "      <th>4</th>\n",
       "      <td>05</td>\n",
       "      <td>4.157143</td>\n",
       "    </tr>\n",
       "  </tbody>\n",
       "</table>\n",
       "</div>"
      ],
      "text/plain": [
       "  school_dis  ell_percent\n",
       "0         01    10.000000\n",
       "1         02    13.006250\n",
       "2         03     9.025000\n",
       "3         04     4.557143\n",
       "4         05     4.157143"
      ]
     },
     "execution_count": 47,
     "metadata": {},
     "output_type": "execute_result"
    }
   ],
   "source": [
    "## Aggregate data by distinct:\n",
    "districts = combine.groupby('school_dis').agg(np.mean)\n",
    "\n",
    "## Display the data:\n",
    "districts.reset_index(inplace=True)\n",
    "districts.loc[:,['school_dis','ell_percent']].head(n=5)"
   ]
  },
  {
   "cell_type": "markdown",
   "id": "95cb1caa",
   "metadata": {},
   "source": [
    "As mentioned above, the safety report of teacher and student have weak relation with SAT test result. But we could plot a relation graph for it to check how the weak relationship is, by the graph below:"
   ]
  },
  {
   "cell_type": "code",
   "execution_count": 48,
   "id": "9eab3100",
   "metadata": {},
   "outputs": [
    {
     "data": {
      "image/png": "[encoded data removed]",
      "text/plain": [
       "<Figure size 432x288 with 1 Axes>"
      ]
     },
     "metadata": {
      "needs_background": "light"
     },
     "output_type": "display_data"
    }
   ],
   "source": [
    "## Relation graph of saf_s_11 field and SAT result:\n",
    "\n",
    "combine.plot.scatter(x='saf_s_11', y='sat_scores')\n",
    "plt.xlabel('Safety survey from Student')\n",
    "plt.ylabel('SAT results (score)')\n",
    "\n",
    "plt.show()"
   ]
  },
  {
   "cell_type": "markdown",
   "id": "a5858b5a",
   "metadata": {},
   "source": [
    "Except for some points area from 7.0 and above relation with the higher SAT result, all the remains almost stick at range 1000~1500 points. Now let's move to the variety by borough of safety report."
   ]
  },
  {
   "cell_type": "code",
   "execution_count": 49,
   "id": "a9a7262a",
   "metadata": {},
   "outputs": [
    {
     "data": {
      "text/html": [
       "<div>\n",
       "<style scoped>\n",
       "    .dataframe tbody tr th:only-of-type {\n",
       "        vertical-align: middle;\n",
       "    }\n",
       "\n",
       "    .dataframe tbody tr th {\n",
       "        vertical-align: top;\n",
       "    }\n",
       "\n",
       "    .dataframe thead th {\n",
       "        text-align: right;\n",
       "    }\n",
       "</style>\n",
       "<table border=\"1\" class=\"dataframe\">\n",
       "  <thead>\n",
       "    <tr style=\"text-align: right;\">\n",
       "      <th></th>\n",
       "      <th>borough</th>\n",
       "      <th>saf_s_11</th>\n",
       "    </tr>\n",
       "  </thead>\n",
       "  <tbody>\n",
       "    <tr>\n",
       "      <th>0</th>\n",
       "      <td>K</td>\n",
       "      <td>6.370755</td>\n",
       "    </tr>\n",
       "    <tr>\n",
       "      <th>1</th>\n",
       "      <td>M</td>\n",
       "      <td>6.831370</td>\n",
       "    </tr>\n",
       "    <tr>\n",
       "      <th>2</th>\n",
       "      <td>Q</td>\n",
       "      <td>6.721875</td>\n",
       "    </tr>\n",
       "    <tr>\n",
       "      <th>3</th>\n",
       "      <td>R</td>\n",
       "      <td>6.530000</td>\n",
       "    </tr>\n",
       "    <tr>\n",
       "      <th>4</th>\n",
       "      <td>X</td>\n",
       "      <td>6.606577</td>\n",
       "    </tr>\n",
       "  </tbody>\n",
       "</table>\n",
       "</div>"
      ],
      "text/plain": [
       "  borough  saf_s_11\n",
       "0       K  6.370755\n",
       "1       M  6.831370\n",
       "2       Q  6.721875\n",
       "3       R  6.530000\n",
       "4       X  6.606577"
      ]
     },
     "execution_count": 49,
     "metadata": {},
     "output_type": "execute_result"
    }
   ],
   "source": [
    "## Aggregate safety scores by borough\n",
    "combine.loc[:,'borough'] = combine.DBN.str[2] ## define the borough : X-borough-district_number\n",
    "\n",
    "boroughs = combine.groupby('borough').agg(np.mean) ## we evaluate eveything by the mean value\n",
    "boroughs.reset_index(inplace = True)\n",
    "boroughs[['borough','saf_s_11']]"
   ]
  },
  {
   "cell_type": "markdown",
   "id": "a1457b92",
   "metadata": {},
   "source": [
    "With the description about each borough : [K, M, Q, R, X](https://en.wikipedia.org/wiki/Boroughs_of_New_York_City), we can observed that follow the result we got, the __Manhattan and Queens borough__ is the place where the most student accept that the safety condition is factor for better SAT result. So, let's see if their place has the SAT result higher or not (though we know these field have not relation with each other) "
   ]
  },
  {
   "cell_type": "code",
   "execution_count": 50,
   "id": "ee51961a",
   "metadata": {},
   "outputs": [
    {
     "data": {
      "text/html": [
       "<div>\n",
       "<style scoped>\n",
       "    .dataframe tbody tr th:only-of-type {\n",
       "        vertical-align: middle;\n",
       "    }\n",
       "\n",
       "    .dataframe tbody tr th {\n",
       "        vertical-align: top;\n",
       "    }\n",
       "\n",
       "    .dataframe thead th {\n",
       "        text-align: right;\n",
       "    }\n",
       "</style>\n",
       "<table border=\"1\" class=\"dataframe\">\n",
       "  <thead>\n",
       "    <tr style=\"text-align: right;\">\n",
       "      <th></th>\n",
       "      <th>borough</th>\n",
       "      <th>sat_scores</th>\n",
       "    </tr>\n",
       "  </thead>\n",
       "  <tbody>\n",
       "    <tr>\n",
       "      <th>3</th>\n",
       "      <td>R</td>\n",
       "      <td>1382.500000</td>\n",
       "    </tr>\n",
       "    <tr>\n",
       "      <th>2</th>\n",
       "      <td>Q</td>\n",
       "      <td>1286.753032</td>\n",
       "    </tr>\n",
       "    <tr>\n",
       "      <th>1</th>\n",
       "      <td>M</td>\n",
       "      <td>1278.331410</td>\n",
       "    </tr>\n",
       "    <tr>\n",
       "      <th>0</th>\n",
       "      <td>K</td>\n",
       "      <td>1181.364461</td>\n",
       "    </tr>\n",
       "    <tr>\n",
       "      <th>4</th>\n",
       "      <td>X</td>\n",
       "      <td>1157.598203</td>\n",
       "    </tr>\n",
       "  </tbody>\n",
       "</table>\n",
       "</div>"
      ],
      "text/plain": [
       "  borough   sat_scores\n",
       "3       R  1382.500000\n",
       "2       Q  1286.753032\n",
       "1       M  1278.331410\n",
       "0       K  1181.364461\n",
       "4       X  1157.598203"
      ]
     },
     "execution_count": 50,
     "metadata": {},
     "output_type": "execute_result"
    }
   ],
   "source": [
    "boroughs[['borough','sat_scores']].sort_values(by='sat_scores', ascending=False)"
   ]
  },
  {
   "cell_type": "markdown",
   "id": "baadc6d9",
   "metadata": {},
   "source": [
    "As expect, the _Richmond_ country (borough __Staten Island__) got the highest SAT result, but because we take the mean of SAT result for these borough, there's a chance that some case is standout, but we can expect about Staten Island will appear in the list of school with high SAT score."
   ]
  },
  {
   "cell_type": "markdown",
   "id": "01e5cf91",
   "metadata": {},
   "source": [
    "## Sub-mission 2: Evaluate the SAT result by demographics data:"
   ]
  },
  {
   "cell_type": "markdown",
   "id": "7400484a",
   "metadata": {},
   "source": [
    "In the sub-mission 1, we've mentioned to a bit of demographics data: which borough?... Now we will deep digger into the demographics data, like: race/ region (`white_per`, `asian_per`, `black_per`, `hispanic_per`), genre (`man_per`, `woman_per`).. and answer the question: _Have the standardlize test had efficacy/ unfair with certain group?_"
   ]
  },
  {
   "cell_type": "markdown",
   "id": "a159d41a",
   "metadata": {},
   "source": [
    "To get a quick look, we will plot a relation graph about 4 factor above with SAT result, and take account into something deeper from that graph."
   ]
  },
  {
   "cell_type": "code",
   "execution_count": 51,
   "id": "a7169a6f",
   "metadata": {
    "scrolled": false
   },
   "outputs": [
    {
     "data": {
      "image/png": "[encoded data removed]",
      "text/plain": [
       "<Figure size 360x432 with 1 Axes>"
      ]
     },
     "metadata": {
      "needs_background": "light"
     },
     "output_type": "display_data"
    }
   ],
   "source": [
    "## Relation graph above race/ relagion to SAT result:\n",
    "\n",
    "# Define columns:\n",
    "reg = ['white_per', 'asian_per', 'black_per', 'hispanic_per']\n",
    "\n",
    "# Define color filter:\n",
    "corr_reg_pos = correlation[reg]>0\n",
    "corr_pos_map = corr_reg_pos.map({True:'blue', False:'red'})\n",
    "\n",
    "# Plot:\n",
    "correlation[reg].plot.barh(figsize=(5,6), color = corr_pos_map)\n",
    "plt.xlabel('Relation degree')\n",
    "plt.ylabel(\"Student's infor: race/ religon\")\n",
    "plt.title('Relation between SAT result with\\nrace/religon information of student')\n",
    "plt.show()"
   ]
  },
  {
   "cell_type": "markdown",
   "id": "5257dd9f",
   "metadata": {},
   "source": [
    "We got some observe:\n",
    "- In group of black/ white student: Ratio of white student got higher SAT score is higher than Black Student (the reason is unknow since the deeper demographics info is not known)\n",
    "- In group of Asian/ Hispanic student: Though is not certainly but __Asian student__ tend to __got SAT result higher__, and this observe is no doubt because there's so many title about Asian student got high SAT score in everywhere at e-news."
   ]
  },
  {
   "cell_type": "markdown",
   "id": "c5b07bc3",
   "metadata": {},
   "source": [
    "Now we want to find school where the student learned, and find for three cases:\n",
    "- For hispanic student: School with low SAT result and high SAT result (judging range: SAT score = 1200 points)\n",
    "- For school with hispanic student greater than 95% (`hispanic_per` greater than 95%)\n",
    "- For school with a `hispanic_per` less than 10% and __an average SAT score__ greater than 1800."
   ]
  },
  {
   "cell_type": "markdown",
   "id": "ebde8cb3",
   "metadata": {},
   "source": [
    "Before, let's graph a relation plot between hispanic percentage student with SAT result:"
   ]
  },
  {
   "cell_type": "code",
   "execution_count": 52,
   "id": "6daa0933",
   "metadata": {},
   "outputs": [
    {
     "data": {
      "image/png": "[encoded data removed]",
      "text/plain": [
       "<Figure size 432x288 with 1 Axes>"
      ]
     },
     "metadata": {
      "needs_background": "light"
     },
     "output_type": "display_data"
    }
   ],
   "source": [
    "## Relation between hispanic_per with sat_scores:\n",
    "combine.plot.scatter(x='hispanic_per', y='sat_scores')\n",
    "plt.xlabel('Ratio of hispanic student join (%)')\n",
    "plt.ylabel('SAT result (points)')\n",
    "plt.show()"
   ]
  },
  {
   "cell_type": "markdown",
   "id": "07bb3eb7",
   "metadata": {},
   "source": [
    "So we've clearly know what dose our case mention, let's digger in."
   ]
  },
  {
   "cell_type": "code",
   "execution_count": 53,
   "id": "c8a6c612",
   "metadata": {},
   "outputs": [],
   "source": [
    "## Find school with hispanic student in (find by hispanic_per)\n",
    "hispanic_stdn = combine[['sat_scores','hispanic_per','SCHOOL NAME']]\n",
    "\n",
    "## case 1: \n",
    "#1. Low SAT result:\n",
    "low_SAT = hispanic_stdn[hispanic_stdn.sat_scores<1200]\n",
    "#2. High SAT result:\n",
    "high_SAT = hispanic_stdn[hispanic_stdn.sat_scores>1200]\n",
    "\n",
    "## case 2: find school with ratio of hispanic student greater than 95%:\n",
    "hispnaic_95 = hispanic_stdn[hispanic_stdn.hispanic_per>95]\n",
    "\n",
    "## case 3: find the school with less hispanic student and average SAT score greater than 1800:\n",
    "case3 = hispanic_stdn[hispanic_stdn.hispanic_per<10]\n",
    "# Groupby school:\n",
    "school = case3.groupby('SCHOOL NAME').agg(np.mean)\n",
    "school = school.reset_index()"
   ]
  },
  {
   "cell_type": "code",
   "execution_count": 54,
   "id": "7a5e3d4b",
   "metadata": {},
   "outputs": [
    {
     "data": {
      "text/plain": [
       "44                         MANHATTAN BRIDGES HIGH SCHOOL\n",
       "82      WASHINGTON HEIGHTS EXPEDITIONARY LEARNING SCHOOL\n",
       "89     GREGORIO LUPERON HIGH SCHOOL FOR SCIENCE AND M...\n",
       "125                  ACADEMY FOR LANGUAGE AND TECHNOLOGY\n",
       "141                INTERNATIONAL SCHOOL FOR LIBERAL ARTS\n",
       "176     PAN AMERICAN INTERNATIONAL HIGH SCHOOL AT MONROE\n",
       "253                            MULTICULTURAL HIGH SCHOOL\n",
       "286               PAN AMERICAN INTERNATIONAL HIGH SCHOOL\n",
       "Name: SCHOOL NAME, dtype: object"
      ]
     },
     "execution_count": 54,
     "metadata": {},
     "output_type": "execute_result"
    }
   ],
   "source": [
    "# Find the information of school with hispanic student is the most:\n",
    "hispnaic_95['SCHOOL NAME']"
   ]
  },
  {
   "cell_type": "markdown",
   "id": "03e63176",
   "metadata": {},
   "source": [
    "After the research about school information, all these school is for French language leaner (they've been taught for speak English, but most of time, they speak French). And for that purpose, the SAT result can be a bit lower because they must learn English first and they took time to used to it. Let's move to the school which less hispanic student in."
   ]
  },
  {
   "cell_type": "code",
   "execution_count": 55,
   "id": "ef4c8e49",
   "metadata": {},
   "outputs": [
    {
     "data": {
      "text/html": [
       "<div>\n",
       "<style scoped>\n",
       "    .dataframe tbody tr th:only-of-type {\n",
       "        vertical-align: middle;\n",
       "    }\n",
       "\n",
       "    .dataframe tbody tr th {\n",
       "        vertical-align: top;\n",
       "    }\n",
       "\n",
       "    .dataframe thead th {\n",
       "        text-align: right;\n",
       "    }\n",
       "</style>\n",
       "<table border=\"1\" class=\"dataframe\">\n",
       "  <thead>\n",
       "    <tr style=\"text-align: right;\">\n",
       "      <th></th>\n",
       "      <th>SCHOOL NAME</th>\n",
       "      <th>sat_scores</th>\n",
       "    </tr>\n",
       "  </thead>\n",
       "  <tbody>\n",
       "    <tr>\n",
       "      <th>5</th>\n",
       "      <td>BRONX HIGH SCHOOL OF SCIENCE</td>\n",
       "      <td>1969.0</td>\n",
       "    </tr>\n",
       "    <tr>\n",
       "      <th>8</th>\n",
       "      <td>BROOKLYN TECHNICAL HIGH SCHOOL</td>\n",
       "      <td>1833.0</td>\n",
       "    </tr>\n",
       "    <tr>\n",
       "      <th>20</th>\n",
       "      <td>QUEENS HIGH SCHOOL FOR THE SCIENCES AT YORK CO...</td>\n",
       "      <td>1868.0</td>\n",
       "    </tr>\n",
       "    <tr>\n",
       "      <th>25</th>\n",
       "      <td>STATEN ISLAND TECHNICAL HIGH SCHOOL</td>\n",
       "      <td>1953.0</td>\n",
       "    </tr>\n",
       "    <tr>\n",
       "      <th>26</th>\n",
       "      <td>STUYVESANT HIGH SCHOOL</td>\n",
       "      <td>2096.0</td>\n",
       "    </tr>\n",
       "  </tbody>\n",
       "</table>\n",
       "</div>"
      ],
      "text/plain": [
       "                                          SCHOOL NAME  sat_scores\n",
       "5                        BRONX HIGH SCHOOL OF SCIENCE      1969.0\n",
       "8                      BROOKLYN TECHNICAL HIGH SCHOOL      1833.0\n",
       "20  QUEENS HIGH SCHOOL FOR THE SCIENCES AT YORK CO...      1868.0\n",
       "25                STATEN ISLAND TECHNICAL HIGH SCHOOL      1953.0\n",
       "26                             STUYVESANT HIGH SCHOOL      2096.0"
      ]
     },
     "execution_count": 55,
     "metadata": {},
     "output_type": "execute_result"
    }
   ],
   "source": [
    "## Find the school with hispanic student in and average SAT scores is above 1800:\n",
    "school[['SCHOOL NAME','sat_scores']][school['sat_scores']>1800]"
   ]
  },
  {
   "cell_type": "markdown",
   "id": "065c83be",
   "metadata": {},
   "source": [
    "We've mentioned this by find the relation between `borough` and `sat_scores` result, and got the conclusion that the borough with SAT result highest is Staten Island. So we have one of this here: `STATEN ISLAND TECHNICAL HIGH SCHOOL`, and the school with highest SAT result is `STUYVESANT HIGH SCHOOL` which location is in Manhanttan, by the principal is from Asian people whose got basic study thinking of Asian. And the shared point is __the ratio of hispanic student here is small__."
   ]
  },
  {
   "cell_type": "markdown",
   "id": "d2928bab",
   "metadata": {},
   "source": [
    "Now, take a look on `gender` information, and as usual, we take a look about its relation graph for get a overview about among man/woman, which gender tend to have SAT score higher?"
   ]
  },
  {
   "cell_type": "code",
   "execution_count": 56,
   "id": "a914fbb8",
   "metadata": {},
   "outputs": [
    {
     "data": {
      "image/png": "[encoded data removed]",
      "text/plain": [
       "<Figure size 432x288 with 1 Axes>"
      ]
     },
     "metadata": {
      "needs_background": "light"
     },
     "output_type": "display_data"
    }
   ],
   "source": [
    "## Relation of gender to SAT result:\n",
    "#Define the columns:\n",
    "gender = ['male_per', 'female_per']\n",
    "#Color filter:\n",
    "corr_gen = correlation[gender]>0\n",
    "corr_gen_map = corr_gen.map({True:'pink',False:'Grey'})\n",
    "\n",
    "#Plot:\n",
    "correlation[gender].plot.barh(x='gender',y='sat_scores',color=corr_gen_map)\n",
    "plt.xlabel('Gender info')\n",
    "plt.ylabel('SAT result (points)')\n",
    "plt.show()"
   ]
  },
  {
   "cell_type": "markdown",
   "id": "4765bc65",
   "metadata": {},
   "source": [
    "We can see a _weak relation_ between gender info and SAT results (less than 0.2), but if take a look closer, we can say that group of female student do better than male student. Let's releave it by find some school name with special case below:\n",
    "- Schools with high SAT scores and a high `female_per`\n",
    "- Schools with a `female_per` __greater than 60%__ and an __average SAT score greater than 1700__"
   ]
  },
  {
   "cell_type": "markdown",
   "id": "8dbe8b06",
   "metadata": {},
   "source": [
    "Before this, let's make a graph about girls and SAT result"
   ]
  },
  {
   "cell_type": "code",
   "execution_count": 57,
   "id": "322c3d66",
   "metadata": {},
   "outputs": [
    {
     "data": {
      "image/png": "[encoded data removed]",
      "text/plain": [
       "<Figure size 432x288 with 1 Axes>"
      ]
     },
     "metadata": {
      "needs_background": "light"
     },
     "output_type": "display_data"
    }
   ],
   "source": [
    "## Relation graph of female student and SAT result:\n",
    "combine.plot.scatter(x='female_per', y='sat_scores')\n",
    "plt.xlabel('Ratio of girls in school (%)')\n",
    "plt.ylabel('SAT result (points)')\n",
    "\n",
    "plt.show()"
   ]
  },
  {
   "cell_type": "code",
   "execution_count": 58,
   "id": "771db726",
   "metadata": {},
   "outputs": [],
   "source": [
    "# Find school name with special case:\n",
    "girls = combine[['SCHOOL NAME', 'female_per', 'sat_scores']] ## Extract female student into another df\n",
    "\n",
    "# case 1: high female_per (>50%) and high SAT score (>1200 points)\n",
    "bool_a = girls['female_per']>50\n",
    "bool_b = girls['sat_scores']>1200\n",
    "mask = bool_a&bool_b\n",
    "\n",
    "case1 = girls[mask]['SCHOOL NAME']\n",
    "\n",
    "# case 2: female_per > 60%, average SAT score >1700:\n",
    "con1 = girls[girls['female_per'] >60]\n",
    "case2 = con1.groupby('SCHOOL NAME').agg(np.mean)\n",
    "school_name = case2.reset_index()"
   ]
  },
  {
   "cell_type": "code",
   "execution_count": 59,
   "id": "e3d0eceb",
   "metadata": {},
   "outputs": [
    {
     "data": {
      "text/plain": [
       "3                                MARTA VALLE HIGH SCHOOL\n",
       "4      NEW EXPLORATIONS INTO SCIENCE, TECHNOLOGY AND ...\n",
       "5                         BARD HIGH SCHOOL EARLY COLLEGE\n",
       "10                                      PACE HIGH SCHOOL\n",
       "17                                           NYC ISCHOOL\n",
       "                             ...                        \n",
       "346            BACCALAUREATE SCHOOL FOR GLOBAL EDUCATION\n",
       "347            CSI HIGH SCHOOL FOR INTERNATIONAL STUDIES\n",
       "349                       THE MICHAEL J. PETRIDES SCHOOL\n",
       "352                                   CURTIS HIGH SCHOOL\n",
       "353                              TOTTENVILLE HIGH SCHOOL\n",
       "Name: SCHOOL NAME, Length: 98, dtype: object"
      ]
     },
     "execution_count": 59,
     "metadata": {},
     "output_type": "execute_result"
    }
   ],
   "source": [
    "# School name case 1:\n",
    "case1"
   ]
  },
  {
   "cell_type": "markdown",
   "id": "6784ae81",
   "metadata": {},
   "source": [
    "Due to the less insight by case 1, we'll next to the case 2:"
   ]
  },
  {
   "cell_type": "code",
   "execution_count": 60,
   "id": "ecf8d3c3",
   "metadata": {},
   "outputs": [
    {
     "data": {
      "text/html": [
       "<div>\n",
       "<style scoped>\n",
       "    .dataframe tbody tr th:only-of-type {\n",
       "        vertical-align: middle;\n",
       "    }\n",
       "\n",
       "    .dataframe tbody tr th {\n",
       "        vertical-align: top;\n",
       "    }\n",
       "\n",
       "    .dataframe thead th {\n",
       "        text-align: right;\n",
       "    }\n",
       "</style>\n",
       "<table border=\"1\" class=\"dataframe\">\n",
       "  <thead>\n",
       "    <tr style=\"text-align: right;\">\n",
       "      <th></th>\n",
       "      <th>SCHOOL NAME</th>\n",
       "      <th>sat_scores</th>\n",
       "    </tr>\n",
       "  </thead>\n",
       "  <tbody>\n",
       "    <tr>\n",
       "      <th>0</th>\n",
       "      <td>BARD HIGH SCHOOL EARLY COLLEGE</td>\n",
       "      <td>1856.0</td>\n",
       "    </tr>\n",
       "    <tr>\n",
       "      <th>2</th>\n",
       "      <td>BEACON HIGH SCHOOL</td>\n",
       "      <td>1744.0</td>\n",
       "    </tr>\n",
       "    <tr>\n",
       "      <th>14</th>\n",
       "      <td>ELEANOR ROOSEVELT HIGH SCHOOL</td>\n",
       "      <td>1758.0</td>\n",
       "    </tr>\n",
       "    <tr>\n",
       "      <th>15</th>\n",
       "      <td>FIORELLO H. LAGUARDIA HIGH SCHOOL OF MUSIC &amp; A...</td>\n",
       "      <td>1707.0</td>\n",
       "    </tr>\n",
       "    <tr>\n",
       "      <th>41</th>\n",
       "      <td>TOWNSEND HARRIS HIGH SCHOOL</td>\n",
       "      <td>1910.0</td>\n",
       "    </tr>\n",
       "  </tbody>\n",
       "</table>\n",
       "</div>"
      ],
      "text/plain": [
       "                                          SCHOOL NAME  sat_scores\n",
       "0                      BARD HIGH SCHOOL EARLY COLLEGE      1856.0\n",
       "2                                  BEACON HIGH SCHOOL      1744.0\n",
       "14                      ELEANOR ROOSEVELT HIGH SCHOOL      1758.0\n",
       "15  FIORELLO H. LAGUARDIA HIGH SCHOOL OF MUSIC & A...      1707.0\n",
       "41                        TOWNSEND HARRIS HIGH SCHOOL      1910.0"
      ]
     },
     "execution_count": 60,
     "metadata": {},
     "output_type": "execute_result"
    }
   ],
   "source": [
    "## School name case 2:\n",
    "school_name[['SCHOOL NAME','sat_scores']][school_name['sat_scores']>1700]"
   ]
  },
  {
   "cell_type": "markdown",
   "id": "77c9866e",
   "metadata": {},
   "source": [
    "We have some observe for the result:\n",
    "- Almost the schools above is in __Manhattan and Queen__\n",
    "- Not only these school have the higher percentage of female students, they are well-known by their check on first enrolling of student (meet some high requirement of skill...)\n",
    "- The student distribution is always __larger__ of __White student__, followed by Black /Hispanic /Asian student ratio change along each school."
   ]
  },
  {
   "cell_type": "markdown",
   "id": "07753e06",
   "metadata": {},
   "source": [
    "__Plus__: On the correlation table we can see that the amount of student who taken AP test and total AP test is have correlation with SAT results too (though it's not much strong ~ 0.25). Now we will releave the relation of these field with SAT result to see is there have any interesting insights. Because `total_enrollment` is highly correlated with `sat_score`, we don't want to lead to bias results. Instead, we'll look at __the percentage of students in each school__ who took at least one AP exam."
   ]
  },
  {
   "cell_type": "code",
   "execution_count": 61,
   "id": "e99ef938",
   "metadata": {},
   "outputs": [
    {
     "name": "stdout",
     "output_type": "stream",
     "text": [
      "Correlation of percentage student taken AP test with SAT results is 0.05717081390766952\n"
     ]
    },
    {
     "data": {
      "image/png": "[encoded data removed]",
      "text/plain": [
       "<Figure size 432x288 with 1 Axes>"
      ]
     },
     "metadata": {
      "needs_background": "light"
     },
     "output_type": "display_data"
    }
   ],
   "source": [
    "# Create a column with percentage of student who take at least 1 AP test:\n",
    "combine.loc[:,'ap_percent'] = combine['AP Test Takers']/combine['total_enrollment']\n",
    "\n",
    "# Comput the correlation of this field to SAT result:\n",
    "corr_2 = combine.corr()['ap_percent']['sat_scores']\n",
    "print('Correlation of percentage student taken AP test with SAT results is {}'.format(corr_2))\n",
    "# Plot the relation graph of AP test takers percent to SAT result:\n",
    "combine.plot.scatter(x='ap_percent', y='sat_scores')\n",
    "plt.xlabel('Percentage of student taken AP test')\n",
    "plt.ylabel('SAT result (points)')\n",
    "plt.show()"
   ]
  },
  {
   "cell_type": "markdown",
   "id": "5ed3635d",
   "metadata": {},
   "source": [
    "Follow the correlation result we can consider that SAT result is negative effect with the percentage of student who take AP exam; and we can see a similar thing out here: from __percentage of 20% below__, the __SAT result seem OK__ for the points can up to ~1500. But from __the half of 20% to the last__, the SAT result __doesn't__ seem to be __better__ (except some outlier) => We can suggest that the more student focucs on get better by take many AP test, the worse their result get because they take time to better at AP but not much time to focus on SAT."
   ]
  },
  {
   "cell_type": "markdown",
   "id": "8f67628b",
   "metadata": {},
   "source": [
    "# Sub-mission 3: Find the relation of Class size with SAT result:"
   ]
  },
  {
   "cell_type": "markdown",
   "id": "20ee55f0",
   "metadata": {},
   "source": [
    "There are 5 field of Class size we have: `NUMBER OF STUDENTS / SEATS FILLED`, `NUMBER OF SECTIONS`, `AVERAGE CLASS SIZE`, `SIZE OF SMALLEST CLASS`, `SIZE OF LARGEST CLASS`. Now let's draw the relation graph of these field with SAT result to see the overview first, and then we will dig in a spectacular field to get the meaning."
   ]
  },
  {
   "cell_type": "code",
   "execution_count": 62,
   "id": "6133e7a4",
   "metadata": {
    "scrolled": true
   },
   "outputs": [
    {
     "data": {
      "image/png": "[encoded data removed]",
      "text/plain": [
       "<Figure size 576x504 with 1 Axes>"
      ]
     },
     "metadata": {
      "needs_background": "light"
     },
     "output_type": "display_data"
    }
   ],
   "source": [
    "# Define the column:\n",
    "col_class = ['NUMBER OF STUDENTS / SEATS FILLED','NUMBER OF SECTIONS','AVERAGE CLASS SIZE',\n",
    "             'SIZE OF SMALLEST CLASS','SIZE OF LARGEST CLASS']\n",
    "\n",
    "# Define the color filter:\n",
    "class_corr = correlation[col_class]>0\n",
    "class_corr_pos = class_corr.map({True:'green', False:'red'})\n",
    "\n",
    "# Plot:\n",
    "correlation[col_class].plot.barh(color = class_corr_pos, figsize=(8,7))\n",
    "plt.xlabel('Correlation with SAT result')\n",
    "plt.ylabel('Class size factor')\n",
    "plt.show()"
   ]
  },
  {
   "cell_type": "markdown",
   "id": "d387879c",
   "metadata": {},
   "source": [
    "We can see in the graph: the `SIZE OF LARGEST CLASS` have good relation with SAT result, give us a suggest that a school with large scale will have SAT result better than those which in smallest class. Now let's digger into this, create another relation graph between `SIZE OF LARGEST CLASS` and `sat_scores` to see the detail relation."
   ]
  },
  {
   "cell_type": "code",
   "execution_count": 63,
   "id": "03480773",
   "metadata": {},
   "outputs": [
    {
     "data": {
      "image/png": "[encoded data removed]",
      "text/plain": [
       "<Figure size 432x288 with 1 Axes>"
      ]
     },
     "metadata": {
      "needs_background": "light"
     },
     "output_type": "display_data"
    }
   ],
   "source": [
    "# Scatter plot of SIZE OF LARGEST CLASS vs SAT result:\n",
    "combine.plot.scatter(x='SIZE OF LARGEST CLASS', y='sat_scores')\n",
    "plt.xlabel('Amount of largest class')\n",
    "plt.ylabel('SAT result (points)')\n",
    "plt.show()"
   ]
  },
  {
   "cell_type": "markdown",
   "id": "50a1cdff",
   "metadata": {},
   "source": [
    "We can see the amount in one class get 30-35 students seems have better SAT result, now let's pick up the school name with class size is __30~35 student__, and get _SAT average_ __above 1700__."
   ]
  },
  {
   "cell_type": "code",
   "execution_count": 64,
   "id": "f574ad22",
   "metadata": {},
   "outputs": [
    {
     "data": {
      "text/html": [
       "<div>\n",
       "<style scoped>\n",
       "    .dataframe tbody tr th:only-of-type {\n",
       "        vertical-align: middle;\n",
       "    }\n",
       "\n",
       "    .dataframe tbody tr th {\n",
       "        vertical-align: top;\n",
       "    }\n",
       "\n",
       "    .dataframe thead th {\n",
       "        text-align: right;\n",
       "    }\n",
       "</style>\n",
       "<table border=\"1\" class=\"dataframe\">\n",
       "  <thead>\n",
       "    <tr style=\"text-align: right;\">\n",
       "      <th></th>\n",
       "      <th>SCHOOL NAME</th>\n",
       "      <th>SIZE OF LARGEST CLASS</th>\n",
       "      <th>sat_scores</th>\n",
       "    </tr>\n",
       "  </thead>\n",
       "  <tbody>\n",
       "    <tr>\n",
       "      <th>15</th>\n",
       "      <td>BEACON HIGH SCHOOL</td>\n",
       "      <td>33.666667</td>\n",
       "      <td>1744.0</td>\n",
       "    </tr>\n",
       "    <tr>\n",
       "      <th>22</th>\n",
       "      <td>BRONX HIGH SCHOOL OF SCIENCE</td>\n",
       "      <td>34.210526</td>\n",
       "      <td>1969.0</td>\n",
       "    </tr>\n",
       "    <tr>\n",
       "      <th>32</th>\n",
       "      <td>BROOKLYN TECHNICAL HIGH SCHOOL</td>\n",
       "      <td>33.947368</td>\n",
       "      <td>1833.0</td>\n",
       "    </tr>\n",
       "    <tr>\n",
       "      <th>44</th>\n",
       "      <td>ELEANOR ROOSEVELT HIGH SCHOOL</td>\n",
       "      <td>30.666667</td>\n",
       "      <td>1758.0</td>\n",
       "    </tr>\n",
       "    <tr>\n",
       "      <th>45</th>\n",
       "      <td>FIORELLO H. LAGUARDIA HIGH SCHOOL OF MUSIC &amp; A...</td>\n",
       "      <td>34.250000</td>\n",
       "      <td>1707.0</td>\n",
       "    </tr>\n",
       "    <tr>\n",
       "      <th>110</th>\n",
       "      <td>QUEENS HIGH SCHOOL FOR THE SCIENCES AT YORK CO...</td>\n",
       "      <td>31.266667</td>\n",
       "      <td>1868.0</td>\n",
       "    </tr>\n",
       "    <tr>\n",
       "      <th>128</th>\n",
       "      <td>STATEN ISLAND TECHNICAL HIGH SCHOOL</td>\n",
       "      <td>33.176471</td>\n",
       "      <td>1953.0</td>\n",
       "    </tr>\n",
       "    <tr>\n",
       "      <th>129</th>\n",
       "      <td>STUYVESANT HIGH SCHOOL</td>\n",
       "      <td>33.842105</td>\n",
       "      <td>2096.0</td>\n",
       "    </tr>\n",
       "    <tr>\n",
       "      <th>140</th>\n",
       "      <td>TOWNSEND HARRIS HIGH SCHOOL</td>\n",
       "      <td>33.125000</td>\n",
       "      <td>1910.0</td>\n",
       "    </tr>\n",
       "  </tbody>\n",
       "</table>\n",
       "</div>"
      ],
      "text/plain": [
       "                                           SCHOOL NAME  SIZE OF LARGEST CLASS  \\\n",
       "15                                  BEACON HIGH SCHOOL              33.666667   \n",
       "22                        BRONX HIGH SCHOOL OF SCIENCE              34.210526   \n",
       "32                      BROOKLYN TECHNICAL HIGH SCHOOL              33.947368   \n",
       "44                       ELEANOR ROOSEVELT HIGH SCHOOL              30.666667   \n",
       "45   FIORELLO H. LAGUARDIA HIGH SCHOOL OF MUSIC & A...              34.250000   \n",
       "110  QUEENS HIGH SCHOOL FOR THE SCIENCES AT YORK CO...              31.266667   \n",
       "128                STATEN ISLAND TECHNICAL HIGH SCHOOL              33.176471   \n",
       "129                             STUYVESANT HIGH SCHOOL              33.842105   \n",
       "140                        TOWNSEND HARRIS HIGH SCHOOL              33.125000   \n",
       "\n",
       "     sat_scores  \n",
       "15       1744.0  \n",
       "22       1969.0  \n",
       "32       1833.0  \n",
       "44       1758.0  \n",
       "45       1707.0  \n",
       "110      1868.0  \n",
       "128      1953.0  \n",
       "129      2096.0  \n",
       "140      1910.0  "
      ]
     },
     "execution_count": 64,
     "metadata": {},
     "output_type": "execute_result"
    }
   ],
   "source": [
    "# Pick up school name with class size >30 and average SAT result is above 1700:\n",
    "# Create a df that use for both this case and Average Size case\n",
    "class_sizeM = combine[['SCHOOL NAME', 'SIZE OF LARGEST CLASS','AVERAGE CLASS SIZE', 'sat_scores']]\n",
    "\n",
    "# Filter:\n",
    "#task1 : for <30 class size <35\n",
    "task1 = class_sizeM[class_sizeM['SIZE OF LARGEST CLASS'].between(30,35)]\n",
    "school = task1.groupby('SCHOOL NAME').agg(np.mean)\n",
    "school.reset_index(inplace=True)\n",
    "\n",
    "# Display some school name:\n",
    "school[['SCHOOL NAME', 'SIZE OF LARGEST CLASS', 'sat_scores']][school['sat_scores']>1700]"
   ]
  },
  {
   "cell_type": "markdown",
   "id": "2a6c0774",
   "metadata": {},
   "source": [
    "As expect, we can see a lot of familiar school name here, with their maximum class size is in range of __30 - 35 student/ class__. The class size is large enough to manage student, but don't quite small to not get enough fee to development the teaching / learning condition."
   ]
  },
  {
   "cell_type": "markdown",
   "id": "045b8b2b",
   "metadata": {},
   "source": [
    "Now, we get an extra question: how many student in average in one class is efficacy for make them got effective learning enviroment, from there they can get SAT score better? => We will answer this question with `AVERAGE CLASS SIZE` field, now let's see the relationship between `AVERAGE CLASS SIZE` and `sat_scores` result."
   ]
  },
  {
   "cell_type": "code",
   "execution_count": 65,
   "id": "f917a7c8",
   "metadata": {},
   "outputs": [
    {
     "data": {
      "image/png": "[encoded data removed]",
      "text/plain": [
       "<Figure size 432x288 with 1 Axes>"
      ]
     },
     "metadata": {
      "needs_background": "light"
     },
     "output_type": "display_data"
    }
   ],
   "source": [
    "# Scatter plot of AVERAGE CLASS vs SAT result:\n",
    "combine.plot.scatter(x='AVERAGE CLASS SIZE', y='sat_scores')\n",
    "plt.xlabel('Amount of student in class (average)')\n",
    "plt.ylabel('SAT result (points)')\n",
    "plt.show()"
   ]
  },
  {
   "cell_type": "markdown",
   "id": "0fac4224",
   "metadata": {},
   "source": [
    "We can perform immediately find the school name with size in class from __25 to 30__, and get their __SAT averge above 1700__, to confirm one thing: The optimize number for almost school is __25-30__, and the __maximum size__ in one class can up to __35__, but don't get over it, unless we can see the distribution with class size greater than 35 is not good at all (and everyone know it, that's the obvious thing)"
   ]
  },
  {
   "cell_type": "code",
   "execution_count": 66,
   "id": "91088a00",
   "metadata": {},
   "outputs": [
    {
     "data": {
      "text/html": [
       "<div>\n",
       "<style scoped>\n",
       "    .dataframe tbody tr th:only-of-type {\n",
       "        vertical-align: middle;\n",
       "    }\n",
       "\n",
       "    .dataframe tbody tr th {\n",
       "        vertical-align: top;\n",
       "    }\n",
       "\n",
       "    .dataframe thead th {\n",
       "        text-align: right;\n",
       "    }\n",
       "</style>\n",
       "<table border=\"1\" class=\"dataframe\">\n",
       "  <thead>\n",
       "    <tr style=\"text-align: right;\">\n",
       "      <th></th>\n",
       "      <th>SCHOOL NAME</th>\n",
       "      <th>AVERAGE CLASS SIZE</th>\n",
       "      <th>sat_scores</th>\n",
       "    </tr>\n",
       "  </thead>\n",
       "  <tbody>\n",
       "    <tr>\n",
       "      <th>43</th>\n",
       "      <td>ELEANOR ROOSEVELT HIGH SCHOOL</td>\n",
       "      <td>27.433333</td>\n",
       "      <td>1758.0</td>\n",
       "    </tr>\n",
       "    <tr>\n",
       "      <th>105</th>\n",
       "      <td>QUEENS HIGH SCHOOL FOR THE SCIENCES AT YORK CO...</td>\n",
       "      <td>26.006667</td>\n",
       "      <td>1868.0</td>\n",
       "    </tr>\n",
       "    <tr>\n",
       "      <th>121</th>\n",
       "      <td>STATEN ISLAND TECHNICAL HIGH SCHOOL</td>\n",
       "      <td>29.588235</td>\n",
       "      <td>1953.0</td>\n",
       "    </tr>\n",
       "    <tr>\n",
       "      <th>132</th>\n",
       "      <td>TOWNSEND HARRIS HIGH SCHOOL</td>\n",
       "      <td>29.362500</td>\n",
       "      <td>1910.0</td>\n",
       "    </tr>\n",
       "  </tbody>\n",
       "</table>\n",
       "</div>"
      ],
      "text/plain": [
       "                                           SCHOOL NAME  AVERAGE CLASS SIZE  \\\n",
       "43                       ELEANOR ROOSEVELT HIGH SCHOOL           27.433333   \n",
       "105  QUEENS HIGH SCHOOL FOR THE SCIENCES AT YORK CO...           26.006667   \n",
       "121                STATEN ISLAND TECHNICAL HIGH SCHOOL           29.588235   \n",
       "132                        TOWNSEND HARRIS HIGH SCHOOL           29.362500   \n",
       "\n",
       "     sat_scores  \n",
       "43       1758.0  \n",
       "105      1868.0  \n",
       "121      1953.0  \n",
       "132      1910.0  "
      ]
     },
     "execution_count": 66,
     "metadata": {},
     "output_type": "execute_result"
    }
   ],
   "source": [
    "# Filter:\n",
    "#task2 : for <25 class size <30\n",
    "task2 = class_sizeM[class_sizeM['AVERAGE CLASS SIZE'].between(25,30)]\n",
    "school_2 = task2.groupby('SCHOOL NAME').agg(np.mean)\n",
    "school_2.reset_index(inplace=True)\n",
    "\n",
    "# Display some school name:\n",
    "school_2[['SCHOOL NAME', 'AVERAGE CLASS SIZE', 'sat_scores']][school_2['sat_scores']>1700]"
   ]
  },
  {
   "cell_type": "markdown",
   "id": "2a196a61",
   "metadata": {},
   "source": [
    "Once again, we must say that there are all familiar school name which is mentioned above in: _Which school with female percentage greater still get SAT result better?_ or _Which school have less hispanic student and get SAT result better?_ If you want to know why: that's one reason of it. Not only for the optimize number of student in class, they all have optimize learning method, and the last: Some of them have checking in first join."
   ]
  },
  {
   "cell_type": "markdown",
   "id": "8113d074",
   "metadata": {},
   "source": [
    "__CONCLUSION:__ The SAT result have good relation with class size, especially with which class size is __25 - 35 student/ class__"
   ]
  },
  {
   "cell_type": "markdown",
   "id": "816cf577",
   "metadata": {},
   "source": [
    "# Sub-mission 4: Which borough have a good high school?"
   ]
  },
  {
   "cell_type": "markdown",
   "id": "601f0791",
   "metadata": {},
   "source": [
    "To evaluate a school is good school, we might want define _'good'_ word here meaning of a school __which graduated students can get their good SAT result__. We can reference the summarized data follow by borough, the detail is sort the borough follow their rank of __average SAT scores__, and plot a barplot to see the detail."
   ]
  },
  {
   "cell_type": "code",
   "execution_count": 67,
   "id": "e1e26cd6",
   "metadata": {},
   "outputs": [
    {
     "name": "stdout",
     "output_type": "stream",
     "text": [
      "  borough   sat_scores\n",
      "3       R  1382.500000\n",
      "2       Q  1286.753032\n",
      "1       M  1278.331410\n",
      "0       K  1181.364461\n",
      "4       X  1157.598203\n"
     ]
    },
    {
     "data": {
      "image/png": "[encoded data removed]",
      "text/plain": [
       "<Figure size 432x288 with 1 Axes>"
      ]
     },
     "metadata": {
      "needs_background": "light"
     },
     "output_type": "display_data"
    }
   ],
   "source": [
    "## Call back the result:\n",
    "task3 = boroughs[['borough','sat_scores']].sort_values(by='sat_scores', ascending=False)\n",
    "print(task3)\n",
    "## Generate bar plot:\n",
    "plt.barh(task3['borough'], task3['sat_scores'], height=0.5)\n",
    "plt.xlabel('SAT result (points)')\n",
    "plt.ylabel('Borough')\n",
    "plt.show()"
   ]
  },
  {
   "cell_type": "markdown",
   "id": "bbbe0387",
   "metadata": {},
   "source": [
    "Before take the further step, we will want to get clearly __what the high SAT scores is?__ So let's take a histogram with a line of which the result of SAT test is appear the most, along there we can see what mark we can take to evaluate one got high SAT score."
   ]
  },
  {
   "cell_type": "code",
   "execution_count": 68,
   "id": "cb5d56e3",
   "metadata": {},
   "outputs": [
    {
     "data": {
      "text/plain": [
       "count     363.000000\n",
       "mean     1223.438806\n",
       "std       178.223775\n",
       "min       887.000000\n",
       "25%      1113.000000\n",
       "50%      1193.000000\n",
       "75%      1266.500000\n",
       "max      2096.000000\n",
       "Name: sat_scores, dtype: float64"
      ]
     },
     "execution_count": 68,
     "metadata": {},
     "output_type": "execute_result"
    }
   ],
   "source": [
    "combine['sat_scores'].describe()"
   ]
  },
  {
   "cell_type": "code",
   "execution_count": 71,
   "id": "96446fbd",
   "metadata": {},
   "outputs": [
    {
     "name": "stdout",
     "output_type": "stream",
     "text": [
      "IQR=153.5\n",
      "Most of SAT scores = 1223.4388059701494\n",
      "Kurtosis of distribution = 5.148026843063173\n",
      "Skewness of distribution = 1.9360129415072231\n"
     ]
    },
    {
     "data": {
      "image/png": "[encoded data removed]",
      "text/plain": [
       "<Figure size 432x288 with 1 Axes>"
      ]
     },
     "metadata": {
      "needs_background": "light"
     },
     "output_type": "display_data"
    }
   ],
   "source": [
    "# Plot the graph again:\n",
    "# Define some measurement unit:\n",
    "q1, q3 = np.quantile(combine['sat_scores'],[.25, .75])\n",
    "sat_mode = combine['sat_scores'].mode()[0]\n",
    "\n",
    "print('IQR={}'.format(q3-q1))\n",
    "print('Most of SAT scores = {}'.format(sat_mode))\n",
    "\n",
    "kurtosis = combine['sat_scores'].kurt()\n",
    "skewness = combine['sat_scores'].skew()\n",
    "\n",
    "print('Kurtosis of distribution = {}'.format(kurtosis))\n",
    "print('Skewness of distribution = {}'.format(skewness))\n",
    "\n",
    "# Plot histogram of SAT score:\n",
    "plt.hist(combine['sat_scores'], density=True, label='SAT result', histtype='step')\n",
    "combine['sat_scores'].plot.kde()\n",
    "\n",
    "plt.axvline(sat_mode, color='black', label='Most of SAT score')\n",
    "plt.axvline(q1, color='green', label='Min limit', ls='dashed')\n",
    "plt.axvline(q3, color='green', label='Max limit', ls='dashed')\n",
    "\n",
    "plt.xlabel('SAT scores (points)')\n",
    "plt.ylabel('Density')\n",
    "\n",
    "plt.xlim(combine['sat_scores'].min(), combine['sat_scores'].max())\n",
    "plt.legend()\n",
    "plt.title('Distribution of SAT score')\n",
    "plt.show()"
   ]
  },
  {
   "cell_type": "markdown",
   "id": "e7b769d6",
   "metadata": {},
   "source": [
    "From the statistic metric we can see that:\n",
    "- The distribution is __NOT normal distribution__ with postivie skewness (_Right skew distribution_) and _positive kurtosis  __k>3.0__ => The kurtosis of distribution is _lepto-kurtosis_ (more kurtic than normal distribution). From this observed:\n",
    "1. The maximum points of SAT is 2400 (3 sections * 800 points MAX in 1 section), a half is 1200 points; from the graph, there is no student get too bad points (lower than 500) => students skill average is good.\n",
    "2. _The most point_ student get is __1223 points__, closer to the average points => the overview rank is good and closer to range of 75% dataset\n",
    "- For the marked of __high SAT score__:\n",
    "1. Due to _75% SAT scores is laying on 1266 points_ => __From 1300 points we can consider that it is high SAT score__, but we must reference to the College's KPI in every year to see what's kind of score will likely to be pass the College."
   ]
  },
  {
   "cell_type": "markdown",
   "id": "d5d79544",
   "metadata": {},
   "source": [
    "For the covenient, we will add the line of where the most of points less than or equal to the maximum we can reach. We will get the mark of score that __beat over 85% the rest__, to get [the most chance of College pass-assist](https://www.cappex.com/articles/testing/what-is-a-good-SAT-score), and make the huge different with the rest. "
   ]
  },
  {
   "cell_type": "code",
   "execution_count": 72,
   "id": "1f6dc445",
   "metadata": {},
   "outputs": [
    {
     "name": "stdout",
     "output_type": "stream",
     "text": [
      "The SAT point that beat over 85% the rest = 1351.4\n",
      "Most of SAT scores = 1223.4388059701494\n"
     ]
    },
    {
     "data": {
      "image/png": "[encoded data removed]",
      "text/plain": [
       "<Figure size 432x288 with 1 Axes>"
      ]
     },
     "metadata": {
      "needs_background": "light"
     },
     "output_type": "display_data"
    }
   ],
   "source": [
    "# Define some measurement unit:\n",
    "q1, q3 = np.quantile(combine['sat_scores'],[.25, .75])\n",
    "percen_85 = np.percentile(combine['sat_scores'],85)\n",
    "sat_mode = combine['sat_scores'].mode()[0]\n",
    "\n",
    "print('The SAT point that beat over 85% the rest = {}'.format(percen_85))\n",
    "print('Most of SAT scores = {}'.format(sat_mode))\n",
    "\n",
    "# Plot histogram of SAT score:\n",
    "plt.hist(combine['sat_scores'], density=True, label='SAT result', histtype='step')\n",
    "combine['sat_scores'].plot.kde()\n",
    "\n",
    "plt.axvline(sat_mode, color='black', label='Most of SAT score')\n",
    "plt.axvline(q1, color='green', label='Min limit', ls='dashed')\n",
    "plt.axvline(q3, color='green', label='Max limit', ls='dashed')\n",
    "plt.axvline(percen_85, color='red', label='Most of 85%', ls='dashed')\n",
    "\n",
    "plt.xlabel('SAT scores (points)')\n",
    "plt.ylabel('Density')\n",
    "\n",
    "plt.xlim(combine['sat_scores'].min(), combine['sat_scores'].max())\n",
    "plt.legend()\n",
    "plt.title('Distribution of SAT score')\n",
    "plt.show()"
   ]
  },
  {
   "cell_type": "markdown",
   "id": "e425219d",
   "metadata": {},
   "source": [
    "We've done, from the graph we can see that a mark will _beat over 85% the rest_ is when SAT scores reach __1352 points__. We will take this result to filter all the school for each borough, and see the ratio of school can be reach to this degree."
   ]
  },
  {
   "cell_type": "code",
   "execution_count": 73,
   "id": "c74c8588",
   "metadata": {},
   "outputs": [
    {
     "name": "stdout",
     "output_type": "stream",
     "text": [
      "M\n",
      "X\n",
      "K\n",
      "Q\n",
      "R\n"
     ]
    }
   ],
   "source": [
    "# Filter the school from each borough:\n",
    "schl_borg = combine.groupby('borough')\n",
    "\n",
    "# Get the school for each borough:\n",
    "data_group = {}\n",
    "key = combine['borough'].unique()\n",
    "for item in key:\n",
    "    data_group[item] = schl_borg.get_group(item) #To get the group of co-responed borough\n",
    "    \n",
    "#Check:\n",
    "for k, v in data_group.items():\n",
    "    print(k)"
   ]
  },
  {
   "cell_type": "code",
   "execution_count": 74,
   "id": "546041ef",
   "metadata": {},
   "outputs": [
    {
     "data": {
      "text/plain": [
       "[90, 93, 106, 64, 10]"
      ]
     },
     "execution_count": 74,
     "metadata": {},
     "output_type": "execute_result"
    }
   ],
   "source": [
    "# Count the original school in each borough:\n",
    "count_ori = []\n",
    "for item in key:\n",
    "    count = data_group[item]['SCHOOL NAME'].count()\n",
    "    count_ori.append(count)\n",
    "    \n",
    "# Check:\n",
    "count_ori"
   ]
  },
  {
   "cell_type": "code",
   "execution_count": 79,
   "id": "858086a1",
   "metadata": {},
   "outputs": [
    {
     "name": "stdout",
     "output_type": "stream",
     "text": [
      "M\n",
      "X\n",
      "K\n",
      "Q\n",
      "R\n"
     ]
    }
   ],
   "source": [
    "# Filter the school from each borough with SAT score >1364 points\n",
    "schl_borg_2 = combine.groupby('borough').apply(lambda x: x[x['sat_scores']>1352])\n",
    "\n",
    "# Get the school for each borough:\n",
    "data_group_2 = {}\n",
    "key = combine['borough'].unique()\n",
    "for item in key:\n",
    "    data_group_2[item] = schl_borg_2[schl_borg_2['borough']==item] #To get the group of co-responed borough\n",
    "    \n",
    "#Check:\n",
    "for k, v in data_group_2.items():\n",
    "    print(k)"
   ]
  },
  {
   "cell_type": "code",
   "execution_count": 80,
   "id": "926c8fa6",
   "metadata": {},
   "outputs": [
    {
     "name": "stdout",
     "output_type": "stream",
     "text": [
      "[21, 3, 9, 16, 5]\n"
     ]
    },
    {
     "data": {
      "text/plain": [
       "[23.333333333333332, 3.225806451612903, 8.49056603773585, 25.0, 50.0]"
      ]
     },
     "execution_count": 80,
     "metadata": {},
     "output_type": "execute_result"
    }
   ],
   "source": [
    "# Count the original school in each borough:\n",
    "count_after = []\n",
    "for item in key:\n",
    "    count = data_group_2[item]['SCHOOL NAME'].count()\n",
    "    count_after.append(count)\n",
    "    \n",
    "# Check:\n",
    "print(count_after)\n",
    "\n",
    "# Get the ratio of school which above 1364 SAT points:\n",
    "result = []\n",
    "for i, j in zip(count_after, count_ori):\n",
    "    ratio = (i/j)*100\n",
    "    result.append(ratio)\n",
    "result"
   ]
  },
  {
   "cell_type": "markdown",
   "id": "c27f00dc",
   "metadata": {},
   "source": [
    "We've got both of how many school in borough/ how many school in borough match with SAT scores condition => Now we will plot 2 graph: 1 is describe _the percentage of borough have school meet the SAT scores condition_, the remain is describe both of number of schools _before/ after filter with SAT scores condition_."
   ]
  },
  {
   "cell_type": "code",
   "execution_count": 81,
   "id": "0d0fd864",
   "metadata": {},
   "outputs": [],
   "source": [
    "# Set dataframe for the result:\n",
    "df3 = pd.DataFrame(index=key, data={'Original':count_ori,\n",
    "                              'With high SAT score':count_after,\n",
    "                                   'borough_fullname':['Manhattan','The Bronx','Brooklyn','Queens','State Island']})\n"
   ]
  },
  {
   "cell_type": "code",
   "execution_count": 82,
   "id": "796e94bf",
   "metadata": {},
   "outputs": [
    {
     "data": {
      "image/png": "[encoded data removed]",
      "text/plain": [
       "<Figure size 1440x576 with 2 Axes>"
      ]
     },
     "metadata": {
      "needs_background": "light"
     },
     "output_type": "display_data"
    }
   ],
   "source": [
    "# Combine plot:\n",
    "plt.figure(figsize=(20,8))\n",
    "plt.subplot(1,2,2)\n",
    "\n",
    "#Statistic plot: which school is 'good'?\n",
    "plt.barh(key, result, height = 0.3)\n",
    "plt.xlabel('Percentage of school follow SAT scores (%)')\n",
    "plt.ylabel('Borough')\n",
    "plt.yticks(ticks=[4,3,2,1,0],labels=['State Island','Queens','Brooklyn','Bronx','Manhattan'])\n",
    "\n",
    "plt.title('Percentage of schools amount in each borough\\n which have high SAT score')\n",
    "\n",
    "plt.subplot(1,2,1)\n",
    "#Plot graph to see the different of each borough:\n",
    "plt.barh(y=df3['borough_fullname'], width=df3['Original'],height=0.3, label='Original')\n",
    "plt.barh(y=df3['borough_fullname'], width=df3['With high SAT score'],align='edge',height=-0.3, label='With high SAT score')\n",
    "plt.xlabel('Number of schools')\n",
    "plt.ylabel('Borough')\n",
    "plt.yticks(ticks=[4,3,2,1,0],labels=['State Island','Queens','Brooklyn','Bronx','Manhattan'])\n",
    "\n",
    "plt.legend()\n",
    "plt.title('Distribution of number of school in each borough\\nfollowed by SAT scores')\n",
    "plt.show()"
   ]
  },
  {
   "cell_type": "markdown",
   "id": "5fea11cd",
   "metadata": {},
   "source": [
    "__CONCLUSION:__ We can see a lot of things here:\n",
    "- For State Island, due to the __sample size is small__ (<20 school), and the school with highSAT score is __approximately 50%__ => _we can't say State Island is borough with good high school_\n",
    "- By combine the result of distribution grpah by percentage and distribution grpah by number of schools, we can observe that Manhattan and Queen is two borough with good high school in, follow by these condition:\n",
    "1. __Sample size is much enough (>60 school)__\n",
    "2. The overview percentage (> 25%)\n",
    "3. The relational between Manhattan/ Queens result with other borough (the best among 5 borough)"
   ]
  },
  {
   "cell_type": "markdown",
   "id": "8b4ee516",
   "metadata": {},
   "source": [
    "__OVERALL CONCLUSION__:\n",
    "1. Have SAT result had any efficacy? Yes, but it's not as clear as sapphire\n",
    "- For __race/ religon__ : Which school have number of __naive French language speaker larger__, or tend to type of __not a professional academic__ have chance of SAT result lower\n",
    "- For __genre__: Not enough information (due to a very weak correlation)\n",
    "- For some factor of school: __Safety scores__ by student report? __YES__, especially combine to the result of which borough have good high school (Sub-mission 4)\n",
    "- In addtion, a class size which have __25 - 35 student/class__ tend to get higher SAT result (by its good positive correlation) => In range of 35 student/class: it's not matter of less or much class size, it's about what method to teaching of schools.\n",
    "2. Which borough tend to have good high school? (By get higher SAT score?):\n",
    "- What points of SAT scores is considering to be high? Above __1364 points (over 85% of the rest)__\n",
    "- Which borough match this condition? __Manhattan__ and __Queens__\n",
    "- Why State Island get good percentage of high SAT result but not list it to the result above? Because of its __too small sample size (<20 sample)__, and __the school which above 1364 points approximately 50%__ => is it bias result if we list State Island into our result??"
   ]
  }
 ],
 "metadata": {
  "kernelspec": {
   "display_name": "Python 3 (ipykernel)",
   "language": "python",
   "name": "python3"
  },
  "language_info": {
   "codemirror_mode": {
    "name": "ipython",
    "version": 3
   },
   "file_extension": ".py",
   "mimetype": "text/x-python",
   "name": "python",
   "nbconvert_exporter": "python",
   "pygments_lexer": "ipython3",
   "version": "3.9.11"
  }
 },
 "nbformat": 4,
 "nbformat_minor": 5
}
