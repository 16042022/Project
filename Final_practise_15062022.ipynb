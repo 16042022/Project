{
 "cells": [
  {
   "cell_type": "code",
   "execution_count": 1,
   "id": "a0b18260",
   "metadata": {},
   "outputs": [
    {
     "data": {
      "text/html": [
       "<table>\n",
       "<thead><tr><th scope=col>X</th><th scope=col>social</th><th scope=col>tele</th><th scope=col>newspaper</th><th scope=col>turnover</th></tr></thead>\n",
       "<tbody>\n",
       "\t<tr><td>1        </td><td>200.92   </td><td>142.17   </td><td>145.41   </td><td> 943.0419</td></tr>\n",
       "\t<tr><td>2        </td><td>156.26   </td><td>129.85   </td><td> 62.70   </td><td> 856.2597</td></tr>\n",
       "\t<tr><td>3        </td><td>124.38   </td><td>187.57   </td><td>140.04   </td><td> 964.9689</td></tr>\n",
       "\t<tr><td>4        </td><td>157.69   </td><td>187.48   </td><td>143.94   </td><td>1017.4412</td></tr>\n",
       "\t<tr><td>5        </td><td>158.23   </td><td>222.41   </td><td>116.04   </td><td>1115.2990</td></tr>\n",
       "\t<tr><td>6        </td><td>132.48   </td><td>181.55   </td><td>119.84   </td><td> 932.3739</td></tr>\n",
       "</tbody>\n",
       "</table>\n"
      ],
      "text/latex": [
       "\\begin{tabular}{r|lllll}\n",
       " X & social & tele & newspaper & turnover\\\\\n",
       "\\hline\n",
       "\t 1         & 200.92    & 142.17    & 145.41    &  943.0419\\\\\n",
       "\t 2         & 156.26    & 129.85    &  62.70    &  856.2597\\\\\n",
       "\t 3         & 124.38    & 187.57    & 140.04    &  964.9689\\\\\n",
       "\t 4         & 157.69    & 187.48    & 143.94    & 1017.4412\\\\\n",
       "\t 5         & 158.23    & 222.41    & 116.04    & 1115.2990\\\\\n",
       "\t 6         & 132.48    & 181.55    & 119.84    &  932.3739\\\\\n",
       "\\end{tabular}\n"
      ],
      "text/markdown": [
       "\n",
       "| X | social | tele | newspaper | turnover |\n",
       "|---|---|---|---|---|\n",
       "| 1         | 200.92    | 142.17    | 145.41    |  943.0419 |\n",
       "| 2         | 156.26    | 129.85    |  62.70    |  856.2597 |\n",
       "| 3         | 124.38    | 187.57    | 140.04    |  964.9689 |\n",
       "| 4         | 157.69    | 187.48    | 143.94    | 1017.4412 |\n",
       "| 5         | 158.23    | 222.41    | 116.04    | 1115.2990 |\n",
       "| 6         | 132.48    | 181.55    | 119.84    |  932.3739 |\n",
       "\n"
      ],
      "text/plain": [
       "  X social tele   newspaper turnover \n",
       "1 1 200.92 142.17 145.41     943.0419\n",
       "2 2 156.26 129.85  62.70     856.2597\n",
       "3 3 124.38 187.57 140.04     964.9689\n",
       "4 4 157.69 187.48 143.94    1017.4412\n",
       "5 5 158.23 222.41 116.04    1115.2990\n",
       "6 6 132.48 181.55 119.84     932.3739"
      ]
     },
     "metadata": {},
     "output_type": "display_data"
    }
   ],
   "source": [
    "sale <- read.csv('marketing_sales.csv')\n",
    "head(sale)"
   ]
  },
  {
   "cell_type": "code",
   "execution_count": null,
   "id": "f4c8c1e2",
   "metadata": {},
   "outputs": [],
   "source": [
    "## Explain some metric:\n",
    "# Turnover: the revenue that a company get from customer, by various method of sales...\n",
    "#Social, telte, newspaper: some of sale method\n",
    "#Purpose: Throughout 3 different sale method, what's method is efficent to Turnover metric?"
   ]
  },
  {
   "cell_type": "code",
   "execution_count": null,
   "id": "b4f6b1b0",
   "metadata": {},
   "outputs": [],
   "source": [
    "# Data information:\n",
    "# By the records and its fields, due to the factor of binary decision or time-series is not exists \n",
    "# => we can use of linear/non-linear regression "
   ]
  },
  {
   "cell_type": "code",
   "execution_count": 2,
   "id": "bdb9ed45",
   "metadata": {},
   "outputs": [
    {
     "data": {
      "text/html": [
       "<ol class=list-inline>\n",
       "\t<li>200</li>\n",
       "\t<li>5</li>\n",
       "</ol>\n"
      ],
      "text/latex": [
       "\\begin{enumerate*}\n",
       "\\item 200\n",
       "\\item 5\n",
       "\\end{enumerate*}\n"
      ],
      "text/markdown": [
       "1. 200\n",
       "2. 5\n",
       "\n",
       "\n"
      ],
      "text/plain": [
       "[1] 200   5"
      ]
     },
     "metadata": {},
     "output_type": "display_data"
    }
   ],
   "source": [
    "dim(sale)"
   ]
  },
  {
   "cell_type": "code",
   "execution_count": 4,
   "id": "5ebb1793",
   "metadata": {},
   "outputs": [
    {
     "data": {
      "text/html": [
       "<table>\n",
       "<thead><tr><th></th><th scope=col>X</th><th scope=col>social</th><th scope=col>tele</th><th scope=col>newspaper</th><th scope=col>turnover</th></tr></thead>\n",
       "<tbody>\n",
       "\t<tr><th scope=row>X</th><td> 1.00000000 </td><td>-0.04977015 </td><td>-0.03918551 </td><td>-0.177473371</td><td>-0.047532656</td></tr>\n",
       "\t<tr><th scope=row>social</th><td>-0.04977015 </td><td> 1.00000000 </td><td> 0.08401121 </td><td> 0.047806059</td><td> 0.487083735</td></tr>\n",
       "\t<tr><th scope=row>tele</th><td>-0.03918551 </td><td> 0.08401121 </td><td> 1.00000000 </td><td>-0.039579633</td><td> 0.903092760</td></tr>\n",
       "\t<tr><th scope=row>newspaper</th><td>-0.17747337 </td><td> 0.04780606 </td><td>-0.03957963 </td><td> 1.000000000</td><td>-0.002900308</td></tr>\n",
       "\t<tr><th scope=row>turnover</th><td>-0.04753266 </td><td> 0.48708374 </td><td> 0.90309276 </td><td>-0.002900308</td><td> 1.000000000</td></tr>\n",
       "</tbody>\n",
       "</table>\n"
      ],
      "text/latex": [
       "\\begin{tabular}{r|lllll}\n",
       "  & X & social & tele & newspaper & turnover\\\\\n",
       "\\hline\n",
       "\tX &  1.00000000  & -0.04977015  & -0.03918551  & -0.177473371 & -0.047532656\\\\\n",
       "\tsocial & -0.04977015  &  1.00000000  &  0.08401121  &  0.047806059 &  0.487083735\\\\\n",
       "\ttele & -0.03918551  &  0.08401121  &  1.00000000  & -0.039579633 &  0.903092760\\\\\n",
       "\tnewspaper & -0.17747337  &  0.04780606  & -0.03957963  &  1.000000000 & -0.002900308\\\\\n",
       "\tturnover & -0.04753266  &  0.48708374  &  0.90309276  & -0.002900308 &  1.000000000\\\\\n",
       "\\end{tabular}\n"
      ],
      "text/markdown": [
       "\n",
       "| <!--/--> | X | social | tele | newspaper | turnover |\n",
       "|---|---|---|---|---|---|\n",
       "| X |  1.00000000  | -0.04977015  | -0.03918551  | -0.177473371 | -0.047532656 |\n",
       "| social | -0.04977015  |  1.00000000  |  0.08401121  |  0.047806059 |  0.487083735 |\n",
       "| tele | -0.03918551  |  0.08401121  |  1.00000000  | -0.039579633 |  0.903092760 |\n",
       "| newspaper | -0.17747337  |  0.04780606  | -0.03957963  |  1.000000000 | -0.002900308 |\n",
       "| turnover | -0.04753266  |  0.48708374  |  0.90309276  | -0.002900308 |  1.000000000 |\n",
       "\n"
      ],
      "text/plain": [
       "          X           social      tele        newspaper    turnover    \n",
       "X          1.00000000 -0.04977015 -0.03918551 -0.177473371 -0.047532656\n",
       "social    -0.04977015  1.00000000  0.08401121  0.047806059  0.487083735\n",
       "tele      -0.03918551  0.08401121  1.00000000 -0.039579633  0.903092760\n",
       "newspaper -0.17747337  0.04780606 -0.03957963  1.000000000 -0.002900308\n",
       "turnover  -0.04753266  0.48708374  0.90309276 -0.002900308  1.000000000"
      ]
     },
     "metadata": {},
     "output_type": "display_data"
    }
   ],
   "source": [
    "#Define correlation:\n",
    "cor(sale, method='pearson')"
   ]
  },
  {
   "cell_type": "code",
   "execution_count": 5,
   "id": "48908155",
   "metadata": {},
   "outputs": [
    {
     "data": {
      "image/png": "[encoded data removed]",
      "text/plain": [
       "plot without title"
      ]
     },
     "metadata": {},
     "output_type": "display_data"
    }
   ],
   "source": [
    "revenue <- sale$turnover\n",
    "social <- sale$social\n",
    "tele <- sale$tele\n",
    "ordi <- sale$newspaper\n",
    "plot(tele, revenue, xlab='telesale', ylab='revenue')"
   ]
  },
  {
   "cell_type": "code",
   "execution_count": null,
   "id": "1ea858c1",
   "metadata": {},
   "outputs": [],
   "source": [
    "# By the scatter plot, revenue have trend to increasing by goods sold through telesale => We can check the model for it"
   ]
  },
  {
   "cell_type": "code",
   "execution_count": 6,
   "id": "2b084a1b",
   "metadata": {},
   "outputs": [
    {
     "data": {
      "text/plain": [
       "\n",
       "Call:\n",
       "lm(formula = revenue ~ tele, data = sale)\n",
       "\n",
       "Residuals:\n",
       "     Min       1Q   Median       3Q      Max \n",
       "-181.504  -32.874    2.386   34.283  134.180 \n",
       "\n",
       "Coefficients:\n",
       "             Estimate Std. Error t value Pr(>|t|)    \n",
       "(Intercept) 467.45415   17.01935   27.47   <2e-16 ***\n",
       "tele          2.83909    0.09594   29.59   <2e-16 ***\n",
       "---\n",
       "Signif. codes:  0 '***' 0.001 '**' 0.01 '*' 0.05 '.' 0.1 ' ' 1\n",
       "\n",
       "Residual standard error: 52.82 on 198 degrees of freedom\n",
       "Multiple R-squared:  0.8156,\tAdjusted R-squared:  0.8146 \n",
       "F-statistic: 875.6 on 1 and 198 DF,  p-value: < 2.2e-16\n"
      ]
     },
     "metadata": {},
     "output_type": "display_data"
    }
   ],
   "source": [
    "model1 <- lm(revenue~tele, data=sale)\n",
    "summary(model1)"
   ]
  },
  {
   "cell_type": "code",
   "execution_count": null,
   "id": "43c4fb4b",
   "metadata": {},
   "outputs": [],
   "source": [
    "#Let's explain this result:\n",
    "# Median is get over 0 and greater than 2 => We should check this model by mean of variance condition\n",
    "# 'tele' variable have P-value less than 0.05 => this variable have statistic signfinication\n",
    "# Overall p-value of model is less than 0.05 => this model have statistic signification\n",
    "# As expected, the revenue is positive linear relation with 'tele' by 2,83 times. It mean that for each goods sold by telesale\n",
    "# the revenue turn back could increase 2.83 units (revenue)\n",
    "# this model can explain 81% data, it such that 81% revenue back to company could be consider by telesale"
   ]
  },
  {
   "cell_type": "code",
   "execution_count": 7,
   "id": "e0a3f35b",
   "metadata": {},
   "outputs": [
    {
     "data": {
      "image/png": "[encoded data removed]",
      "text/plain": [
       "Plot with title \"\""
      ]
     },
     "metadata": {},
     "output_type": "display_data"
    }
   ],
   "source": [
    "par(mfrow=c(2,2))\n",
    "plot(model1)"
   ]
  },
  {
   "cell_type": "code",
   "execution_count": null,
   "id": "58cf6041",
   "metadata": {},
   "outputs": [],
   "source": [
    "#By the plot result:\n",
    "# Residual-Fitted: The red line is closely to match with y = 0 => have sign of linear relation \n",
    "# The Q-Q plot also tell us the residual distribution could be Normal, because it gather on one line\n",
    "# By the Leverage plot, we can consider that in this model, we have not any point consider as outliers\n",
    "# By the Scale-Location plot (check for condition of constant variance), we can see:\n",
    "#1. The red line is not a perfect horizontal line => we will check variance constant by hypothesis test below\n",
    "#2. The fitted value gather not much as equal for all range in fitted value => back to 1."
   ]
  },
  {
   "cell_type": "code",
   "execution_count": 9,
   "id": "399a5cb7",
   "metadata": {},
   "outputs": [
    {
     "data": {
      "text/plain": [
       "Non-constant Variance Score Test \n",
       "Variance formula: ~ fitted.values \n",
       "Chisquare = 6.768474, Df = 1, p = 0.0092782"
      ]
     },
     "metadata": {},
     "output_type": "display_data"
    }
   ],
   "source": [
    "library(car)\n",
    "ncvTest(model1)"
   ]
  },
  {
   "cell_type": "code",
   "execution_count": null,
   "id": "b8e799ed",
   "metadata": {},
   "outputs": [],
   "source": [
    "#By the check: p-value <0.05 => this model exactly have vary variance => we would try other model\n",
    "# Before that, we will check for residual = 0 to see if this model totally can't use"
   ]
  },
  {
   "cell_type": "code",
   "execution_count": 10,
   "id": "d17ac0e2",
   "metadata": {},
   "outputs": [
    {
     "data": {
      "text/plain": [
       "\n",
       "\tOne Sample t-test\n",
       "\n",
       "data:  res\n",
       "t = -1.9372e-16, df = 199, p-value = 1\n",
       "alternative hypothesis: true mean is not equal to 0\n",
       "95 percent confidence interval:\n",
       " -7.346033  7.346033\n",
       "sample estimates:\n",
       "   mean of x \n",
       "-7.21645e-16 \n"
      ]
     },
     "metadata": {},
     "output_type": "display_data"
    }
   ],
   "source": [
    "res<- residuals(model1)\n",
    "t.test(res, mu=0)"
   ]
  },
  {
   "cell_type": "code",
   "execution_count": null,
   "id": "afcdcc7c",
   "metadata": {},
   "outputs": [],
   "source": [
    "# Even thought this model pass other condition but it have varies variance => could be lead to systemize changed error\n",
    "# We will try to use other model"
   ]
  },
  {
   "cell_type": "code",
   "execution_count": 11,
   "id": "8022abbc",
   "metadata": {},
   "outputs": [
    {
     "data": {
      "text/plain": [
       "\n",
       "Call:\n",
       "lm(formula = revenue ~ social + tele, data = sale)\n",
       "\n",
       "Residuals:\n",
       "    Min      1Q  Median      3Q     Max \n",
       "-38.589  -9.631   0.468   9.658  38.351 \n",
       "\n",
       "Coefficients:\n",
       "             Estimate Std. Error t value Pr(>|t|)    \n",
       "(Intercept) 207.06397    7.13046   29.04   <2e-16 ***\n",
       "social        1.86966    0.03836   48.74   <2e-16 ***\n",
       "tele          2.72971    0.02671  102.18   <2e-16 ***\n",
       "---\n",
       "Signif. codes:  0 '***' 0.001 '**' 0.01 '*' 0.05 '.' 0.1 ' ' 1\n",
       "\n",
       "Residual standard error: 14.65 on 197 degrees of freedom\n",
       "Multiple R-squared:  0.9859,\tAdjusted R-squared:  0.9857 \n",
       "F-statistic:  6875 on 2 and 197 DF,  p-value: < 2.2e-16\n"
      ]
     },
     "metadata": {},
     "output_type": "display_data"
    }
   ],
   "source": [
    "model2<- lm(revenue~social+tele, data=sale)\n",
    "summary(model2)"
   ]
  },
  {
   "cell_type": "code",
   "execution_count": null,
   "id": "a56daf18",
   "metadata": {},
   "outputs": [],
   "source": [
    "# By the glance, we can see the median of overall model is closer to 0, and\n",
    "# P-value for all variable is less than 0.05 => this model overall have statistic signification\n",
    "# This model could explain up to 98% dataset, it mean that for revenue got back to company, 98% of it will come by `tele` & `social` method\n",
    "# For each goods sold, revenue will up 1.86 times by social and 2.79 times by tele\n",
    "# Because this is linear regression with multi-variable, we should check for the multicollinear events"
   ]
  },
  {
   "cell_type": "code",
   "execution_count": 12,
   "id": "11701e1c",
   "metadata": {},
   "outputs": [
    {
     "data": {
      "text/html": [
       "<dl class=dl-horizontal>\n",
       "\t<dt>social</dt>\n",
       "\t\t<dd>1.00710805179269</dd>\n",
       "\t<dt>tele</dt>\n",
       "\t\t<dd>1.00710805179269</dd>\n",
       "</dl>\n"
      ],
      "text/latex": [
       "\\begin{description*}\n",
       "\\item[social] 1.00710805179269\n",
       "\\item[tele] 1.00710805179269\n",
       "\\end{description*}\n"
      ],
      "text/markdown": [
       "social\n",
       ":   1.00710805179269tele\n",
       ":   1.00710805179269\n",
       "\n"
      ],
      "text/plain": [
       "  social     tele \n",
       "1.007108 1.007108 "
      ]
     },
     "metadata": {},
     "output_type": "display_data"
    }
   ],
   "source": [
    "car::vif(model2)"
   ]
  },
  {
   "cell_type": "code",
   "execution_count": null,
   "id": "a5412858",
   "metadata": {},
   "outputs": [],
   "source": [
    "# Condition of multicollinear is done, this model could be use to check other condition"
   ]
  },
  {
   "cell_type": "code",
   "execution_count": 13,
   "id": "04365b48",
   "metadata": {},
   "outputs": [
    {
     "data": {
      "image/png": "[encoded data removed]",
      "text/plain": [
       "Plot with title \"\""
      ]
     },
     "metadata": {},
     "output_type": "display_data"
    }
   ],
   "source": [
    "par(mfrow=c(2,2))\n",
    "plot(model2)"
   ]
  },
  {
   "cell_type": "code",
   "execution_count": null,
   "id": "91591cc5",
   "metadata": {},
   "outputs": [],
   "source": [
    "#We can see the improvement by add one more variable in regression model\n",
    "# Beside of the Residuals-Fitted a little not horizontal, Q-Q plot still show us sign of normal distribution for residual of this model\n",
    "# Scale-Location graph show us the improvement, when the red line is somewhat is horizontal, \n",
    "#and the spread fitted value gather around somewhat not vary by function of fitted value => we still check constant variance to get clearly\n",
    "# By the Leverage plot, there's no signification outliers in our model"
   ]
  },
  {
   "cell_type": "code",
   "execution_count": 14,
   "id": "932ebda0",
   "metadata": {},
   "outputs": [
    {
     "data": {
      "text/plain": [
       "\n",
       "\tOne Sample t-test\n",
       "\n",
       "data:  res2\n",
       "t = 1.189e-15, df = 199, p-value = 1\n",
       "alternative hypothesis: true mean is not equal to 0\n",
       "95 percent confidence interval:\n",
       " -2.032987  2.032987\n",
       "sample estimates:\n",
       "   mean of x \n",
       "1.225825e-15 \n"
      ]
     },
     "metadata": {},
     "output_type": "display_data"
    }
   ],
   "source": [
    "res2 <- residuals(model2)\n",
    "t.test(res2, mu=0)"
   ]
  },
  {
   "cell_type": "code",
   "execution_count": 15,
   "id": "b580e00b",
   "metadata": {},
   "outputs": [
    {
     "data": {
      "text/plain": [
       "Non-constant Variance Score Test \n",
       "Variance formula: ~ fitted.values \n",
       "Chisquare = 0.2402166, Df = 1, p = 0.62405"
      ]
     },
     "metadata": {},
     "output_type": "display_data"
    }
   ],
   "source": [
    "ncvTest(model2) #(p-value >0.05 => we can't reject null hypothesis, and the variance is constant)"
   ]
  },
  {
   "cell_type": "code",
   "execution_count": 16,
   "id": "74605642",
   "metadata": {},
   "outputs": [
    {
     "data": {
      "text/plain": [
       "\n",
       "\tShapiro-Wilk normality test\n",
       "\n",
       "data:  res2\n",
       "W = 0.9945, p-value = 0.676\n"
      ]
     },
     "metadata": {},
     "output_type": "display_data"
    }
   ],
   "source": [
    "shapiro.test(res2)"
   ]
  },
  {
   "cell_type": "code",
   "execution_count": null,
   "id": "bef1854a",
   "metadata": {},
   "outputs": [],
   "source": [
    "#All of remain test condition have satisfied, this model could be use to predict"
   ]
  },
  {
   "cell_type": "code",
   "execution_count": null,
   "id": "68561272",
   "metadata": {},
   "outputs": [],
   "source": [
    "# So, the final model could be\n",
    "# Turnover = 1.86966*Social + 2.72971*Tele + 207.06397\n",
    "# We could check what is the important factor in this model, and build a sample test to see what happend"
   ]
  },
  {
   "cell_type": "code",
   "execution_count": 20,
   "id": "5bc24540",
   "metadata": {},
   "outputs": [
    {
     "name": "stderr",
     "output_type": "stream",
     "text": [
      "Registered S3 methods overwritten by 'ggplot2':\n",
      "  method         from \n",
      "  [.quosures     rlang\n",
      "  c.quosures     rlang\n",
      "  print.quosures rlang\n"
     ]
    },
    {
     "data": {
      "text/html": [
       "<table>\n",
       "<thead><tr><th></th><th scope=col>Overall</th></tr></thead>\n",
       "<tbody>\n",
       "\t<tr><th scope=row>social</th><td> 48.7359</td></tr>\n",
       "\t<tr><th scope=row>tele</th><td>102.1822</td></tr>\n",
       "</tbody>\n",
       "</table>\n"
      ],
      "text/latex": [
       "\\begin{tabular}{r|l}\n",
       "  & Overall\\\\\n",
       "\\hline\n",
       "\tsocial &  48.7359\\\\\n",
       "\ttele & 102.1822\\\\\n",
       "\\end{tabular}\n"
      ],
      "text/markdown": [
       "\n",
       "| <!--/--> | Overall |\n",
       "|---|---|\n",
       "| social |  48.7359 |\n",
       "| tele | 102.1822 |\n",
       "\n"
      ],
      "text/plain": [
       "       Overall \n",
       "social  48.7359\n",
       "tele   102.1822"
      ]
     },
     "metadata": {},
     "output_type": "display_data"
    }
   ],
   "source": [
    "caret::varImp(model2)"
   ]
  },
  {
   "cell_type": "code",
   "execution_count": 21,
   "id": "b5d582db",
   "metadata": {},
   "outputs": [
    {
     "data": {
      "text/html": [
       "<strong>1:</strong> 1687.83431389378"
      ],
      "text/latex": [
       "\\textbf{1:} 1687.83431389378"
      ],
      "text/markdown": [
       "**1:** 1687.83431389378"
      ],
      "text/plain": [
       "       1 \n",
       "1687.834 "
      ]
     },
     "metadata": {},
     "output_type": "display_data"
    }
   ],
   "source": [
    "new_data<- data.frame(social=500, tele=200)\n",
    "predict(model2, new_data, type='response')"
   ]
  },
  {
   "cell_type": "code",
   "execution_count": 22,
   "id": "b258cb51",
   "metadata": {},
   "outputs": [
    {
     "data": {
      "text/html": [
       "<strong>1:</strong> 2233.77610482073"
      ],
      "text/latex": [
       "\\textbf{1:} 2233.77610482073"
      ],
      "text/markdown": [
       "**1:** 2233.77610482073"
      ],
      "text/plain": [
       "       1 \n",
       "2233.776 "
      ]
     },
     "metadata": {},
     "output_type": "display_data"
    }
   ],
   "source": [
    "new_data2<- data.frame(social=500, tele=400)\n",
    "predict(model2, new_data2, type='response')"
   ]
  },
  {
   "cell_type": "code",
   "execution_count": null,
   "id": "51e6ead0",
   "metadata": {},
   "outputs": [],
   "source": [
    "#So, we can see that, both Social and Telesale is the method that bring revenue back to company\n",
    "# But the telesale method could be concetrated more while it bring to company much more revenue than Social, but overall, we will keep both\n",
    "# The newspaper method could be stopped, due to the relation of revenue to newspaper method is negative and not much clear to admit"
   ]
  }
 ],
 "metadata": {
  "kernelspec": {
   "display_name": "R",
   "language": "R",
   "name": "ir"
  },
  "language_info": {
   "codemirror_mode": "r",
   "file_extension": ".r",
   "mimetype": "text/x-r-source",
   "name": "R",
   "pygments_lexer": "r",
   "version": "3.6.1"
  }
 },
 "nbformat": 4,
 "nbformat_minor": 5
}
